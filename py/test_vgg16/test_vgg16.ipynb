{
 "metadata": {
  "language_info": {
   "codemirror_mode": {
    "name": "ipython",
    "version": 3
   },
   "file_extension": ".py",
   "mimetype": "text/x-python",
   "name": "python",
   "nbconvert_exporter": "python",
   "pygments_lexer": "ipython3",
   "version": "3.6.13"
  },
  "orig_nbformat": 2,
  "kernelspec": {
   "name": "python3613jvsc74a57bd0296bba369c12f2a092f767976c09cfbc8c85eb31befb7c7878fa91c761923a58",
   "display_name": "Python 3.6.13 64-bit ('lego': conda)"
  },
  "metadata": {
   "interpreter": {
    "hash": "296bba369c12f2a092f767976c09cfbc8c85eb31befb7c7878fa91c761923a58"
   }
  }
 },
 "nbformat": 4,
 "nbformat_minor": 2,
 "cells": [
  {
   "source": [
    "## Diplomski rad - Klasificiranje LEGO kocaka koristeći neuronske mreže"
   ],
   "cell_type": "markdown",
   "metadata": {}
  },
  {
   "source": [
    "Rad se izvodi koristeći PlaidML za AMD GPU preko Keras-a"
   ],
   "cell_type": "markdown",
   "metadata": {}
  },
  {
   "cell_type": "code",
   "execution_count": 1,
   "metadata": {},
   "outputs": [],
   "source": [
    "import os\n",
    "os.environ[\"KERAS_BACKEND\"] = \"plaidml.keras.backend\""
   ]
  },
  {
   "source": [
    "Promijene vezane za PlaidML se mogu izvesti sa pokretanjem `plaidml-setup` u powershell-u\n",
    "\n",
    "Sve sljedece linije ce se spominjati na Engleskom jeziku zbog jednostavnosti i istoznacnosti sa programskim ködom na engleskom jeziku"
   ],
   "cell_type": "markdown",
   "metadata": {}
  },
  {
   "cell_type": "code",
   "execution_count": 2,
   "metadata": {},
   "outputs": [
    {
     "output_type": "stream",
     "name": "stderr",
     "text": [
      "Using plaidml.keras.backend backend.\n",
      "C:\\Users\\Anto\\anaconda3\\envs\\lego\\lib\\site-packages\\tensorflow\\python\\framework\\dtypes.py:526: FutureWarning: Passing (type, 1) or '1type' as a synonym of type is deprecated; in a future version of numpy, it will be understood as (type, (1,)) / '(1,)type'.\n",
      "  _np_qint8 = np.dtype([(\"qint8\", np.int8, 1)])\n",
      "C:\\Users\\Anto\\anaconda3\\envs\\lego\\lib\\site-packages\\tensorflow\\python\\framework\\dtypes.py:527: FutureWarning: Passing (type, 1) or '1type' as a synonym of type is deprecated; in a future version of numpy, it will be understood as (type, (1,)) / '(1,)type'.\n",
      "  _np_quint8 = np.dtype([(\"quint8\", np.uint8, 1)])\n",
      "C:\\Users\\Anto\\anaconda3\\envs\\lego\\lib\\site-packages\\tensorflow\\python\\framework\\dtypes.py:528: FutureWarning: Passing (type, 1) or '1type' as a synonym of type is deprecated; in a future version of numpy, it will be understood as (type, (1,)) / '(1,)type'.\n",
      "  _np_qint16 = np.dtype([(\"qint16\", np.int16, 1)])\n",
      "C:\\Users\\Anto\\anaconda3\\envs\\lego\\lib\\site-packages\\tensorflow\\python\\framework\\dtypes.py:529: FutureWarning: Passing (type, 1) or '1type' as a synonym of type is deprecated; in a future version of numpy, it will be understood as (type, (1,)) / '(1,)type'.\n",
      "  _np_quint16 = np.dtype([(\"quint16\", np.uint16, 1)])\n",
      "C:\\Users\\Anto\\anaconda3\\envs\\lego\\lib\\site-packages\\tensorflow\\python\\framework\\dtypes.py:530: FutureWarning: Passing (type, 1) or '1type' as a synonym of type is deprecated; in a future version of numpy, it will be understood as (type, (1,)) / '(1,)type'.\n",
      "  _np_qint32 = np.dtype([(\"qint32\", np.int32, 1)])\n",
      "C:\\Users\\Anto\\anaconda3\\envs\\lego\\lib\\site-packages\\tensorflow\\python\\framework\\dtypes.py:535: FutureWarning: Passing (type, 1) or '1type' as a synonym of type is deprecated; in a future version of numpy, it will be understood as (type, (1,)) / '(1,)type'.\n",
      "  np_resource = np.dtype([(\"resource\", np.ubyte, 1)])\n"
     ]
    }
   ],
   "source": [
    "import numpy as np\n",
    "import keras\n",
    "from matplotlib import pyplot as plt\n",
    "import cv2\n",
    "\n",
    "from tensorflow.keras.applications.vgg16 import VGG16"
   ]
  },
  {
   "cell_type": "code",
   "execution_count": 3,
   "metadata": {},
   "outputs": [],
   "source": [
    "dataset_path = \"../../LEGO_brick_images_v1/\"\n",
    "dataset_output = \"./output\""
   ]
  },
  {
   "cell_type": "code",
   "execution_count": 4,
   "metadata": {},
   "outputs": [
    {
     "output_type": "execute_result",
     "data": {
      "text/plain": [
       "['train', 'val']"
      ]
     },
     "metadata": {},
     "execution_count": 4
    }
   ],
   "source": [
    "#if you want you can run this once, but some randomness can be good\n",
    "import splitfolders\n",
    "splitfolders.ratio(dataset_path, output=dataset_output, ratio=(.7, .3))\n",
    "\n",
    "os.listdir(dataset_output)"
   ]
  },
  {
   "cell_type": "code",
   "execution_count": 4,
   "metadata": {
    "tags": []
   },
   "outputs": [
    {
     "output_type": "stream",
     "name": "stdout",
     "text": [
      "Found 2785 images belonging to 10 classes.\n",
      "Found 1194 images belonging to 10 classes.\n",
      "10\n"
     ]
    }
   ],
   "source": [
    "from keras.preprocessing.image import ImageDataGenerator\n",
    "from tensorflow.keras.preprocessing import image\n",
    "from tensorflow.keras.applications.vgg16 import preprocess_input #required to format input\n",
    "\n",
    "\"\"\" train_datagen = ImageDataGenerator(\n",
    "    rescale=1./255,\n",
    "    shear_range=0.2,\n",
    "    zoom_range=0.2,\n",
    "    width_shift_range=0.2,\n",
    "    height_shift_range=0.2\n",
    ") \"\"\"\n",
    "train_datagen = ImageDataGenerator(\n",
    "    zoom_range=0.2,\n",
    "    preprocessing_function=preprocess_input\n",
    ")\n",
    "validation_datagen = ImageDataGenerator(\n",
    "    preprocessing_function=preprocess_input\n",
    ")\n",
    "\n",
    "train_generator = train_datagen.flow_from_directory(os.path.join(dataset_output,'train'), target_size=(200,200), shuffle=True, class_mode=\"categorical\")\n",
    "validation_generator = validation_datagen.flow_from_directory(os.path.join(dataset_output, 'val'), target_size=(200,200), shuffle=True, class_mode='categorical')\n",
    "\n",
    "\n",
    "print(len(train_generator.class_indices))"
   ]
  },
  {
   "cell_type": "code",
   "execution_count": 9,
   "metadata": {},
   "outputs": [
    {
     "output_type": "error",
     "ename": "TypeError",
     "evalue": "'Tensor' object is not callable",
     "traceback": [
      "\u001b[1;31m---------------------------------------------------------------------------\u001b[0m",
      "\u001b[1;31mTypeError\u001b[0m                                 Traceback (most recent call last)",
      "\u001b[1;32m<ipython-input-9-8036f714c01a>\u001b[0m in \u001b[0;36m<module>\u001b[1;34m()\u001b[0m\n\u001b[0;32m      8\u001b[0m \u001b[1;33m\u001b[0m\u001b[0m\n\u001b[0;32m      9\u001b[0m \u001b[1;33m\u001b[0m\u001b[0m\n\u001b[1;32m---> 10\u001b[1;33m \u001b[0mmodel\u001b[0m \u001b[1;33m=\u001b[0m \u001b[0mvgg16_model\u001b[0m\u001b[1;33m.\u001b[0m\u001b[0moutput\u001b[0m\u001b[1;33m(\u001b[0m\u001b[1;33m)\u001b[0m\u001b[1;33m\u001b[0m\u001b[1;33m\u001b[0m\u001b[0m\n\u001b[0m\u001b[0;32m     11\u001b[0m \u001b[0mmodel\u001b[0m \u001b[1;33m=\u001b[0m \u001b[0mFlatten\u001b[0m\u001b[1;33m(\u001b[0m\u001b[1;33m)\u001b[0m\u001b[1;33m(\u001b[0m\u001b[0mmodel\u001b[0m\u001b[1;33m)\u001b[0m\u001b[1;33m\u001b[0m\u001b[1;33m\u001b[0m\u001b[0m\n\u001b[0;32m     12\u001b[0m \u001b[0mmodel\u001b[0m \u001b[1;33m=\u001b[0m \u001b[0mDense\u001b[0m\u001b[1;33m(\u001b[0m\u001b[1;36m128\u001b[0m\u001b[1;33m,\u001b[0m \u001b[0mactivation\u001b[0m\u001b[1;33m=\u001b[0m\u001b[1;34m\"relu\"\u001b[0m\u001b[1;33m)\u001b[0m\u001b[1;33m(\u001b[0m\u001b[0mmodel\u001b[0m\u001b[1;33m)\u001b[0m\u001b[1;33m\u001b[0m\u001b[1;33m\u001b[0m\u001b[0m\n",
      "\u001b[1;31mTypeError\u001b[0m: 'Tensor' object is not callable"
     ]
    }
   ],
   "source": [
    "from keras.layers import Conv2D, MaxPooling2D, Flatten, Dense, Dropout\n",
    "from keras.models import Model, Sequential\n",
    "vgg16_model = VGG16(weights='imagenet', include_top=False, input_shape=(200,200,3))\n",
    "\n",
    "#freeze layers\n",
    "for layer in vgg16_model.layers:\n",
    "    layer.trainable = False\n",
    "\n",
    "#TODO: make work work\n",
    "model = vgg16_model.output\n",
    "model = Flatten()(model)\n",
    "model = Dense(128, activation=\"relu\")(model)\n",
    "model = Dropout(0.4)(model)\n",
    "model = Dense(64, activation=\"relu\")(model)\n",
    "model = Dense(len(train_generator.class_indices), activation=\"softmax\")(model)\n",
    "\n",
    "model.summary()"
   ]
  },
  {
   "cell_type": "code",
   "execution_count": 40,
   "metadata": {},
   "outputs": [
    {
     "output_type": "stream",
     "name": "stderr",
     "text": [
      "C:\\Users\\Anto\\anaconda3\\envs\\lego\\lib\\site-packages\\keras\\callbacks.py:756: UserWarning: You are not using the TensorFlow backend. write_graph was set to False\n  warnings.warn('You are not using the TensorFlow backend. '\n"
     ]
    }
   ],
   "source": [
    "from keras.callbacks import ModelCheckpoint,EarlyStopping,TensorBoard,CSVLogger,ReduceLROnPlateau\n",
    "\n",
    "best_model_weights = './base.model'\n",
    "checkpoint = ModelCheckpoint(\n",
    "    best_model_weights,\n",
    "    monitor='val_loss',\n",
    "    verbose=1,\n",
    "    save_best_only=True,\n",
    "    mode='min',\n",
    "    save_weights_only=False,\n",
    "    period=1\n",
    ")\n",
    "earlystop = EarlyStopping(\n",
    "    monitor='val_loss',\n",
    "    min_delta=0.001,\n",
    "    patience=5,\n",
    "    verbose=1,\n",
    "    mode='auto'\n",
    ")\n",
    "tensorboard = TensorBoard(\n",
    "    log_dir = './logs',\n",
    "    histogram_freq=0,\n",
    "    batch_size=16,\n",
    "    write_graph=True,\n",
    "    write_grads=True,\n",
    "    write_images=False,\n",
    ")\n",
    "\n",
    "csvlogger = CSVLogger(\n",
    "    filename= \"training_csv.log\",\n",
    "    separator = \",\",\n",
    "    append = False\n",
    ")\n",
    "\n",
    "\n",
    "reduce = ReduceLROnPlateau(\n",
    "    monitor='val_loss',\n",
    "    factor=0.2,\n",
    "    patience=5,\n",
    "    verbose=1, \n",
    "    mode='auto',\n",
    "    cooldown=1 \n",
    ")\n",
    "\n",
    "callbacks = [checkpoint,tensorboard,csvlogger,reduce]"
   ]
  },
  {
   "cell_type": "code",
   "execution_count": 41,
   "metadata": {
    "tags": []
   },
   "outputs": [
    {
     "output_type": "stream",
     "name": "stdout",
     "text": [
      "Epoch 1/100\n",
      "100/100 [==============================] - 74s 739ms/step - loss: 2.2466 - acc: 0.1388 - val_loss: 2.1383 - val_acc: 0.3061\n",
      "\n",
      "Epoch 00001: val_loss improved from inf to 2.13829, saving model to ./base.model\n",
      "Epoch 2/100\n",
      "100/100 [==============================] - 41s 414ms/step - loss: 2.1667 - acc: 0.1893 - val_loss: 2.0730 - val_acc: 0.2757\n",
      "\n",
      "Epoch 00002: val_loss improved from 2.13829 to 2.07297, saving model to ./base.model\n",
      "Epoch 3/100\n",
      "100/100 [==============================] - 42s 415ms/step - loss: 2.1485 - acc: 0.1862 - val_loss: 2.0122 - val_acc: 0.3093\n",
      "\n",
      "Epoch 00003: val_loss improved from 2.07297 to 2.01223, saving model to ./base.model\n",
      "Epoch 4/100\n",
      "100/100 [==============================] - 41s 410ms/step - loss: 2.1213 - acc: 0.1941 - val_loss: 1.9752 - val_acc: 0.4024\n",
      "\n",
      "Epoch 00004: val_loss improved from 2.01223 to 1.97516, saving model to ./base.model\n",
      "Epoch 5/100\n",
      "100/100 [==============================] - 42s 415ms/step - loss: 2.0615 - acc: 0.2222 - val_loss: 1.9097 - val_acc: 0.3839\n",
      "\n",
      "Epoch 00005: val_loss improved from 1.97516 to 1.90974, saving model to ./base.model\n",
      "Epoch 6/100\n",
      "100/100 [==============================] - 42s 423ms/step - loss: 2.0341 - acc: 0.2413 - val_loss: 1.8449 - val_acc: 0.4027\n",
      "\n",
      "Epoch 00006: val_loss improved from 1.90974 to 1.84487, saving model to ./base.model\n",
      "Epoch 7/100\n",
      "100/100 [==============================] - 42s 417ms/step - loss: 2.0049 - acc: 0.2578 - val_loss: 1.8068 - val_acc: 0.4556\n",
      "\n",
      "Epoch 00007: val_loss improved from 1.84487 to 1.80680, saving model to ./base.model\n",
      "Epoch 8/100\n",
      "100/100 [==============================] - 44s 442ms/step - loss: 1.9291 - acc: 0.2824 - val_loss: 1.7154 - val_acc: 0.4534\n",
      "\n",
      "Epoch 00008: val_loss improved from 1.80680 to 1.71538, saving model to ./base.model\n",
      "Epoch 9/100\n",
      "100/100 [==============================] - 42s 417ms/step - loss: 1.9518 - acc: 0.2672 - val_loss: 1.7008 - val_acc: 0.4268\n",
      "\n",
      "Epoch 00009: val_loss improved from 1.71538 to 1.70080, saving model to ./base.model\n",
      "Epoch 10/100\n",
      "100/100 [==============================] - 44s 435ms/step - loss: 1.9083 - acc: 0.2934 - val_loss: 1.7047 - val_acc: 0.4442\n",
      "\n",
      "Epoch 00010: val_loss did not improve from 1.70080\n",
      "Epoch 11/100\n",
      "100/100 [==============================] - 41s 407ms/step - loss: 1.8890 - acc: 0.2809 - val_loss: 1.7265 - val_acc: 0.4034\n",
      "\n",
      "Epoch 00011: val_loss did not improve from 1.70080\n",
      "Epoch 12/100\n",
      "100/100 [==============================] - 42s 416ms/step - loss: 1.8764 - acc: 0.2910 - val_loss: 1.6754 - val_acc: 0.4324\n",
      "\n",
      "Epoch 00012: val_loss improved from 1.70080 to 1.67544, saving model to ./base.model\n",
      "Epoch 13/100\n",
      "100/100 [==============================] - 43s 431ms/step - loss: 1.8832 - acc: 0.2957 - val_loss: 1.6793 - val_acc: 0.4438\n",
      "\n",
      "Epoch 00013: val_loss did not improve from 1.67544\n",
      "Epoch 14/100\n",
      "100/100 [==============================] - 44s 437ms/step - loss: 1.8604 - acc: 0.3031 - val_loss: 1.6791 - val_acc: 0.3964\n",
      "\n",
      "Epoch 00014: val_loss did not improve from 1.67544\n",
      "Epoch 15/100\n",
      "100/100 [==============================] - 46s 456ms/step - loss: 1.8454 - acc: 0.2875 - val_loss: 1.6403 - val_acc: 0.4279\n",
      "\n",
      "Epoch 00015: val_loss improved from 1.67544 to 1.64030, saving model to ./base.model\n",
      "Epoch 16/100\n",
      "100/100 [==============================] - 42s 416ms/step - loss: 1.8388 - acc: 0.3094 - val_loss: 1.6172 - val_acc: 0.4288\n",
      "\n",
      "Epoch 00016: val_loss improved from 1.64030 to 1.61719, saving model to ./base.model\n",
      "Epoch 17/100\n",
      "100/100 [==============================] - 43s 429ms/step - loss: 1.8124 - acc: 0.3072 - val_loss: 1.6246 - val_acc: 0.3916\n",
      "\n",
      "Epoch 00017: val_loss did not improve from 1.61719\n",
      "Epoch 18/100\n",
      "100/100 [==============================] - 43s 425ms/step - loss: 1.7990 - acc: 0.3196 - val_loss: 1.5765 - val_acc: 0.4276\n",
      "\n",
      "Epoch 00018: val_loss improved from 1.61719 to 1.57651, saving model to ./base.model\n",
      "Epoch 19/100\n",
      "100/100 [==============================] - 43s 427ms/step - loss: 1.8117 - acc: 0.3166 - val_loss: 1.5714 - val_acc: 0.4828\n",
      "\n",
      "Epoch 00019: val_loss improved from 1.57651 to 1.57137, saving model to ./base.model\n",
      "Epoch 20/100\n",
      "100/100 [==============================] - 41s 414ms/step - loss: 1.8088 - acc: 0.3022 - val_loss: 1.5943 - val_acc: 0.4319\n",
      "\n",
      "Epoch 00020: val_loss did not improve from 1.57137\n",
      "Epoch 21/100\n",
      "100/100 [==============================] - 42s 417ms/step - loss: 1.8031 - acc: 0.3225 - val_loss: 1.6072 - val_acc: 0.4703\n",
      "\n",
      "Epoch 00021: val_loss did not improve from 1.57137\n",
      "Epoch 22/100\n",
      "100/100 [==============================] - 42s 423ms/step - loss: 1.8074 - acc: 0.3184 - val_loss: 1.5768 - val_acc: 0.4392\n",
      "\n",
      "Epoch 00022: val_loss did not improve from 1.57137\n",
      "Epoch 23/100\n",
      "100/100 [==============================] - 43s 425ms/step - loss: 1.8053 - acc: 0.3071 - val_loss: 1.5582 - val_acc: 0.4943\n",
      "\n",
      "Epoch 00023: val_loss improved from 1.57137 to 1.55819, saving model to ./base.model\n",
      "Epoch 24/100\n",
      "100/100 [==============================] - 43s 426ms/step - loss: 1.7888 - acc: 0.3047 - val_loss: 1.5204 - val_acc: 0.4869\n",
      "\n",
      "Epoch 00024: val_loss improved from 1.55819 to 1.52036, saving model to ./base.model\n",
      "Epoch 25/100\n",
      "100/100 [==============================] - 41s 411ms/step - loss: 1.8002 - acc: 0.3144 - val_loss: 1.5660 - val_acc: 0.4135\n",
      "\n",
      "Epoch 00025: val_loss did not improve from 1.52036\n",
      "Epoch 26/100\n",
      "100/100 [==============================] - 42s 415ms/step - loss: 1.7942 - acc: 0.3124 - val_loss: 1.6000 - val_acc: 0.5048\n",
      "\n",
      "Epoch 00026: val_loss did not improve from 1.52036\n",
      "Epoch 27/100\n",
      "100/100 [==============================] - 41s 411ms/step - loss: 1.7741 - acc: 0.3231 - val_loss: 1.5637 - val_acc: 0.4636\n",
      "\n",
      "Epoch 00027: val_loss did not improve from 1.52036\n",
      "Epoch 28/100\n",
      "100/100 [==============================] - 42s 417ms/step - loss: 1.7678 - acc: 0.3203 - val_loss: 1.5460 - val_acc: 0.4728\n",
      "\n",
      "Epoch 00028: val_loss did not improve from 1.52036\n",
      "Epoch 29/100\n",
      "100/100 [==============================] - 41s 407ms/step - loss: 1.7583 - acc: 0.3172 - val_loss: 1.5331 - val_acc: 0.4911\n",
      "\n",
      "Epoch 00029: val_loss did not improve from 1.52036\n",
      "\n",
      "Epoch 00029: ReduceLROnPlateau reducing learning rate to 0.00020000000949949026.\n",
      "Epoch 30/100\n",
      "100/100 [==============================] - 44s 436ms/step - loss: 1.7364 - acc: 0.3484 - val_loss: 1.5251 - val_acc: 0.4914\n",
      "\n",
      "Epoch 00030: val_loss did not improve from 1.52036\n",
      "Epoch 31/100\n",
      "100/100 [==============================] - 42s 417ms/step - loss: 1.7442 - acc: 0.3212 - val_loss: 1.5081 - val_acc: 0.4678\n",
      "\n",
      "Epoch 00031: val_loss improved from 1.52036 to 1.50809, saving model to ./base.model\n",
      "Epoch 32/100\n",
      "100/100 [==============================] - 41s 409ms/step - loss: 1.7375 - acc: 0.3415 - val_loss: 1.5018 - val_acc: 0.4856\n",
      "\n",
      "Epoch 00032: val_loss improved from 1.50809 to 1.50182, saving model to ./base.model\n",
      "Epoch 33/100\n",
      "100/100 [==============================] - 40s 403ms/step - loss: 1.7267 - acc: 0.3181 - val_loss: 1.5104 - val_acc: 0.4873\n",
      "\n",
      "Epoch 00033: val_loss did not improve from 1.50182\n",
      "Epoch 34/100\n",
      "100/100 [==============================] - 41s 413ms/step - loss: 1.7182 - acc: 0.3399 - val_loss: 1.4936 - val_acc: 0.5064\n",
      "\n",
      "Epoch 00034: val_loss improved from 1.50182 to 1.49364, saving model to ./base.model\n",
      "Epoch 35/100\n",
      "100/100 [==============================] - 41s 413ms/step - loss: 1.7153 - acc: 0.3416 - val_loss: 1.4965 - val_acc: 0.4751\n",
      "\n",
      "Epoch 00035: val_loss did not improve from 1.49364\n",
      "Epoch 36/100\n",
      "100/100 [==============================] - 41s 406ms/step - loss: 1.7295 - acc: 0.3182 - val_loss: 1.4850 - val_acc: 0.4933\n",
      "\n",
      "Epoch 00036: val_loss improved from 1.49364 to 1.48501, saving model to ./base.model\n",
      "Epoch 37/100\n",
      "100/100 [==============================] - 43s 431ms/step - loss: 1.7282 - acc: 0.3462 - val_loss: 1.5113 - val_acc: 0.4860\n",
      "\n",
      "Epoch 00037: val_loss did not improve from 1.48501\n",
      "Epoch 38/100\n",
      "100/100 [==============================] - 41s 405ms/step - loss: 1.7317 - acc: 0.3371 - val_loss: 1.4954 - val_acc: 0.4879\n",
      "\n",
      "Epoch 00038: val_loss did not improve from 1.48501\n",
      "Epoch 39/100\n",
      "100/100 [==============================] - 40s 403ms/step - loss: 1.7479 - acc: 0.3378 - val_loss: 1.4865 - val_acc: 0.5130\n",
      "\n",
      "Epoch 00039: val_loss did not improve from 1.48501\n",
      "Epoch 40/100\n",
      "100/100 [==============================] - 41s 407ms/step - loss: 1.7457 - acc: 0.3235 - val_loss: 1.5136 - val_acc: 0.4757\n",
      "\n",
      "Epoch 00040: val_loss did not improve from 1.48501\n",
      "Epoch 41/100\n",
      "100/100 [==============================] - 41s 411ms/step - loss: 1.7617 - acc: 0.3247 - val_loss: 1.5138 - val_acc: 0.5117\n",
      "\n",
      "Epoch 00041: val_loss did not improve from 1.48501\n",
      "\n",
      "Epoch 00041: ReduceLROnPlateau reducing learning rate to 4.0000001899898055e-05.\n",
      "Epoch 42/100\n",
      "100/100 [==============================] - 41s 410ms/step - loss: 1.7253 - acc: 0.3353 - val_loss: 1.5149 - val_acc: 0.5112\n",
      "\n",
      "Epoch 00042: val_loss did not improve from 1.48501\n",
      "Epoch 43/100\n",
      "100/100 [==============================] - 41s 409ms/step - loss: 1.7072 - acc: 0.3428 - val_loss: 1.5008 - val_acc: 0.5144\n",
      "\n",
      "Epoch 00043: val_loss did not improve from 1.48501\n",
      "Epoch 44/100\n",
      "100/100 [==============================] - 42s 423ms/step - loss: 1.7126 - acc: 0.3357 - val_loss: 1.5030 - val_acc: 0.5171\n",
      "\n",
      "Epoch 00044: val_loss did not improve from 1.48501\n",
      "Epoch 45/100\n",
      "100/100 [==============================] - 41s 411ms/step - loss: 1.7220 - acc: 0.3403 - val_loss: 1.5020 - val_acc: 0.5118\n",
      "\n",
      "Epoch 00045: val_loss did not improve from 1.48501\n",
      "Epoch 46/100\n",
      "100/100 [==============================] - 41s 406ms/step - loss: 1.7194 - acc: 0.3251 - val_loss: 1.5005 - val_acc: 0.5054\n",
      "\n",
      "Epoch 00046: val_loss did not improve from 1.48501\n",
      "\n",
      "Epoch 00046: ReduceLROnPlateau reducing learning rate to 8.000000525498762e-06.\n",
      "Epoch 47/100\n",
      "100/100 [==============================] - 41s 407ms/step - loss: 1.7122 - acc: 0.3596 - val_loss: 1.4957 - val_acc: 0.5073\n",
      "\n",
      "Epoch 00047: val_loss did not improve from 1.48501\n",
      "Epoch 48/100\n",
      "100/100 [==============================] - 41s 414ms/step - loss: 1.7231 - acc: 0.3375 - val_loss: 1.5034 - val_acc: 0.5054\n",
      "\n",
      "Epoch 00048: val_loss did not improve from 1.48501\n",
      "Epoch 49/100\n",
      "100/100 [==============================] - 41s 407ms/step - loss: 1.7313 - acc: 0.3241 - val_loss: 1.4936 - val_acc: 0.5092\n",
      "\n",
      "Epoch 00049: val_loss did not improve from 1.48501\n",
      "Epoch 50/100\n",
      "100/100 [==============================] - 42s 421ms/step - loss: 1.7359 - acc: 0.3254 - val_loss: 1.5031 - val_acc: 0.5051\n",
      "\n",
      "Epoch 00050: val_loss did not improve from 1.48501\n",
      "Epoch 51/100\n",
      "100/100 [==============================] - 42s 424ms/step - loss: 1.7015 - acc: 0.3547 - val_loss: 1.4933 - val_acc: 0.5121\n",
      "\n",
      "Epoch 00051: val_loss did not improve from 1.48501\n",
      "\n",
      "Epoch 00051: ReduceLROnPlateau reducing learning rate to 1.6000001778593287e-06.\n",
      "Epoch 52/100\n",
      "100/100 [==============================] - 45s 453ms/step - loss: 1.7151 - acc: 0.3416 - val_loss: 1.4903 - val_acc: 0.5133\n",
      "\n",
      "Epoch 00052: val_loss did not improve from 1.48501\n",
      "Epoch 53/100\n",
      "100/100 [==============================] - 42s 423ms/step - loss: 1.7309 - acc: 0.3350 - val_loss: 1.5017 - val_acc: 0.4990\n",
      "\n",
      "Epoch 00053: val_loss did not improve from 1.48501\n",
      "Epoch 54/100\n",
      "100/100 [==============================] - 41s 412ms/step - loss: 1.7271 - acc: 0.3418 - val_loss: 1.5027 - val_acc: 0.5089\n",
      "\n",
      "Epoch 00054: val_loss did not improve from 1.48501\n",
      "Epoch 55/100\n",
      "100/100 [==============================] - 42s 424ms/step - loss: 1.7025 - acc: 0.3394 - val_loss: 1.4952 - val_acc: 0.5054\n",
      "\n",
      "Epoch 00055: val_loss did not improve from 1.48501\n",
      "Epoch 56/100\n",
      "100/100 [==============================] - 43s 430ms/step - loss: 1.7024 - acc: 0.3525 - val_loss: 1.4955 - val_acc: 0.5089\n",
      "\n",
      "Epoch 00056: val_loss did not improve from 1.48501\n",
      "\n",
      "Epoch 00056: ReduceLROnPlateau reducing learning rate to 3.200000264769187e-07.\n",
      "Epoch 57/100\n",
      "100/100 [==============================] - 42s 416ms/step - loss: 1.7206 - acc: 0.3421 - val_loss: 1.4993 - val_acc: 0.5073\n",
      "\n",
      "Epoch 00057: val_loss did not improve from 1.48501\n",
      "Epoch 58/100\n",
      "100/100 [==============================] - 42s 417ms/step - loss: 1.7017 - acc: 0.3432 - val_loss: 1.4986 - val_acc: 0.5048\n",
      "\n",
      "Epoch 00058: val_loss did not improve from 1.48501\n",
      "Epoch 59/100\n",
      "100/100 [==============================] - 45s 453ms/step - loss: 1.7266 - acc: 0.3402 - val_loss: 1.4962 - val_acc: 0.5099\n",
      "\n",
      "Epoch 00059: val_loss did not improve from 1.48501\n",
      "Epoch 60/100\n",
      "100/100 [==============================] - 42s 423ms/step - loss: 1.6982 - acc: 0.3403 - val_loss: 1.4965 - val_acc: 0.5048\n",
      "\n",
      "Epoch 00060: val_loss did not improve from 1.48501\n",
      "Epoch 61/100\n",
      "100/100 [==============================] - 43s 427ms/step - loss: 1.7127 - acc: 0.3458 - val_loss: 1.4995 - val_acc: 0.5096\n",
      "\n",
      "Epoch 00061: val_loss did not improve from 1.48501\n",
      "\n",
      "Epoch 00061: ReduceLROnPlateau reducing learning rate to 6.400000529538374e-08.\n",
      "Epoch 62/100\n",
      "100/100 [==============================] - 43s 431ms/step - loss: 1.7246 - acc: 0.3384 - val_loss: 1.4945 - val_acc: 0.5061\n",
      "\n",
      "Epoch 00062: val_loss did not improve from 1.48501\n",
      "Epoch 63/100\n",
      "100/100 [==============================] - 43s 428ms/step - loss: 1.7133 - acc: 0.3382 - val_loss: 1.4980 - val_acc: 0.5076\n",
      "\n",
      "Epoch 00063: val_loss did not improve from 1.48501\n",
      "Epoch 64/100\n",
      "100/100 [==============================] - 42s 423ms/step - loss: 1.7140 - acc: 0.3403 - val_loss: 1.5001 - val_acc: 0.5041\n",
      "\n",
      "Epoch 00064: val_loss did not improve from 1.48501\n",
      "Epoch 65/100\n",
      "100/100 [==============================] - 43s 428ms/step - loss: 1.7205 - acc: 0.3181 - val_loss: 1.4962 - val_acc: 0.5057\n",
      "\n",
      "Epoch 00065: val_loss did not improve from 1.48501\n",
      "Epoch 66/100\n",
      "100/100 [==============================] - 43s 434ms/step - loss: 1.6944 - acc: 0.3359 - val_loss: 1.5001 - val_acc: 0.5051\n",
      "\n",
      "Epoch 00066: val_loss did not improve from 1.48501\n",
      "\n",
      "Epoch 00066: ReduceLROnPlateau reducing learning rate to 1.2800001059076749e-08.\n",
      "Epoch 67/100\n",
      "100/100 [==============================] - 43s 428ms/step - loss: 1.7240 - acc: 0.3382 - val_loss: 1.4924 - val_acc: 0.5105\n",
      "\n",
      "Epoch 00067: val_loss did not improve from 1.48501\n",
      "Epoch 68/100\n",
      "100/100 [==============================] - 43s 429ms/step - loss: 1.7182 - acc: 0.3388 - val_loss: 1.5000 - val_acc: 0.5070\n",
      "\n",
      "Epoch 00068: val_loss did not improve from 1.48501\n",
      "Epoch 69/100\n",
      "100/100 [==============================] - 43s 427ms/step - loss: 1.7330 - acc: 0.3456 - val_loss: 1.4993 - val_acc: 0.5051\n",
      "\n",
      "Epoch 00069: val_loss did not improve from 1.48501\n",
      "Epoch 70/100\n",
      "100/100 [==============================] - 43s 427ms/step - loss: 1.7095 - acc: 0.3432 - val_loss: 1.4968 - val_acc: 0.5080\n",
      "\n",
      "Epoch 00070: val_loss did not improve from 1.48501\n",
      "Epoch 71/100\n",
      "100/100 [==============================] - 43s 428ms/step - loss: 1.7184 - acc: 0.3396 - val_loss: 1.4943 - val_acc: 0.5076\n",
      "\n",
      "Epoch 00071: val_loss did not improve from 1.48501\n",
      "\n",
      "Epoch 00071: ReduceLROnPlateau reducing learning rate to 2.5600002118153498e-09.\n",
      "Epoch 72/100\n",
      "100/100 [==============================] - 42s 425ms/step - loss: 1.7380 - acc: 0.3303 - val_loss: 1.4957 - val_acc: 0.5093\n",
      "\n",
      "Epoch 00072: val_loss did not improve from 1.48501\n",
      "Epoch 73/100\n",
      "100/100 [==============================] - 42s 416ms/step - loss: 1.7090 - acc: 0.3303 - val_loss: 1.5005 - val_acc: 0.5048\n",
      "\n",
      "Epoch 00073: val_loss did not improve from 1.48501\n",
      "Epoch 74/100\n",
      "100/100 [==============================] - 45s 453ms/step - loss: 1.7206 - acc: 0.3285 - val_loss: 1.4937 - val_acc: 0.5095\n",
      "\n",
      "Epoch 00074: val_loss did not improve from 1.48501\n",
      "Epoch 75/100\n",
      "100/100 [==============================] - 43s 427ms/step - loss: 1.7038 - acc: 0.3463 - val_loss: 1.4964 - val_acc: 0.5070\n",
      "\n",
      "Epoch 00075: val_loss did not improve from 1.48501\n",
      "Epoch 76/100\n",
      "100/100 [==============================] - 43s 426ms/step - loss: 1.7297 - acc: 0.3443 - val_loss: 1.5013 - val_acc: 0.5029\n",
      "\n",
      "Epoch 00076: val_loss did not improve from 1.48501\n",
      "\n",
      "Epoch 00076: ReduceLROnPlateau reducing learning rate to 5.1200004236307e-10.\n",
      "Epoch 77/100\n",
      "100/100 [==============================] - 42s 421ms/step - loss: 1.7236 - acc: 0.3275 - val_loss: 1.4954 - val_acc: 0.5073\n",
      "\n",
      "Epoch 00077: val_loss did not improve from 1.48501\n",
      "Epoch 78/100\n",
      " 55/100 [===============>..............] - ETA: 15s - loss: 1.7187 - acc: 0.3432"
     ]
    },
    {
     "output_type": "error",
     "ename": "KeyboardInterrupt",
     "evalue": "",
     "traceback": [
      "\u001b[1;31m---------------------------------------------------------------------------\u001b[0m",
      "\u001b[1;31mKeyboardInterrupt\u001b[0m                         Traceback (most recent call last)",
      "\u001b[1;32m<ipython-input-41-05ec48b481f9>\u001b[0m in \u001b[0;36m<module>\u001b[1;34m()\u001b[0m\n\u001b[0;32m     15\u001b[0m     \u001b[0mepochs\u001b[0m \u001b[1;33m=\u001b[0m \u001b[1;36m100\u001b[0m\u001b[1;33m,\u001b[0m\u001b[1;33m\u001b[0m\u001b[1;33m\u001b[0m\u001b[0m\n\u001b[0;32m     16\u001b[0m     \u001b[0mverbose\u001b[0m \u001b[1;33m=\u001b[0m \u001b[1;36m1\u001b[0m\u001b[1;33m,\u001b[0m\u001b[1;33m\u001b[0m\u001b[1;33m\u001b[0m\u001b[0m\n\u001b[1;32m---> 17\u001b[1;33m     \u001b[0mcallbacks\u001b[0m\u001b[1;33m=\u001b[0m\u001b[0mcallbacks\u001b[0m\u001b[1;33m\u001b[0m\u001b[1;33m\u001b[0m\u001b[0m\n\u001b[0m\u001b[0;32m     18\u001b[0m )\n\u001b[0;32m     19\u001b[0m \u001b[1;33m\u001b[0m\u001b[0m\n",
      "\u001b[1;32mC:\\Users\\Anto\\anaconda3\\envs\\lego\\lib\\site-packages\\keras\\legacy\\interfaces.py\u001b[0m in \u001b[0;36mwrapper\u001b[1;34m(*args, **kwargs)\u001b[0m\n\u001b[0;32m     89\u001b[0m                 warnings.warn('Update your `' + object_name + '` call to the ' +\n\u001b[0;32m     90\u001b[0m                               'Keras 2 API: ' + signature, stacklevel=2)\n\u001b[1;32m---> 91\u001b[1;33m             \u001b[1;32mreturn\u001b[0m \u001b[0mfunc\u001b[0m\u001b[1;33m(\u001b[0m\u001b[1;33m*\u001b[0m\u001b[0margs\u001b[0m\u001b[1;33m,\u001b[0m \u001b[1;33m**\u001b[0m\u001b[0mkwargs\u001b[0m\u001b[1;33m)\u001b[0m\u001b[1;33m\u001b[0m\u001b[1;33m\u001b[0m\u001b[0m\n\u001b[0m\u001b[0;32m     92\u001b[0m         \u001b[0mwrapper\u001b[0m\u001b[1;33m.\u001b[0m\u001b[0m_original_function\u001b[0m \u001b[1;33m=\u001b[0m \u001b[0mfunc\u001b[0m\u001b[1;33m\u001b[0m\u001b[1;33m\u001b[0m\u001b[0m\n\u001b[0;32m     93\u001b[0m         \u001b[1;32mreturn\u001b[0m \u001b[0mwrapper\u001b[0m\u001b[1;33m\u001b[0m\u001b[1;33m\u001b[0m\u001b[0m\n",
      "\u001b[1;32mC:\\Users\\Anto\\anaconda3\\envs\\lego\\lib\\site-packages\\keras\\engine\\training.py\u001b[0m in \u001b[0;36mfit_generator\u001b[1;34m(self, generator, steps_per_epoch, epochs, verbose, callbacks, validation_data, validation_steps, class_weight, max_queue_size, workers, use_multiprocessing, shuffle, initial_epoch)\u001b[0m\n\u001b[0;32m   1416\u001b[0m             \u001b[0muse_multiprocessing\u001b[0m\u001b[1;33m=\u001b[0m\u001b[0muse_multiprocessing\u001b[0m\u001b[1;33m,\u001b[0m\u001b[1;33m\u001b[0m\u001b[1;33m\u001b[0m\u001b[0m\n\u001b[0;32m   1417\u001b[0m             \u001b[0mshuffle\u001b[0m\u001b[1;33m=\u001b[0m\u001b[0mshuffle\u001b[0m\u001b[1;33m,\u001b[0m\u001b[1;33m\u001b[0m\u001b[1;33m\u001b[0m\u001b[0m\n\u001b[1;32m-> 1418\u001b[1;33m             initial_epoch=initial_epoch)\n\u001b[0m\u001b[0;32m   1419\u001b[0m \u001b[1;33m\u001b[0m\u001b[0m\n\u001b[0;32m   1420\u001b[0m     \u001b[1;33m@\u001b[0m\u001b[0minterfaces\u001b[0m\u001b[1;33m.\u001b[0m\u001b[0mlegacy_generator_methods_support\u001b[0m\u001b[1;33m\u001b[0m\u001b[1;33m\u001b[0m\u001b[0m\n",
      "\u001b[1;32mC:\\Users\\Anto\\anaconda3\\envs\\lego\\lib\\site-packages\\keras\\engine\\training_generator.py\u001b[0m in \u001b[0;36mfit_generator\u001b[1;34m(model, generator, steps_per_epoch, epochs, verbose, callbacks, validation_data, validation_steps, class_weight, max_queue_size, workers, use_multiprocessing, shuffle, initial_epoch)\u001b[0m\n\u001b[0;32m    215\u001b[0m                 outs = model.train_on_batch(x, y,\n\u001b[0;32m    216\u001b[0m                                             \u001b[0msample_weight\u001b[0m\u001b[1;33m=\u001b[0m\u001b[0msample_weight\u001b[0m\u001b[1;33m,\u001b[0m\u001b[1;33m\u001b[0m\u001b[1;33m\u001b[0m\u001b[0m\n\u001b[1;32m--> 217\u001b[1;33m                                             class_weight=class_weight)\n\u001b[0m\u001b[0;32m    218\u001b[0m \u001b[1;33m\u001b[0m\u001b[0m\n\u001b[0;32m    219\u001b[0m                 \u001b[0mouts\u001b[0m \u001b[1;33m=\u001b[0m \u001b[0mto_list\u001b[0m\u001b[1;33m(\u001b[0m\u001b[0mouts\u001b[0m\u001b[1;33m)\u001b[0m\u001b[1;33m\u001b[0m\u001b[1;33m\u001b[0m\u001b[0m\n",
      "\u001b[1;32mC:\\Users\\Anto\\anaconda3\\envs\\lego\\lib\\site-packages\\keras\\engine\\training.py\u001b[0m in \u001b[0;36mtrain_on_batch\u001b[1;34m(self, x, y, sample_weight, class_weight)\u001b[0m\n\u001b[0;32m   1215\u001b[0m             \u001b[0mins\u001b[0m \u001b[1;33m=\u001b[0m \u001b[0mx\u001b[0m \u001b[1;33m+\u001b[0m \u001b[0my\u001b[0m \u001b[1;33m+\u001b[0m \u001b[0msample_weights\u001b[0m\u001b[1;33m\u001b[0m\u001b[1;33m\u001b[0m\u001b[0m\n\u001b[0;32m   1216\u001b[0m         \u001b[0mself\u001b[0m\u001b[1;33m.\u001b[0m\u001b[0m_make_train_function\u001b[0m\u001b[1;33m(\u001b[0m\u001b[1;33m)\u001b[0m\u001b[1;33m\u001b[0m\u001b[1;33m\u001b[0m\u001b[0m\n\u001b[1;32m-> 1217\u001b[1;33m         \u001b[0moutputs\u001b[0m \u001b[1;33m=\u001b[0m \u001b[0mself\u001b[0m\u001b[1;33m.\u001b[0m\u001b[0mtrain_function\u001b[0m\u001b[1;33m(\u001b[0m\u001b[0mins\u001b[0m\u001b[1;33m)\u001b[0m\u001b[1;33m\u001b[0m\u001b[1;33m\u001b[0m\u001b[0m\n\u001b[0m\u001b[0;32m   1218\u001b[0m         \u001b[1;32mreturn\u001b[0m \u001b[0munpack_singleton\u001b[0m\u001b[1;33m(\u001b[0m\u001b[0moutputs\u001b[0m\u001b[1;33m)\u001b[0m\u001b[1;33m\u001b[0m\u001b[1;33m\u001b[0m\u001b[0m\n\u001b[0;32m   1219\u001b[0m \u001b[1;33m\u001b[0m\u001b[0m\n",
      "\u001b[1;32mC:\\Users\\Anto\\anaconda3\\envs\\lego\\lib\\site-packages\\plaidml\\keras\\backend.py\u001b[0m in \u001b[0;36m__call__\u001b[1;34m(self, inputs)\u001b[0m\n\u001b[0;32m    189\u001b[0m         \u001b[0mself\u001b[0m\u001b[1;33m.\u001b[0m\u001b[0m_invoker\u001b[0m\u001b[1;33m.\u001b[0m\u001b[0minvoke\u001b[0m\u001b[1;33m(\u001b[0m\u001b[1;33m)\u001b[0m\u001b[1;33m\u001b[0m\u001b[1;33m\u001b[0m\u001b[0m\n\u001b[0;32m    190\u001b[0m \u001b[1;33m\u001b[0m\u001b[0m\n\u001b[1;32m--> 191\u001b[1;33m         \u001b[1;32mreturn\u001b[0m \u001b[1;33m[\u001b[0m\u001b[0mt\u001b[0m\u001b[1;33m.\u001b[0m\u001b[0mas_ndarray\u001b[0m\u001b[1;33m(\u001b[0m\u001b[0m_ctx\u001b[0m\u001b[1;33m)\u001b[0m \u001b[1;32mfor\u001b[0m \u001b[0mt\u001b[0m \u001b[1;32min\u001b[0m \u001b[0mtensors\u001b[0m\u001b[1;33m]\u001b[0m\u001b[1;33m\u001b[0m\u001b[1;33m\u001b[0m\u001b[0m\n\u001b[0m\u001b[0;32m    192\u001b[0m \u001b[1;33m\u001b[0m\u001b[0m\n\u001b[0;32m    193\u001b[0m \u001b[1;33m\u001b[0m\u001b[0m\n",
      "\u001b[1;32mC:\\Users\\Anto\\anaconda3\\envs\\lego\\lib\\site-packages\\plaidml\\keras\\backend.py\u001b[0m in \u001b[0;36m<listcomp>\u001b[1;34m(.0)\u001b[0m\n\u001b[0;32m    189\u001b[0m         \u001b[0mself\u001b[0m\u001b[1;33m.\u001b[0m\u001b[0m_invoker\u001b[0m\u001b[1;33m.\u001b[0m\u001b[0minvoke\u001b[0m\u001b[1;33m(\u001b[0m\u001b[1;33m)\u001b[0m\u001b[1;33m\u001b[0m\u001b[1;33m\u001b[0m\u001b[0m\n\u001b[0;32m    190\u001b[0m \u001b[1;33m\u001b[0m\u001b[0m\n\u001b[1;32m--> 191\u001b[1;33m         \u001b[1;32mreturn\u001b[0m \u001b[1;33m[\u001b[0m\u001b[0mt\u001b[0m\u001b[1;33m.\u001b[0m\u001b[0mas_ndarray\u001b[0m\u001b[1;33m(\u001b[0m\u001b[0m_ctx\u001b[0m\u001b[1;33m)\u001b[0m \u001b[1;32mfor\u001b[0m \u001b[0mt\u001b[0m \u001b[1;32min\u001b[0m \u001b[0mtensors\u001b[0m\u001b[1;33m]\u001b[0m\u001b[1;33m\u001b[0m\u001b[1;33m\u001b[0m\u001b[0m\n\u001b[0m\u001b[0;32m    192\u001b[0m \u001b[1;33m\u001b[0m\u001b[0m\n\u001b[0;32m    193\u001b[0m \u001b[1;33m\u001b[0m\u001b[0m\n",
      "\u001b[1;32mC:\\Users\\Anto\\anaconda3\\envs\\lego\\lib\\site-packages\\plaidml\\__init__.py\u001b[0m in \u001b[0;36mas_ndarray\u001b[1;34m(self, ctx)\u001b[0m\n\u001b[0;32m   1279\u001b[0m             self._ndarray = np.ndarray(tuple(dim.size for dim in self.shape.dimensions),\n\u001b[0;32m   1280\u001b[0m                                        dtype=_NP_TYPES[self.shape.dtype])\n\u001b[1;32m-> 1281\u001b[1;33m         \u001b[1;32mwith\u001b[0m \u001b[0mself\u001b[0m\u001b[1;33m.\u001b[0m\u001b[0mmmap_current\u001b[0m\u001b[1;33m(\u001b[0m\u001b[1;33m)\u001b[0m \u001b[1;32mas\u001b[0m \u001b[0mview\u001b[0m\u001b[1;33m:\u001b[0m\u001b[1;33m\u001b[0m\u001b[1;33m\u001b[0m\u001b[0m\n\u001b[0m\u001b[0;32m   1282\u001b[0m             \u001b[0mview\u001b[0m\u001b[1;33m.\u001b[0m\u001b[0mcopy_to_ndarray\u001b[0m\u001b[1;33m(\u001b[0m\u001b[0mself\u001b[0m\u001b[1;33m.\u001b[0m\u001b[0m_ndarray\u001b[0m\u001b[1;33m)\u001b[0m\u001b[1;33m\u001b[0m\u001b[1;33m\u001b[0m\u001b[0m\n\u001b[0;32m   1283\u001b[0m         \u001b[1;32mreturn\u001b[0m \u001b[0mself\u001b[0m\u001b[1;33m.\u001b[0m\u001b[0m_ndarray\u001b[0m\u001b[1;33m\u001b[0m\u001b[1;33m\u001b[0m\u001b[0m\n",
      "\u001b[1;32mC:\\Users\\Anto\\anaconda3\\envs\\lego\\lib\\contextlib.py\u001b[0m in \u001b[0;36m__enter__\u001b[1;34m(self)\u001b[0m\n\u001b[0;32m     79\u001b[0m     \u001b[1;32mdef\u001b[0m \u001b[0m__enter__\u001b[0m\u001b[1;33m(\u001b[0m\u001b[0mself\u001b[0m\u001b[1;33m)\u001b[0m\u001b[1;33m:\u001b[0m\u001b[1;33m\u001b[0m\u001b[1;33m\u001b[0m\u001b[0m\n\u001b[0;32m     80\u001b[0m         \u001b[1;32mtry\u001b[0m\u001b[1;33m:\u001b[0m\u001b[1;33m\u001b[0m\u001b[1;33m\u001b[0m\u001b[0m\n\u001b[1;32m---> 81\u001b[1;33m             \u001b[1;32mreturn\u001b[0m \u001b[0mnext\u001b[0m\u001b[1;33m(\u001b[0m\u001b[0mself\u001b[0m\u001b[1;33m.\u001b[0m\u001b[0mgen\u001b[0m\u001b[1;33m)\u001b[0m\u001b[1;33m\u001b[0m\u001b[1;33m\u001b[0m\u001b[0m\n\u001b[0m\u001b[0;32m     82\u001b[0m         \u001b[1;32mexcept\u001b[0m \u001b[0mStopIteration\u001b[0m\u001b[1;33m:\u001b[0m\u001b[1;33m\u001b[0m\u001b[1;33m\u001b[0m\u001b[0m\n\u001b[0;32m     83\u001b[0m             \u001b[1;32mraise\u001b[0m \u001b[0mRuntimeError\u001b[0m\u001b[1;33m(\u001b[0m\u001b[1;34m\"generator didn't yield\"\u001b[0m\u001b[1;33m)\u001b[0m \u001b[1;32mfrom\u001b[0m \u001b[1;32mNone\u001b[0m\u001b[1;33m\u001b[0m\u001b[1;33m\u001b[0m\u001b[0m\n",
      "\u001b[1;32mC:\\Users\\Anto\\anaconda3\\envs\\lego\\lib\\site-packages\\plaidml\\__init__.py\u001b[0m in \u001b[0;36mmmap_current\u001b[1;34m(self)\u001b[0m\n\u001b[0;32m   1263\u001b[0m     \u001b[1;32mdef\u001b[0m \u001b[0mmmap_current\u001b[0m\u001b[1;33m(\u001b[0m\u001b[0mself\u001b[0m\u001b[1;33m)\u001b[0m\u001b[1;33m:\u001b[0m\u001b[1;33m\u001b[0m\u001b[1;33m\u001b[0m\u001b[0m\n\u001b[0;32m   1264\u001b[0m         mapping = _lib().plaidml_map_buffer_current(self.buffer,\n\u001b[1;32m-> 1265\u001b[1;33m                                                     ctypes.cast(None, _MAP_BUFFER_FUNCTYPE), None)\n\u001b[0m\u001b[0;32m   1266\u001b[0m         yield _View(self.buffer._ctx, mapping, self.shape.dtype, self.shape.ctype,\n\u001b[0;32m   1267\u001b[0m                     _lib().plaidml_get_shape_element_count(self.shape), self.shape, None)\n",
      "\u001b[1;32mC:\\Users\\Anto\\anaconda3\\envs\\lego\\lib\\site-packages\\plaidml\\__init__.py\u001b[0m in \u001b[0;36m_check_err\u001b[1;34m(self, result, func, args)\u001b[0m\n\u001b[0;32m    768\u001b[0m         \u001b[0mself\u001b[0m\u001b[1;33m.\u001b[0m\u001b[0mplaidml_compute_grad_wrt\u001b[0m\u001b[1;33m.\u001b[0m\u001b[0merrcheck\u001b[0m \u001b[1;33m=\u001b[0m \u001b[0mself\u001b[0m\u001b[1;33m.\u001b[0m\u001b[0m_check_err\u001b[0m\u001b[1;33m\u001b[0m\u001b[1;33m\u001b[0m\u001b[0m\n\u001b[0;32m    769\u001b[0m \u001b[1;33m\u001b[0m\u001b[0m\n\u001b[1;32m--> 770\u001b[1;33m     \u001b[1;32mdef\u001b[0m \u001b[0m_check_err\u001b[0m\u001b[1;33m(\u001b[0m\u001b[0mself\u001b[0m\u001b[1;33m,\u001b[0m \u001b[0mresult\u001b[0m\u001b[1;33m,\u001b[0m \u001b[0mfunc\u001b[0m\u001b[1;33m,\u001b[0m \u001b[0margs\u001b[0m\u001b[1;33m)\u001b[0m\u001b[1;33m:\u001b[0m\u001b[1;33m\u001b[0m\u001b[1;33m\u001b[0m\u001b[0m\n\u001b[0m\u001b[0;32m    771\u001b[0m         \u001b[1;32mif\u001b[0m \u001b[0mresult\u001b[0m\u001b[1;33m:\u001b[0m\u001b[1;33m\u001b[0m\u001b[1;33m\u001b[0m\u001b[0m\n\u001b[0;32m    772\u001b[0m             \u001b[1;32mreturn\u001b[0m \u001b[0mresult\u001b[0m\u001b[1;33m\u001b[0m\u001b[1;33m\u001b[0m\u001b[0m\n",
      "\u001b[1;31mKeyboardInterrupt\u001b[0m: "
     ]
    }
   ],
   "source": [
    "from keras.optimizers import SGD\n",
    "\n",
    "opt = SGD(lr=1e-3, nesterov=\"true\")\n",
    "model.compile(\n",
    "    loss='categorical_crossentropy',\n",
    "    optimizer=opt,\n",
    "    metrics=['accuracy']\n",
    ")\n",
    "\n",
    "history = model.fit_generator(\n",
    "    train_generator, \n",
    "    steps_per_epoch  = 100, \n",
    "    validation_data  = validation_generator,\n",
    "    validation_steps = 100,\n",
    "    epochs = 100, \n",
    "    verbose = 1,\n",
    "    callbacks=callbacks\n",
    ")\n",
    "\n",
    "json_model = model.to_json()\n",
    "\n",
    "with open(\"./model/lego.json\", \"w\") as json_file:\n",
    "    json_file.write(json_model)\n",
    "\n",
    "model.save_weights(\"./model/lego_weights.h5\")"
   ]
  },
  {
   "cell_type": "code",
   "execution_count": 42,
   "metadata": {},
   "outputs": [],
   "source": [
    "def show_final_history(history):\n",
    "    fig, ax = plt.subplots(1, 2, figsize=(15,5))\n",
    "    ax[0].set_title('loss')\n",
    "    ax[0].plot(history.epoch, history.history[\"loss\"], label=\"Train loss\")\n",
    "    ax[0].plot(history.epoch, history.history[\"val_loss\"], label=\"Validation loss\")\n",
    "    ax[1].set_title('acc')\n",
    "    ax[1].plot(history.epoch, history.history[\"acc\"], label=\"Train acc\")\n",
    "    ax[1].plot(history.epoch, history.history[\"val_acc\"], label=\"Validation acc\")\n",
    "    ax[0].legend()\n",
    "    ax[1].legend()"
   ]
  },
  {
   "cell_type": "code",
   "execution_count": 43,
   "metadata": {},
   "outputs": [
    {
     "output_type": "display_data",
     "data": {
      "text/plain": "<Figure size 1080x360 with 2 Axes>",
      "image/svg+xml": "<?xml version=\"1.0\" encoding=\"utf-8\" standalone=\"no\"?>\r\n<!DOCTYPE svg PUBLIC \"-//W3C//DTD SVG 1.1//EN\"\r\n  \"http://www.w3.org/Graphics/SVG/1.1/DTD/svg11.dtd\">\r\n<!-- Created with matplotlib (https://matplotlib.org/) -->\r\n<svg height=\"317.99625pt\" version=\"1.1\" viewBox=\"0 0 874.303125 317.99625\" width=\"874.303125pt\" xmlns=\"http://www.w3.org/2000/svg\" xmlns:xlink=\"http://www.w3.org/1999/xlink\">\r\n <defs>\r\n  <style type=\"text/css\">\r\n*{stroke-linecap:butt;stroke-linejoin:round;}\r\n  </style>\r\n </defs>\r\n <g id=\"figure_1\">\r\n  <g id=\"patch_1\">\r\n   <path d=\"M 0 317.99625 \r\nL 874.303125 317.99625 \r\nL 874.303125 0 \r\nL 0 0 \r\nz\r\n\" style=\"fill:none;\"/>\r\n  </g>\r\n  <g id=\"axes_1\">\r\n   <g id=\"patch_2\">\r\n    <path d=\"M 30.103125 294.118125 \r\nL 410.55767 294.118125 \r\nL 410.55767 22.318125 \r\nL 30.103125 22.318125 \r\nz\r\n\" style=\"fill:#ffffff;\"/>\r\n   </g>\r\n   <g id=\"matplotlib.axis_1\">\r\n    <g id=\"xtick_1\">\r\n     <g id=\"line2d_1\">\r\n      <defs>\r\n       <path d=\"M 0 0 \r\nL 0 3.5 \r\n\" id=\"m2c6144a3d3\" style=\"stroke:#000000;stroke-width:0.8;\"/>\r\n      </defs>\r\n      <g>\r\n       <use style=\"stroke:#000000;stroke-width:0.8;\" x=\"47.396513\" xlink:href=\"#m2c6144a3d3\" y=\"294.118125\"/>\r\n      </g>\r\n     </g>\r\n     <g id=\"text_1\">\r\n      <!-- 0 -->\r\n      <defs>\r\n       <path d=\"M 31.78125 66.40625 \r\nQ 24.171875 66.40625 20.328125 58.90625 \r\nQ 16.5 51.421875 16.5 36.375 \r\nQ 16.5 21.390625 20.328125 13.890625 \r\nQ 24.171875 6.390625 31.78125 6.390625 \r\nQ 39.453125 6.390625 43.28125 13.890625 \r\nQ 47.125 21.390625 47.125 36.375 \r\nQ 47.125 51.421875 43.28125 58.90625 \r\nQ 39.453125 66.40625 31.78125 66.40625 \r\nz\r\nM 31.78125 74.21875 \r\nQ 44.046875 74.21875 50.515625 64.515625 \r\nQ 56.984375 54.828125 56.984375 36.375 \r\nQ 56.984375 17.96875 50.515625 8.265625 \r\nQ 44.046875 -1.421875 31.78125 -1.421875 \r\nQ 19.53125 -1.421875 13.0625 8.265625 \r\nQ 6.59375 17.96875 6.59375 36.375 \r\nQ 6.59375 54.828125 13.0625 64.515625 \r\nQ 19.53125 74.21875 31.78125 74.21875 \r\nz\r\n\" id=\"DejaVuSans-48\"/>\r\n      </defs>\r\n      <g transform=\"translate(44.215263 308.716563)scale(0.1 -0.1)\">\r\n       <use xlink:href=\"#DejaVuSans-48\"/>\r\n      </g>\r\n     </g>\r\n    </g>\r\n    <g id=\"xtick_2\">\r\n     <g id=\"line2d_2\">\r\n      <g>\r\n       <use style=\"stroke:#000000;stroke-width:0.8;\" x=\"117.26879\" xlink:href=\"#m2c6144a3d3\" y=\"294.118125\"/>\r\n      </g>\r\n     </g>\r\n     <g id=\"text_2\">\r\n      <!-- 20 -->\r\n      <defs>\r\n       <path d=\"M 19.1875 8.296875 \r\nL 53.609375 8.296875 \r\nL 53.609375 0 \r\nL 7.328125 0 \r\nL 7.328125 8.296875 \r\nQ 12.9375 14.109375 22.625 23.890625 \r\nQ 32.328125 33.6875 34.8125 36.53125 \r\nQ 39.546875 41.84375 41.421875 45.53125 \r\nQ 43.3125 49.21875 43.3125 52.78125 \r\nQ 43.3125 58.59375 39.234375 62.25 \r\nQ 35.15625 65.921875 28.609375 65.921875 \r\nQ 23.96875 65.921875 18.8125 64.3125 \r\nQ 13.671875 62.703125 7.8125 59.421875 \r\nL 7.8125 69.390625 \r\nQ 13.765625 71.78125 18.9375 73 \r\nQ 24.125 74.21875 28.421875 74.21875 \r\nQ 39.75 74.21875 46.484375 68.546875 \r\nQ 53.21875 62.890625 53.21875 53.421875 \r\nQ 53.21875 48.921875 51.53125 44.890625 \r\nQ 49.859375 40.875 45.40625 35.40625 \r\nQ 44.1875 33.984375 37.640625 27.21875 \r\nQ 31.109375 20.453125 19.1875 8.296875 \r\nz\r\n\" id=\"DejaVuSans-50\"/>\r\n      </defs>\r\n      <g transform=\"translate(110.90629 308.716563)scale(0.1 -0.1)\">\r\n       <use xlink:href=\"#DejaVuSans-50\"/>\r\n       <use x=\"63.623047\" xlink:href=\"#DejaVuSans-48\"/>\r\n      </g>\r\n     </g>\r\n    </g>\r\n    <g id=\"xtick_3\">\r\n     <g id=\"line2d_3\">\r\n      <g>\r\n       <use style=\"stroke:#000000;stroke-width:0.8;\" x=\"187.141066\" xlink:href=\"#m2c6144a3d3\" y=\"294.118125\"/>\r\n      </g>\r\n     </g>\r\n     <g id=\"text_3\">\r\n      <!-- 40 -->\r\n      <defs>\r\n       <path d=\"M 37.796875 64.3125 \r\nL 12.890625 25.390625 \r\nL 37.796875 25.390625 \r\nz\r\nM 35.203125 72.90625 \r\nL 47.609375 72.90625 \r\nL 47.609375 25.390625 \r\nL 58.015625 25.390625 \r\nL 58.015625 17.1875 \r\nL 47.609375 17.1875 \r\nL 47.609375 0 \r\nL 37.796875 0 \r\nL 37.796875 17.1875 \r\nL 4.890625 17.1875 \r\nL 4.890625 26.703125 \r\nz\r\n\" id=\"DejaVuSans-52\"/>\r\n      </defs>\r\n      <g transform=\"translate(180.778566 308.716563)scale(0.1 -0.1)\">\r\n       <use xlink:href=\"#DejaVuSans-52\"/>\r\n       <use x=\"63.623047\" xlink:href=\"#DejaVuSans-48\"/>\r\n      </g>\r\n     </g>\r\n    </g>\r\n    <g id=\"xtick_4\">\r\n     <g id=\"line2d_4\">\r\n      <g>\r\n       <use style=\"stroke:#000000;stroke-width:0.8;\" x=\"257.013343\" xlink:href=\"#m2c6144a3d3\" y=\"294.118125\"/>\r\n      </g>\r\n     </g>\r\n     <g id=\"text_4\">\r\n      <!-- 60 -->\r\n      <defs>\r\n       <path d=\"M 33.015625 40.375 \r\nQ 26.375 40.375 22.484375 35.828125 \r\nQ 18.609375 31.296875 18.609375 23.390625 \r\nQ 18.609375 15.53125 22.484375 10.953125 \r\nQ 26.375 6.390625 33.015625 6.390625 \r\nQ 39.65625 6.390625 43.53125 10.953125 \r\nQ 47.40625 15.53125 47.40625 23.390625 \r\nQ 47.40625 31.296875 43.53125 35.828125 \r\nQ 39.65625 40.375 33.015625 40.375 \r\nz\r\nM 52.59375 71.296875 \r\nL 52.59375 62.3125 \r\nQ 48.875 64.0625 45.09375 64.984375 \r\nQ 41.3125 65.921875 37.59375 65.921875 \r\nQ 27.828125 65.921875 22.671875 59.328125 \r\nQ 17.53125 52.734375 16.796875 39.40625 \r\nQ 19.671875 43.65625 24.015625 45.921875 \r\nQ 28.375 48.1875 33.59375 48.1875 \r\nQ 44.578125 48.1875 50.953125 41.515625 \r\nQ 57.328125 34.859375 57.328125 23.390625 \r\nQ 57.328125 12.15625 50.6875 5.359375 \r\nQ 44.046875 -1.421875 33.015625 -1.421875 \r\nQ 20.359375 -1.421875 13.671875 8.265625 \r\nQ 6.984375 17.96875 6.984375 36.375 \r\nQ 6.984375 53.65625 15.1875 63.9375 \r\nQ 23.390625 74.21875 37.203125 74.21875 \r\nQ 40.921875 74.21875 44.703125 73.484375 \r\nQ 48.484375 72.75 52.59375 71.296875 \r\nz\r\n\" id=\"DejaVuSans-54\"/>\r\n      </defs>\r\n      <g transform=\"translate(250.650843 308.716563)scale(0.1 -0.1)\">\r\n       <use xlink:href=\"#DejaVuSans-54\"/>\r\n       <use x=\"63.623047\" xlink:href=\"#DejaVuSans-48\"/>\r\n      </g>\r\n     </g>\r\n    </g>\r\n    <g id=\"xtick_5\">\r\n     <g id=\"line2d_5\">\r\n      <g>\r\n       <use style=\"stroke:#000000;stroke-width:0.8;\" x=\"326.885619\" xlink:href=\"#m2c6144a3d3\" y=\"294.118125\"/>\r\n      </g>\r\n     </g>\r\n     <g id=\"text_5\">\r\n      <!-- 80 -->\r\n      <defs>\r\n       <path d=\"M 31.78125 34.625 \r\nQ 24.75 34.625 20.71875 30.859375 \r\nQ 16.703125 27.09375 16.703125 20.515625 \r\nQ 16.703125 13.921875 20.71875 10.15625 \r\nQ 24.75 6.390625 31.78125 6.390625 \r\nQ 38.8125 6.390625 42.859375 10.171875 \r\nQ 46.921875 13.96875 46.921875 20.515625 \r\nQ 46.921875 27.09375 42.890625 30.859375 \r\nQ 38.875 34.625 31.78125 34.625 \r\nz\r\nM 21.921875 38.8125 \r\nQ 15.578125 40.375 12.03125 44.71875 \r\nQ 8.5 49.078125 8.5 55.328125 \r\nQ 8.5 64.0625 14.71875 69.140625 \r\nQ 20.953125 74.21875 31.78125 74.21875 \r\nQ 42.671875 74.21875 48.875 69.140625 \r\nQ 55.078125 64.0625 55.078125 55.328125 \r\nQ 55.078125 49.078125 51.53125 44.71875 \r\nQ 48 40.375 41.703125 38.8125 \r\nQ 48.828125 37.15625 52.796875 32.3125 \r\nQ 56.78125 27.484375 56.78125 20.515625 \r\nQ 56.78125 9.90625 50.3125 4.234375 \r\nQ 43.84375 -1.421875 31.78125 -1.421875 \r\nQ 19.734375 -1.421875 13.25 4.234375 \r\nQ 6.78125 9.90625 6.78125 20.515625 \r\nQ 6.78125 27.484375 10.78125 32.3125 \r\nQ 14.796875 37.15625 21.921875 38.8125 \r\nz\r\nM 18.3125 54.390625 \r\nQ 18.3125 48.734375 21.84375 45.5625 \r\nQ 25.390625 42.390625 31.78125 42.390625 \r\nQ 38.140625 42.390625 41.71875 45.5625 \r\nQ 45.3125 48.734375 45.3125 54.390625 \r\nQ 45.3125 60.0625 41.71875 63.234375 \r\nQ 38.140625 66.40625 31.78125 66.40625 \r\nQ 25.390625 66.40625 21.84375 63.234375 \r\nQ 18.3125 60.0625 18.3125 54.390625 \r\nz\r\n\" id=\"DejaVuSans-56\"/>\r\n      </defs>\r\n      <g transform=\"translate(320.523119 308.716563)scale(0.1 -0.1)\">\r\n       <use xlink:href=\"#DejaVuSans-56\"/>\r\n       <use x=\"63.623047\" xlink:href=\"#DejaVuSans-48\"/>\r\n      </g>\r\n     </g>\r\n    </g>\r\n    <g id=\"xtick_6\">\r\n     <g id=\"line2d_6\">\r\n      <g>\r\n       <use style=\"stroke:#000000;stroke-width:0.8;\" x=\"396.757896\" xlink:href=\"#m2c6144a3d3\" y=\"294.118125\"/>\r\n      </g>\r\n     </g>\r\n     <g id=\"text_6\">\r\n      <!-- 100 -->\r\n      <defs>\r\n       <path d=\"M 12.40625 8.296875 \r\nL 28.515625 8.296875 \r\nL 28.515625 63.921875 \r\nL 10.984375 60.40625 \r\nL 10.984375 69.390625 \r\nL 28.421875 72.90625 \r\nL 38.28125 72.90625 \r\nL 38.28125 8.296875 \r\nL 54.390625 8.296875 \r\nL 54.390625 0 \r\nL 12.40625 0 \r\nz\r\n\" id=\"DejaVuSans-49\"/>\r\n      </defs>\r\n      <g transform=\"translate(387.214146 308.716563)scale(0.1 -0.1)\">\r\n       <use xlink:href=\"#DejaVuSans-49\"/>\r\n       <use x=\"63.623047\" xlink:href=\"#DejaVuSans-48\"/>\r\n       <use x=\"127.246094\" xlink:href=\"#DejaVuSans-48\"/>\r\n      </g>\r\n     </g>\r\n    </g>\r\n   </g>\r\n   <g id=\"matplotlib.axis_2\">\r\n    <g id=\"ytick_1\">\r\n     <g id=\"line2d_7\">\r\n      <defs>\r\n       <path d=\"M 0 0 \r\nL -3.5 0 \r\n\" id=\"m75188b2526\" style=\"stroke:#000000;stroke-width:0.8;\"/>\r\n      </defs>\r\n      <g>\r\n       <use style=\"stroke:#000000;stroke-width:0.8;\" x=\"30.103125\" xlink:href=\"#m75188b2526\" y=\"265.721927\"/>\r\n      </g>\r\n     </g>\r\n     <g id=\"text_7\">\r\n      <!-- 1.4 -->\r\n      <defs>\r\n       <path d=\"M 10.6875 12.40625 \r\nL 21 12.40625 \r\nL 21 0 \r\nL 10.6875 0 \r\nz\r\n\" id=\"DejaVuSans-46\"/>\r\n      </defs>\r\n      <g transform=\"translate(7.2 269.521145)scale(0.1 -0.1)\">\r\n       <use xlink:href=\"#DejaVuSans-49\"/>\r\n       <use x=\"63.623047\" xlink:href=\"#DejaVuSans-46\"/>\r\n       <use x=\"95.410156\" xlink:href=\"#DejaVuSans-52\"/>\r\n      </g>\r\n     </g>\r\n    </g>\r\n    <g id=\"ytick_2\">\r\n     <g id=\"line2d_8\">\r\n      <g>\r\n       <use style=\"stroke:#000000;stroke-width:0.8;\" x=\"30.103125\" xlink:href=\"#m75188b2526\" y=\"214.11055\"/>\r\n      </g>\r\n     </g>\r\n     <g id=\"text_8\">\r\n      <!-- 1.6 -->\r\n      <g transform=\"translate(7.2 217.909769)scale(0.1 -0.1)\">\r\n       <use xlink:href=\"#DejaVuSans-49\"/>\r\n       <use x=\"63.623047\" xlink:href=\"#DejaVuSans-46\"/>\r\n       <use x=\"95.410156\" xlink:href=\"#DejaVuSans-54\"/>\r\n      </g>\r\n     </g>\r\n    </g>\r\n    <g id=\"ytick_3\">\r\n     <g id=\"line2d_9\">\r\n      <g>\r\n       <use style=\"stroke:#000000;stroke-width:0.8;\" x=\"30.103125\" xlink:href=\"#m75188b2526\" y=\"162.499174\"/>\r\n      </g>\r\n     </g>\r\n     <g id=\"text_9\">\r\n      <!-- 1.8 -->\r\n      <g transform=\"translate(7.2 166.298393)scale(0.1 -0.1)\">\r\n       <use xlink:href=\"#DejaVuSans-49\"/>\r\n       <use x=\"63.623047\" xlink:href=\"#DejaVuSans-46\"/>\r\n       <use x=\"95.410156\" xlink:href=\"#DejaVuSans-56\"/>\r\n      </g>\r\n     </g>\r\n    </g>\r\n    <g id=\"ytick_4\">\r\n     <g id=\"line2d_10\">\r\n      <g>\r\n       <use style=\"stroke:#000000;stroke-width:0.8;\" x=\"30.103125\" xlink:href=\"#m75188b2526\" y=\"110.887798\"/>\r\n      </g>\r\n     </g>\r\n     <g id=\"text_10\">\r\n      <!-- 2.0 -->\r\n      <g transform=\"translate(7.2 114.687016)scale(0.1 -0.1)\">\r\n       <use xlink:href=\"#DejaVuSans-50\"/>\r\n       <use x=\"63.623047\" xlink:href=\"#DejaVuSans-46\"/>\r\n       <use x=\"95.410156\" xlink:href=\"#DejaVuSans-48\"/>\r\n      </g>\r\n     </g>\r\n    </g>\r\n    <g id=\"ytick_5\">\r\n     <g id=\"line2d_11\">\r\n      <g>\r\n       <use style=\"stroke:#000000;stroke-width:0.8;\" x=\"30.103125\" xlink:href=\"#m75188b2526\" y=\"59.276421\"/>\r\n      </g>\r\n     </g>\r\n     <g id=\"text_11\">\r\n      <!-- 2.2 -->\r\n      <g transform=\"translate(7.2 63.07564)scale(0.1 -0.1)\">\r\n       <use xlink:href=\"#DejaVuSans-50\"/>\r\n       <use x=\"63.623047\" xlink:href=\"#DejaVuSans-46\"/>\r\n       <use x=\"95.410156\" xlink:href=\"#DejaVuSans-50\"/>\r\n      </g>\r\n     </g>\r\n    </g>\r\n   </g>\r\n   <g id=\"line2d_12\">\r\n    <path clip-path=\"url(#pabcbd6f2b9)\" d=\"M 47.396513 34.67267 \r\nL 50.890127 39.238073 \r\nL 54.383741 43.897201 \r\nL 57.877355 49.796197 \r\nL 61.370969 58.424036 \r\nL 64.864583 70.038601 \r\nL 68.358196 84.899435 \r\nL 71.85181 100.333628 \r\nL 75.345424 114.489423 \r\nL 78.839038 123.474995 \r\nL 82.332652 127.207918 \r\nL 85.826265 136.734594 \r\nL 89.319879 144.426001 \r\nL 92.813493 145.646542 \r\nL 96.307107 149.036797 \r\nL 99.800721 154.734728 \r\nL 103.294335 153.813642 \r\nL 106.787948 153.480052 \r\nL 110.281562 158.878138 \r\nL 113.775176 164.433856 \r\nL 117.26879 162.232164 \r\nL 120.762404 163.06448 \r\nL 124.256018 166.140796 \r\nL 127.749631 166.314557 \r\nL 131.243245 168.533886 \r\nL 134.736859 167.498296 \r\nL 138.230473 164.21452 \r\nL 141.724087 168.498038 \r\nL 145.217701 172.257958 \r\nL 148.711314 173.514954 \r\nL 152.204928 180.498493 \r\nL 155.698542 179.764204 \r\nL 159.192156 181.608067 \r\nL 162.68577 175.161142 \r\nL 166.179383 182.311801 \r\nL 169.672997 176.275132 \r\nL 173.166611 178.491432 \r\nL 176.660225 182.271514 \r\nL 180.153839 189.340607 \r\nL 183.647453 184.311715 \r\nL 187.141066 185.704546 \r\nL 190.63468 186.913821 \r\nL 194.128294 187.217931 \r\nL 197.621908 194.523385 \r\nL 201.115522 189.976104 \r\nL 204.609136 198.197526 \r\nL 208.102749 188.693173 \r\nL 211.596363 196.357774 \r\nL 215.089977 192.596998 \r\nL 218.583591 194.784987 \r\nL 222.077205 191.201802 \r\nL 225.570818 193.772266 \r\nL 229.064432 197.721323 \r\nL 232.558046 194.532047 \r\nL 236.05166 199.395279 \r\nL 239.545274 201.011462 \r\nL 243.038888 200.152223 \r\nL 246.532501 201.67536 \r\nL 250.026115 202.083838 \r\nL 253.519729 198.720925 \r\nL 257.013343 198.386867 \r\nL 260.506957 198.435872 \r\nL 264.000571 200.551024 \r\nL 267.494184 200.61572 \r\nL 270.987798 200.846331 \r\nL 274.481412 199.542981 \r\nL 277.975026 200.165437 \r\nL 281.46864 200.376237 \r\nL 284.962253 200.199546 \r\nL 288.455867 206.354091 \r\nL 291.949481 199.162466 \r\nL 295.443095 200.006237 \r\nL 298.936709 202.474531 \r\nL 302.430323 197.74967 \r\nL 305.923936 204.74068 \r\nL 309.41755 203.618532 \r\nL 312.911164 204.4397 \r\nL 316.404778 206.403822 \r\nL 319.898392 208.779627 \r\nL 323.392006 205.129799 \r\nL 326.885619 201.880466 \r\nL 330.379233 206.031341 \r\nL 333.872847 197.325109 \r\nL 337.366461 201.905888 \r\nL 340.860075 204.199633 \r\nL 344.353688 208.072926 \r\nL 347.847302 201.371584 \r\nL 351.340916 211.66595 \r\nL 354.83453 206.480991 \r\nL 358.328144 205.345465 \r\nL 361.821758 206.651074 \r\nL 365.315371 206.804694 \r\nL 368.808985 208.483598 \r\nL 372.302599 210.848816 \r\nL 375.796213 208.07951 \r\nL 379.289827 209.726592 \r\nL 382.783441 211.147124 \r\nL 386.277054 210.303966 \r\nL 389.770668 217.29833 \r\nL 393.264282 208.77508 \r\n\" style=\"fill:none;stroke:#1f77b4;stroke-linecap:square;stroke-width:1.5;\"/>\r\n   </g>\r\n   <g id=\"line2d_13\">\r\n    <path clip-path=\"url(#pabcbd6f2b9)\" d=\"M 47.396513 39.39041 \r\nL 50.890127 47.205768 \r\nL 54.383741 56.3469 \r\nL 57.877355 70.131397 \r\nL 61.370969 85.770817 \r\nL 64.864583 104.125481 \r\nL 68.358196 129.50723 \r\nL 71.85181 154.526884 \r\nL 75.345424 174.884517 \r\nL 78.839038 182.162092 \r\nL 82.332652 191.966752 \r\nL 85.826265 199.92188 \r\nL 89.319879 210.092945 \r\nL 92.813493 211.537373 \r\nL 96.307107 214.718519 \r\nL 99.800721 226.042681 \r\nL 103.294335 214.679803 \r\nL 106.787948 221.734439 \r\nL 110.281562 226.1519 \r\nL 113.775176 231.440874 \r\nL 117.26879 230.679394 \r\nL 120.762404 231.482092 \r\nL 124.256018 223.413616 \r\nL 127.749631 231.242034 \r\nL 131.243245 235.791165 \r\nL 134.736859 227.480944 \r\nL 138.230473 231.531962 \r\nL 141.724087 230.331118 \r\nL 145.217701 239.709441 \r\nL 148.711314 245.413543 \r\nL 152.204928 249.29529 \r\nL 155.698542 234.359567 \r\nL 159.192156 242.044812 \r\nL 162.68577 241.288908 \r\nL 166.179383 253.234199 \r\nL 169.672997 238.110231 \r\nL 173.166611 261.817463 \r\nL 176.660225 245.281182 \r\nL 180.153839 250.477971 \r\nL 183.647453 249.04013 \r\nL 187.141066 254.245408 \r\nL 190.63468 254.842258 \r\nL 194.128294 254.838392 \r\nL 197.621908 256.312366 \r\nL 201.115522 258.90123 \r\nL 204.609136 263.368099 \r\nL 208.102749 264.013327 \r\nL 211.596363 264.446277 \r\nL 215.089977 260.383956 \r\nL 218.583591 258.282281 \r\nL 222.077205 263.404292 \r\nL 225.570818 261.924502 \r\nL 229.064432 264.869209 \r\nL 232.558046 264.311728 \r\nL 236.05166 264.527534 \r\nL 239.545274 261.364477 \r\nL 243.038888 266.938396 \r\nL 246.532501 267.800345 \r\nL 250.026115 268.272477 \r\nL 253.519729 264.677947 \r\nL 257.013343 267.562396 \r\nL 260.506957 269.939615 \r\nL 264.000571 269.502348 \r\nL 267.494184 271.192189 \r\nL 270.987798 271.160665 \r\nL 274.481412 271.992914 \r\nL 277.975026 269.242452 \r\nL 281.46864 273.06881 \r\nL 284.962253 268.869939 \r\nL 288.455867 273.549755 \r\nL 291.949481 271.443847 \r\nL 295.443095 270.627073 \r\nL 298.936709 271.08687 \r\nL 302.430323 261.312512 \r\nL 305.923936 274.190261 \r\nL 309.41755 274.972084 \r\nL 312.911164 270.906303 \r\nL 316.404778 273.145485 \r\nL 319.898392 277.640901 \r\nL 323.392006 275.793756 \r\nL 326.885619 277.758665 \r\nL 330.379233 274.396788 \r\nL 333.872847 277.365949 \r\nL 337.366461 274.899112 \r\nL 340.860075 273.324267 \r\nL 344.353688 268.778843 \r\nL 347.847302 274.463765 \r\nL 351.340916 276.070008 \r\nL 354.83453 278.905926 \r\nL 358.328144 277.514169 \r\nL 361.821758 280.553769 \r\nL 365.315371 277.427474 \r\nL 368.808985 277.497671 \r\nL 372.302599 277.142511 \r\nL 375.796213 278.223366 \r\nL 379.289827 277.139953 \r\nL 382.783441 281.76358 \r\nL 386.277054 277.158084 \r\nL 389.770668 279.99732 \r\nL 393.264282 280.292309 \r\n\" style=\"fill:none;stroke:#ff7f0e;stroke-linecap:square;stroke-width:1.5;\"/>\r\n   </g>\r\n   <g id=\"patch_3\">\r\n    <path d=\"M 30.103125 294.118125 \r\nL 30.103125 22.318125 \r\n\" style=\"fill:none;stroke:#000000;stroke-linecap:square;stroke-linejoin:miter;stroke-width:0.8;\"/>\r\n   </g>\r\n   <g id=\"patch_4\">\r\n    <path d=\"M 410.55767 294.118125 \r\nL 410.55767 22.318125 \r\n\" style=\"fill:none;stroke:#000000;stroke-linecap:square;stroke-linejoin:miter;stroke-width:0.8;\"/>\r\n   </g>\r\n   <g id=\"patch_5\">\r\n    <path d=\"M 30.103125 294.118125 \r\nL 410.55767 294.118125 \r\n\" style=\"fill:none;stroke:#000000;stroke-linecap:square;stroke-linejoin:miter;stroke-width:0.8;\"/>\r\n   </g>\r\n   <g id=\"patch_6\">\r\n    <path d=\"M 30.103125 22.318125 \r\nL 410.55767 22.318125 \r\n\" style=\"fill:none;stroke:#000000;stroke-linecap:square;stroke-linejoin:miter;stroke-width:0.8;\"/>\r\n   </g>\r\n   <g id=\"text_12\">\r\n    <!-- loss -->\r\n    <defs>\r\n     <path d=\"M 9.421875 75.984375 \r\nL 18.40625 75.984375 \r\nL 18.40625 0 \r\nL 9.421875 0 \r\nz\r\n\" id=\"DejaVuSans-108\"/>\r\n     <path d=\"M 30.609375 48.390625 \r\nQ 23.390625 48.390625 19.1875 42.75 \r\nQ 14.984375 37.109375 14.984375 27.296875 \r\nQ 14.984375 17.484375 19.15625 11.84375 \r\nQ 23.34375 6.203125 30.609375 6.203125 \r\nQ 37.796875 6.203125 41.984375 11.859375 \r\nQ 46.1875 17.53125 46.1875 27.296875 \r\nQ 46.1875 37.015625 41.984375 42.703125 \r\nQ 37.796875 48.390625 30.609375 48.390625 \r\nz\r\nM 30.609375 56 \r\nQ 42.328125 56 49.015625 48.375 \r\nQ 55.71875 40.765625 55.71875 27.296875 \r\nQ 55.71875 13.875 49.015625 6.21875 \r\nQ 42.328125 -1.421875 30.609375 -1.421875 \r\nQ 18.84375 -1.421875 12.171875 6.21875 \r\nQ 5.515625 13.875 5.515625 27.296875 \r\nQ 5.515625 40.765625 12.171875 48.375 \r\nQ 18.84375 56 30.609375 56 \r\nz\r\n\" id=\"DejaVuSans-111\"/>\r\n     <path d=\"M 44.28125 53.078125 \r\nL 44.28125 44.578125 \r\nQ 40.484375 46.53125 36.375 47.5 \r\nQ 32.28125 48.484375 27.875 48.484375 \r\nQ 21.1875 48.484375 17.84375 46.4375 \r\nQ 14.5 44.390625 14.5 40.28125 \r\nQ 14.5 37.15625 16.890625 35.375 \r\nQ 19.28125 33.59375 26.515625 31.984375 \r\nL 29.59375 31.296875 \r\nQ 39.15625 29.25 43.1875 25.515625 \r\nQ 47.21875 21.78125 47.21875 15.09375 \r\nQ 47.21875 7.46875 41.1875 3.015625 \r\nQ 35.15625 -1.421875 24.609375 -1.421875 \r\nQ 20.21875 -1.421875 15.453125 -0.5625 \r\nQ 10.6875 0.296875 5.421875 2 \r\nL 5.421875 11.28125 \r\nQ 10.40625 8.6875 15.234375 7.390625 \r\nQ 20.0625 6.109375 24.8125 6.109375 \r\nQ 31.15625 6.109375 34.5625 8.28125 \r\nQ 37.984375 10.453125 37.984375 14.40625 \r\nQ 37.984375 18.0625 35.515625 20.015625 \r\nQ 33.0625 21.96875 24.703125 23.78125 \r\nL 21.578125 24.515625 \r\nQ 13.234375 26.265625 9.515625 29.90625 \r\nQ 5.8125 33.546875 5.8125 39.890625 \r\nQ 5.8125 47.609375 11.28125 51.796875 \r\nQ 16.75 56 26.8125 56 \r\nQ 31.78125 56 36.171875 55.265625 \r\nQ 40.578125 54.546875 44.28125 53.078125 \r\nz\r\n\" id=\"DejaVuSans-115\"/>\r\n    </defs>\r\n    <g transform=\"translate(208.741023 16.318125)scale(0.12 -0.12)\">\r\n     <use xlink:href=\"#DejaVuSans-108\"/>\r\n     <use x=\"27.783203\" xlink:href=\"#DejaVuSans-111\"/>\r\n     <use x=\"88.964844\" xlink:href=\"#DejaVuSans-115\"/>\r\n     <use x=\"141.064453\" xlink:href=\"#DejaVuSans-115\"/>\r\n    </g>\r\n   </g>\r\n   <g id=\"legend_1\">\r\n    <g id=\"patch_7\">\r\n     <path d=\"M 299.68267 59.674375 \r\nL 403.55767 59.674375 \r\nQ 405.55767 59.674375 405.55767 57.674375 \r\nL 405.55767 29.318125 \r\nQ 405.55767 27.318125 403.55767 27.318125 \r\nL 299.68267 27.318125 \r\nQ 297.68267 27.318125 297.68267 29.318125 \r\nL 297.68267 57.674375 \r\nQ 297.68267 59.674375 299.68267 59.674375 \r\nz\r\n\" style=\"fill:#ffffff;opacity:0.8;stroke:#cccccc;stroke-linejoin:miter;\"/>\r\n    </g>\r\n    <g id=\"line2d_14\">\r\n     <path d=\"M 301.68267 35.416562 \r\nL 321.68267 35.416562 \r\n\" style=\"fill:none;stroke:#1f77b4;stroke-linecap:square;stroke-width:1.5;\"/>\r\n    </g>\r\n    <g id=\"line2d_15\"/>\r\n    <g id=\"text_13\">\r\n     <!-- Train loss -->\r\n     <defs>\r\n      <path d=\"M -0.296875 72.90625 \r\nL 61.375 72.90625 \r\nL 61.375 64.59375 \r\nL 35.5 64.59375 \r\nL 35.5 0 \r\nL 25.59375 0 \r\nL 25.59375 64.59375 \r\nL -0.296875 64.59375 \r\nz\r\n\" id=\"DejaVuSans-84\"/>\r\n      <path d=\"M 41.109375 46.296875 \r\nQ 39.59375 47.171875 37.8125 47.578125 \r\nQ 36.03125 48 33.890625 48 \r\nQ 26.265625 48 22.1875 43.046875 \r\nQ 18.109375 38.09375 18.109375 28.8125 \r\nL 18.109375 0 \r\nL 9.078125 0 \r\nL 9.078125 54.6875 \r\nL 18.109375 54.6875 \r\nL 18.109375 46.1875 \r\nQ 20.953125 51.171875 25.484375 53.578125 \r\nQ 30.03125 56 36.53125 56 \r\nQ 37.453125 56 38.578125 55.875 \r\nQ 39.703125 55.765625 41.0625 55.515625 \r\nz\r\n\" id=\"DejaVuSans-114\"/>\r\n      <path d=\"M 34.28125 27.484375 \r\nQ 23.390625 27.484375 19.1875 25 \r\nQ 14.984375 22.515625 14.984375 16.5 \r\nQ 14.984375 11.71875 18.140625 8.90625 \r\nQ 21.296875 6.109375 26.703125 6.109375 \r\nQ 34.1875 6.109375 38.703125 11.40625 \r\nQ 43.21875 16.703125 43.21875 25.484375 \r\nL 43.21875 27.484375 \r\nz\r\nM 52.203125 31.203125 \r\nL 52.203125 0 \r\nL 43.21875 0 \r\nL 43.21875 8.296875 \r\nQ 40.140625 3.328125 35.546875 0.953125 \r\nQ 30.953125 -1.421875 24.3125 -1.421875 \r\nQ 15.921875 -1.421875 10.953125 3.296875 \r\nQ 6 8.015625 6 15.921875 \r\nQ 6 25.140625 12.171875 29.828125 \r\nQ 18.359375 34.515625 30.609375 34.515625 \r\nL 43.21875 34.515625 \r\nL 43.21875 35.40625 \r\nQ 43.21875 41.609375 39.140625 45 \r\nQ 35.0625 48.390625 27.6875 48.390625 \r\nQ 23 48.390625 18.546875 47.265625 \r\nQ 14.109375 46.140625 10.015625 43.890625 \r\nL 10.015625 52.203125 \r\nQ 14.9375 54.109375 19.578125 55.046875 \r\nQ 24.21875 56 28.609375 56 \r\nQ 40.484375 56 46.34375 49.84375 \r\nQ 52.203125 43.703125 52.203125 31.203125 \r\nz\r\n\" id=\"DejaVuSans-97\"/>\r\n      <path d=\"M 9.421875 54.6875 \r\nL 18.40625 54.6875 \r\nL 18.40625 0 \r\nL 9.421875 0 \r\nz\r\nM 9.421875 75.984375 \r\nL 18.40625 75.984375 \r\nL 18.40625 64.59375 \r\nL 9.421875 64.59375 \r\nz\r\n\" id=\"DejaVuSans-105\"/>\r\n      <path d=\"M 54.890625 33.015625 \r\nL 54.890625 0 \r\nL 45.90625 0 \r\nL 45.90625 32.71875 \r\nQ 45.90625 40.484375 42.875 44.328125 \r\nQ 39.84375 48.1875 33.796875 48.1875 \r\nQ 26.515625 48.1875 22.3125 43.546875 \r\nQ 18.109375 38.921875 18.109375 30.90625 \r\nL 18.109375 0 \r\nL 9.078125 0 \r\nL 9.078125 54.6875 \r\nL 18.109375 54.6875 \r\nL 18.109375 46.1875 \r\nQ 21.34375 51.125 25.703125 53.5625 \r\nQ 30.078125 56 35.796875 56 \r\nQ 45.21875 56 50.046875 50.171875 \r\nQ 54.890625 44.34375 54.890625 33.015625 \r\nz\r\n\" id=\"DejaVuSans-110\"/>\r\n      <path id=\"DejaVuSans-32\"/>\r\n     </defs>\r\n     <g transform=\"translate(329.68267 38.916562)scale(0.1 -0.1)\">\r\n      <use xlink:href=\"#DejaVuSans-84\"/>\r\n      <use x=\"46.333984\" xlink:href=\"#DejaVuSans-114\"/>\r\n      <use x=\"87.447266\" xlink:href=\"#DejaVuSans-97\"/>\r\n      <use x=\"148.726562\" xlink:href=\"#DejaVuSans-105\"/>\r\n      <use x=\"176.509766\" xlink:href=\"#DejaVuSans-110\"/>\r\n      <use x=\"239.888672\" xlink:href=\"#DejaVuSans-32\"/>\r\n      <use x=\"271.675781\" xlink:href=\"#DejaVuSans-108\"/>\r\n      <use x=\"299.458984\" xlink:href=\"#DejaVuSans-111\"/>\r\n      <use x=\"360.640625\" xlink:href=\"#DejaVuSans-115\"/>\r\n      <use x=\"412.740234\" xlink:href=\"#DejaVuSans-115\"/>\r\n     </g>\r\n    </g>\r\n    <g id=\"line2d_16\">\r\n     <path d=\"M 301.68267 50.094688 \r\nL 321.68267 50.094688 \r\n\" style=\"fill:none;stroke:#ff7f0e;stroke-linecap:square;stroke-width:1.5;\"/>\r\n    </g>\r\n    <g id=\"line2d_17\"/>\r\n    <g id=\"text_14\">\r\n     <!-- Validation loss -->\r\n     <defs>\r\n      <path d=\"M 28.609375 0 \r\nL 0.78125 72.90625 \r\nL 11.078125 72.90625 \r\nL 34.1875 11.53125 \r\nL 57.328125 72.90625 \r\nL 67.578125 72.90625 \r\nL 39.796875 0 \r\nz\r\n\" id=\"DejaVuSans-86\"/>\r\n      <path d=\"M 45.40625 46.390625 \r\nL 45.40625 75.984375 \r\nL 54.390625 75.984375 \r\nL 54.390625 0 \r\nL 45.40625 0 \r\nL 45.40625 8.203125 \r\nQ 42.578125 3.328125 38.25 0.953125 \r\nQ 33.9375 -1.421875 27.875 -1.421875 \r\nQ 17.96875 -1.421875 11.734375 6.484375 \r\nQ 5.515625 14.40625 5.515625 27.296875 \r\nQ 5.515625 40.1875 11.734375 48.09375 \r\nQ 17.96875 56 27.875 56 \r\nQ 33.9375 56 38.25 53.625 \r\nQ 42.578125 51.265625 45.40625 46.390625 \r\nz\r\nM 14.796875 27.296875 \r\nQ 14.796875 17.390625 18.875 11.75 \r\nQ 22.953125 6.109375 30.078125 6.109375 \r\nQ 37.203125 6.109375 41.296875 11.75 \r\nQ 45.40625 17.390625 45.40625 27.296875 \r\nQ 45.40625 37.203125 41.296875 42.84375 \r\nQ 37.203125 48.484375 30.078125 48.484375 \r\nQ 22.953125 48.484375 18.875 42.84375 \r\nQ 14.796875 37.203125 14.796875 27.296875 \r\nz\r\n\" id=\"DejaVuSans-100\"/>\r\n      <path d=\"M 18.3125 70.21875 \r\nL 18.3125 54.6875 \r\nL 36.8125 54.6875 \r\nL 36.8125 47.703125 \r\nL 18.3125 47.703125 \r\nL 18.3125 18.015625 \r\nQ 18.3125 11.328125 20.140625 9.421875 \r\nQ 21.96875 7.515625 27.59375 7.515625 \r\nL 36.8125 7.515625 \r\nL 36.8125 0 \r\nL 27.59375 0 \r\nQ 17.1875 0 13.234375 3.875 \r\nQ 9.28125 7.765625 9.28125 18.015625 \r\nL 9.28125 47.703125 \r\nL 2.6875 47.703125 \r\nL 2.6875 54.6875 \r\nL 9.28125 54.6875 \r\nL 9.28125 70.21875 \r\nz\r\n\" id=\"DejaVuSans-116\"/>\r\n     </defs>\r\n     <g transform=\"translate(329.68267 53.594688)scale(0.1 -0.1)\">\r\n      <use xlink:href=\"#DejaVuSans-86\"/>\r\n      <use x=\"60.658203\" xlink:href=\"#DejaVuSans-97\"/>\r\n      <use x=\"121.9375\" xlink:href=\"#DejaVuSans-108\"/>\r\n      <use x=\"149.720703\" xlink:href=\"#DejaVuSans-105\"/>\r\n      <use x=\"177.503906\" xlink:href=\"#DejaVuSans-100\"/>\r\n      <use x=\"240.980469\" xlink:href=\"#DejaVuSans-97\"/>\r\n      <use x=\"302.259766\" xlink:href=\"#DejaVuSans-116\"/>\r\n      <use x=\"341.46875\" xlink:href=\"#DejaVuSans-105\"/>\r\n      <use x=\"369.251953\" xlink:href=\"#DejaVuSans-111\"/>\r\n      <use x=\"430.433594\" xlink:href=\"#DejaVuSans-110\"/>\r\n      <use x=\"493.8125\" xlink:href=\"#DejaVuSans-32\"/>\r\n      <use x=\"525.599609\" xlink:href=\"#DejaVuSans-108\"/>\r\n      <use x=\"553.382812\" xlink:href=\"#DejaVuSans-111\"/>\r\n      <use x=\"614.564453\" xlink:href=\"#DejaVuSans-115\"/>\r\n      <use x=\"666.664062\" xlink:href=\"#DejaVuSans-115\"/>\r\n     </g>\r\n    </g>\r\n   </g>\r\n  </g>\r\n  <g id=\"axes_2\">\r\n   <g id=\"patch_8\">\r\n    <path d=\"M 486.64858 294.118125 \r\nL 867.103125 294.118125 \r\nL 867.103125 22.318125 \r\nL 486.64858 22.318125 \r\nz\r\n\" style=\"fill:#ffffff;\"/>\r\n   </g>\r\n   <g id=\"matplotlib.axis_3\">\r\n    <g id=\"xtick_7\">\r\n     <g id=\"line2d_18\">\r\n      <g>\r\n       <use style=\"stroke:#000000;stroke-width:0.8;\" x=\"503.941968\" xlink:href=\"#m2c6144a3d3\" y=\"294.118125\"/>\r\n      </g>\r\n     </g>\r\n     <g id=\"text_15\">\r\n      <!-- 0 -->\r\n      <g transform=\"translate(500.760718 308.716563)scale(0.1 -0.1)\">\r\n       <use xlink:href=\"#DejaVuSans-48\"/>\r\n      </g>\r\n     </g>\r\n    </g>\r\n    <g id=\"xtick_8\">\r\n     <g id=\"line2d_19\">\r\n      <g>\r\n       <use style=\"stroke:#000000;stroke-width:0.8;\" x=\"573.814244\" xlink:href=\"#m2c6144a3d3\" y=\"294.118125\"/>\r\n      </g>\r\n     </g>\r\n     <g id=\"text_16\">\r\n      <!-- 20 -->\r\n      <g transform=\"translate(567.451744 308.716563)scale(0.1 -0.1)\">\r\n       <use xlink:href=\"#DejaVuSans-50\"/>\r\n       <use x=\"63.623047\" xlink:href=\"#DejaVuSans-48\"/>\r\n      </g>\r\n     </g>\r\n    </g>\r\n    <g id=\"xtick_9\">\r\n     <g id=\"line2d_20\">\r\n      <g>\r\n       <use style=\"stroke:#000000;stroke-width:0.8;\" x=\"643.686521\" xlink:href=\"#m2c6144a3d3\" y=\"294.118125\"/>\r\n      </g>\r\n     </g>\r\n     <g id=\"text_17\">\r\n      <!-- 40 -->\r\n      <g transform=\"translate(637.324021 308.716563)scale(0.1 -0.1)\">\r\n       <use xlink:href=\"#DejaVuSans-52\"/>\r\n       <use x=\"63.623047\" xlink:href=\"#DejaVuSans-48\"/>\r\n      </g>\r\n     </g>\r\n    </g>\r\n    <g id=\"xtick_10\">\r\n     <g id=\"line2d_21\">\r\n      <g>\r\n       <use style=\"stroke:#000000;stroke-width:0.8;\" x=\"713.558797\" xlink:href=\"#m2c6144a3d3\" y=\"294.118125\"/>\r\n      </g>\r\n     </g>\r\n     <g id=\"text_18\">\r\n      <!-- 60 -->\r\n      <g transform=\"translate(707.196297 308.716563)scale(0.1 -0.1)\">\r\n       <use xlink:href=\"#DejaVuSans-54\"/>\r\n       <use x=\"63.623047\" xlink:href=\"#DejaVuSans-48\"/>\r\n      </g>\r\n     </g>\r\n    </g>\r\n    <g id=\"xtick_11\">\r\n     <g id=\"line2d_22\">\r\n      <g>\r\n       <use style=\"stroke:#000000;stroke-width:0.8;\" x=\"783.431074\" xlink:href=\"#m2c6144a3d3\" y=\"294.118125\"/>\r\n      </g>\r\n     </g>\r\n     <g id=\"text_19\">\r\n      <!-- 80 -->\r\n      <g transform=\"translate(777.068574 308.716563)scale(0.1 -0.1)\">\r\n       <use xlink:href=\"#DejaVuSans-56\"/>\r\n       <use x=\"63.623047\" xlink:href=\"#DejaVuSans-48\"/>\r\n      </g>\r\n     </g>\r\n    </g>\r\n    <g id=\"xtick_12\">\r\n     <g id=\"line2d_23\">\r\n      <g>\r\n       <use style=\"stroke:#000000;stroke-width:0.8;\" x=\"853.30335\" xlink:href=\"#m2c6144a3d3\" y=\"294.118125\"/>\r\n      </g>\r\n     </g>\r\n     <g id=\"text_20\">\r\n      <!-- 100 -->\r\n      <g transform=\"translate(843.7596 308.716563)scale(0.1 -0.1)\">\r\n       <use xlink:href=\"#DejaVuSans-49\"/>\r\n       <use x=\"63.623047\" xlink:href=\"#DejaVuSans-48\"/>\r\n       <use x=\"127.246094\" xlink:href=\"#DejaVuSans-48\"/>\r\n      </g>\r\n     </g>\r\n    </g>\r\n   </g>\r\n   <g id=\"matplotlib.axis_4\">\r\n    <g id=\"ytick_6\">\r\n     <g id=\"line2d_24\">\r\n      <g>\r\n       <use style=\"stroke:#000000;stroke-width:0.8;\" x=\"486.64858\" xlink:href=\"#m75188b2526\" y=\"282.023846\"/>\r\n      </g>\r\n     </g>\r\n     <g id=\"text_21\">\r\n      <!-- 0.1 -->\r\n      <g transform=\"translate(463.745455 285.823065)scale(0.1 -0.1)\">\r\n       <use xlink:href=\"#DejaVuSans-48\"/>\r\n       <use x=\"63.623047\" xlink:href=\"#DejaVuSans-46\"/>\r\n       <use x=\"95.410156\" xlink:href=\"#DejaVuSans-49\"/>\r\n      </g>\r\n     </g>\r\n    </g>\r\n    <g id=\"ytick_7\">\r\n     <g id=\"line2d_25\">\r\n      <g>\r\n       <use style=\"stroke:#000000;stroke-width:0.8;\" x=\"486.64858\" xlink:href=\"#m75188b2526\" y=\"231.044063\"/>\r\n      </g>\r\n     </g>\r\n     <g id=\"text_22\">\r\n      <!-- 0.2 -->\r\n      <g transform=\"translate(463.745455 234.843282)scale(0.1 -0.1)\">\r\n       <use xlink:href=\"#DejaVuSans-48\"/>\r\n       <use x=\"63.623047\" xlink:href=\"#DejaVuSans-46\"/>\r\n       <use x=\"95.410156\" xlink:href=\"#DejaVuSans-50\"/>\r\n      </g>\r\n     </g>\r\n    </g>\r\n    <g id=\"ytick_8\">\r\n     <g id=\"line2d_26\">\r\n      <g>\r\n       <use style=\"stroke:#000000;stroke-width:0.8;\" x=\"486.64858\" xlink:href=\"#m75188b2526\" y=\"180.06428\"/>\r\n      </g>\r\n     </g>\r\n     <g id=\"text_23\">\r\n      <!-- 0.3 -->\r\n      <defs>\r\n       <path d=\"M 40.578125 39.3125 \r\nQ 47.65625 37.796875 51.625 33 \r\nQ 55.609375 28.21875 55.609375 21.1875 \r\nQ 55.609375 10.40625 48.1875 4.484375 \r\nQ 40.765625 -1.421875 27.09375 -1.421875 \r\nQ 22.515625 -1.421875 17.65625 -0.515625 \r\nQ 12.796875 0.390625 7.625 2.203125 \r\nL 7.625 11.71875 \r\nQ 11.71875 9.328125 16.59375 8.109375 \r\nQ 21.484375 6.890625 26.8125 6.890625 \r\nQ 36.078125 6.890625 40.9375 10.546875 \r\nQ 45.796875 14.203125 45.796875 21.1875 \r\nQ 45.796875 27.640625 41.28125 31.265625 \r\nQ 36.765625 34.90625 28.71875 34.90625 \r\nL 20.21875 34.90625 \r\nL 20.21875 43.015625 \r\nL 29.109375 43.015625 \r\nQ 36.375 43.015625 40.234375 45.921875 \r\nQ 44.09375 48.828125 44.09375 54.296875 \r\nQ 44.09375 59.90625 40.109375 62.90625 \r\nQ 36.140625 65.921875 28.71875 65.921875 \r\nQ 24.65625 65.921875 20.015625 65.03125 \r\nQ 15.375 64.15625 9.8125 62.3125 \r\nL 9.8125 71.09375 \r\nQ 15.4375 72.65625 20.34375 73.4375 \r\nQ 25.25 74.21875 29.59375 74.21875 \r\nQ 40.828125 74.21875 47.359375 69.109375 \r\nQ 53.90625 64.015625 53.90625 55.328125 \r\nQ 53.90625 49.265625 50.4375 45.09375 \r\nQ 46.96875 40.921875 40.578125 39.3125 \r\nz\r\n\" id=\"DejaVuSans-51\"/>\r\n      </defs>\r\n      <g transform=\"translate(463.745455 183.863499)scale(0.1 -0.1)\">\r\n       <use xlink:href=\"#DejaVuSans-48\"/>\r\n       <use x=\"63.623047\" xlink:href=\"#DejaVuSans-46\"/>\r\n       <use x=\"95.410156\" xlink:href=\"#DejaVuSans-51\"/>\r\n      </g>\r\n     </g>\r\n    </g>\r\n    <g id=\"ytick_9\">\r\n     <g id=\"line2d_27\">\r\n      <g>\r\n       <use style=\"stroke:#000000;stroke-width:0.8;\" x=\"486.64858\" xlink:href=\"#m75188b2526\" y=\"129.084496\"/>\r\n      </g>\r\n     </g>\r\n     <g id=\"text_24\">\r\n      <!-- 0.4 -->\r\n      <g transform=\"translate(463.745455 132.883715)scale(0.1 -0.1)\">\r\n       <use xlink:href=\"#DejaVuSans-48\"/>\r\n       <use x=\"63.623047\" xlink:href=\"#DejaVuSans-46\"/>\r\n       <use x=\"95.410156\" xlink:href=\"#DejaVuSans-52\"/>\r\n      </g>\r\n     </g>\r\n    </g>\r\n    <g id=\"ytick_10\">\r\n     <g id=\"line2d_28\">\r\n      <g>\r\n       <use style=\"stroke:#000000;stroke-width:0.8;\" x=\"486.64858\" xlink:href=\"#m75188b2526\" y=\"78.104713\"/>\r\n      </g>\r\n     </g>\r\n     <g id=\"text_25\">\r\n      <!-- 0.5 -->\r\n      <defs>\r\n       <path d=\"M 10.796875 72.90625 \r\nL 49.515625 72.90625 \r\nL 49.515625 64.59375 \r\nL 19.828125 64.59375 \r\nL 19.828125 46.734375 \r\nQ 21.96875 47.46875 24.109375 47.828125 \r\nQ 26.265625 48.1875 28.421875 48.1875 \r\nQ 40.625 48.1875 47.75 41.5 \r\nQ 54.890625 34.8125 54.890625 23.390625 \r\nQ 54.890625 11.625 47.5625 5.09375 \r\nQ 40.234375 -1.421875 26.90625 -1.421875 \r\nQ 22.3125 -1.421875 17.546875 -0.640625 \r\nQ 12.796875 0.140625 7.71875 1.703125 \r\nL 7.71875 11.625 \r\nQ 12.109375 9.234375 16.796875 8.0625 \r\nQ 21.484375 6.890625 26.703125 6.890625 \r\nQ 35.15625 6.890625 40.078125 11.328125 \r\nQ 45.015625 15.765625 45.015625 23.390625 \r\nQ 45.015625 31 40.078125 35.4375 \r\nQ 35.15625 39.890625 26.703125 39.890625 \r\nQ 22.75 39.890625 18.8125 39.015625 \r\nQ 14.890625 38.140625 10.796875 36.28125 \r\nz\r\n\" id=\"DejaVuSans-53\"/>\r\n      </defs>\r\n      <g transform=\"translate(463.745455 81.903932)scale(0.1 -0.1)\">\r\n       <use xlink:href=\"#DejaVuSans-48\"/>\r\n       <use x=\"63.623047\" xlink:href=\"#DejaVuSans-46\"/>\r\n       <use x=\"95.410156\" xlink:href=\"#DejaVuSans-53\"/>\r\n      </g>\r\n     </g>\r\n    </g>\r\n    <g id=\"ytick_11\">\r\n     <g id=\"line2d_29\">\r\n      <g>\r\n       <use style=\"stroke:#000000;stroke-width:0.8;\" x=\"486.64858\" xlink:href=\"#m75188b2526\" y=\"27.12493\"/>\r\n      </g>\r\n     </g>\r\n     <g id=\"text_26\">\r\n      <!-- 0.6 -->\r\n      <g transform=\"translate(463.745455 30.924148)scale(0.1 -0.1)\">\r\n       <use xlink:href=\"#DejaVuSans-48\"/>\r\n       <use x=\"63.623047\" xlink:href=\"#DejaVuSans-46\"/>\r\n       <use x=\"95.410156\" xlink:href=\"#DejaVuSans-54\"/>\r\n      </g>\r\n     </g>\r\n    </g>\r\n   </g>\r\n   <g id=\"line2d_30\">\r\n    <path clip-path=\"url(#peaaeb69066)\" d=\"M 503.941968 271.229452 \r\nL 507.435582 273.218543 \r\nL 510.929196 265.933352 \r\nL 514.422809 255.185541 \r\nL 517.916423 250.63806 \r\nL 521.410037 232.781462 \r\nL 524.903651 228.437965 \r\nL 528.397265 212.51181 \r\nL 531.890879 201.411762 \r\nL 535.384492 195.781304 \r\nL 538.878106 194.263238 \r\nL 542.37172 187.25518 \r\nL 545.865334 185.807348 \r\nL 549.358948 189.989974 \r\nL 552.852562 185.646478 \r\nL 556.346175 177.442095 \r\nL 559.839789 178.889927 \r\nL 563.333403 185.652886 \r\nL 566.827017 180.860839 \r\nL 570.320631 173.581209 \r\nL 573.814244 168.594231 \r\nL 577.307858 178.17975 \r\nL 580.801472 168.107262 \r\nL 584.295086 177.196667 \r\nL 587.7887 172.981047 \r\nL 591.282314 170.202933 \r\nL 594.775927 176.959484 \r\nL 598.269541 171.780065 \r\nL 601.763155 165.182992 \r\nL 605.256769 172.656128 \r\nL 608.750383 154.893012 \r\nL 612.243997 160.068107 \r\nL 615.73761 163.883316 \r\nL 619.231224 165.376826 \r\nL 622.724838 159.99099 \r\nL 626.218452 162.258721 \r\nL 629.712066 170.202933 \r\nL 633.205679 158.781145 \r\nL 636.699293 158.359694 \r\nL 640.192907 158.620275 \r\nL 643.686521 157.760625 \r\nL 647.180135 155.081129 \r\nL 650.673749 158.034775 \r\nL 654.167362 151.381114 \r\nL 657.660976 158.781145 \r\nL 661.15459 146.337693 \r\nL 664.648204 156.689832 \r\nL 668.141818 145.174991 \r\nL 671.635432 148.96806 \r\nL 675.129045 150.561639 \r\nL 678.622659 152.185465 \r\nL 682.116273 152.507205 \r\nL 685.609887 152.828946 \r\nL 689.103501 154.115908 \r\nL 692.597114 147.841968 \r\nL 696.090728 142.276206 \r\nL 699.584342 145.911525 \r\nL 703.077956 146.555006 \r\nL 706.57157 136.098439 \r\nL 710.065184 148.163709 \r\nL 713.558797 143.413422 \r\nL 717.052411 148.839162 \r\nL 720.546025 143.337601 \r\nL 724.039639 147.637369 \r\nL 727.533253 148.839162 \r\nL 731.026867 148.124747 \r\nL 734.52048 143.981082 \r\nL 738.014094 149.2898 \r\nL 741.507708 145.850314 \r\nL 745.001322 140.281066 \r\nL 748.494936 145.911525 \r\nL 751.988549 142.85499 \r\nL 755.482163 142.53325 \r\nL 758.975777 148.449666 \r\nL 762.469391 145.334302 \r\nL 765.963005 143.820212 \r\nL 769.456619 141.085417 \r\nL 772.950232 147.14999 \r\nL 776.443846 134.167996 \r\nL 779.93746 147.681098 \r\nL 783.431074 143.337601 \r\nL 786.924688 135.776699 \r\nL 790.418302 146.715876 \r\nL 793.911915 151.059373 \r\nL 797.405529 140.441936 \r\nL 800.899143 142.926044 \r\nL 804.392757 147.037617 \r\nL 807.886371 134.972348 \r\nL 811.379985 138.994104 \r\nL 814.873598 144.785433 \r\nL 818.367212 137.546272 \r\nL 821.860826 140.602807 \r\nL 825.35444 139.351935 \r\nL 828.848054 143.820212 \r\nL 832.341667 141.889769 \r\nL 835.835281 141.568028 \r\nL 839.328895 134.650607 \r\nL 842.822509 131.272332 \r\nL 846.316123 133.363645 \r\nL 849.809737 143.900801 \r\n\" style=\"fill:none;stroke:#1f77b4;stroke-linecap:square;stroke-width:1.5;\"/>\r\n   </g>\r\n   <g id=\"line2d_31\">\r\n    <path clip-path=\"url(#peaaeb69066)\" d=\"M 503.941968 279.859306 \r\nL 507.435582 281.76358 \r\nL 510.929196 272.267259 \r\nL 514.422809 212.955512 \r\nL 517.916423 166.107466 \r\nL 521.410037 172.116861 \r\nL 524.903651 160.739461 \r\nL 528.397265 168.222135 \r\nL 531.890879 112.99582 \r\nL 535.384492 126.904761 \r\nL 538.878106 144.010136 \r\nL 542.37172 107.710075 \r\nL 545.865334 104.782073 \r\nL 549.358948 95.550266 \r\nL 552.852562 105.92074 \r\nL 556.346175 61.83803 \r\nL 559.839789 113.965017 \r\nL 563.333403 84.286052 \r\nL 566.827017 83.310051 \r\nL 570.320631 65.989746 \r\nL 573.814244 96.486064 \r\nL 577.307858 113.803484 \r\nL 580.801472 76.152711 \r\nL 584.295086 65.091367 \r\nL 587.7887 72.612594 \r\nL 591.282314 123.000757 \r\nL 594.775927 116.006084 \r\nL 598.269541 69.220404 \r\nL 601.763155 75.339377 \r\nL 605.256769 56.297772 \r\nL 608.750383 55.819358 \r\nL 612.243997 142.195443 \r\nL 615.73761 100.719319 \r\nL 619.231224 98.7634 \r\nL 622.724838 66.555368 \r\nL 626.218452 102.496181 \r\nL 629.712066 57.120693 \r\nL 633.205679 71.110039 \r\nL 636.699293 73.420259 \r\nL 640.192907 80.544715 \r\nL 643.686521 80.204641 \r\nL 647.180135 61.83803 \r\nL 650.673749 43.456679 \r\nL 654.167362 55.65164 \r\nL 657.660976 50.451353 \r\nL 661.15459 52.891355 \r\nL 664.648204 44.990468 \r\nL 668.141818 46.384682 \r\nL 671.635432 56.459304 \r\nL 675.129045 53.216689 \r\nL 678.622659 60.699363 \r\nL 682.116273 49.836456 \r\nL 685.609887 57.446026 \r\nL 689.103501 47.360683 \r\nL 692.597114 65.66668 \r\nL 696.090728 49.150018 \r\nL 699.584342 49.475352 \r\nL 703.077956 53.874778 \r\nL 706.57157 63.139365 \r\nL 710.065184 60.013028 \r\nL 713.558797 56.307358 \r\nL 717.052411 44.758014 \r\nL 720.546025 53.228646 \r\nL 724.039639 50.288686 \r\nL 727.533253 57.446026 \r\nL 731.026867 56.136239 \r\nL 734.52048 47.848683 \r\nL 738.014094 47.736528 \r\nL 741.507708 56.470025 \r\nL 745.001322 52.891355 \r\nL 748.494936 55.65164 \r\nL 751.988549 68.995371 \r\nL 755.482163 42.806012 \r\nL 758.975777 76.327851 \r\nL 762.469391 40.203343 \r\nL 765.963005 47.360683 \r\nL 769.456619 59.043831 \r\nL 772.950232 48.499351 \r\nL 776.443846 47.574995 \r\nL 779.93746 50.939353 \r\nL 783.431074 37.600673 \r\nL 786.924688 56.78237 \r\nL 790.418302 34.67267 \r\nL 793.911915 46.059348 \r\nL 797.405529 43.859738 \r\nL 800.899143 80.870049 \r\nL 804.392757 64.051351 \r\nL 807.886371 52.891355 \r\nL 811.379985 44.92068 \r\nL 814.873598 43.859738 \r\nL 818.367212 41.016677 \r\nL 821.860826 50.939353 \r\nL 825.35444 53.874778 \r\nL 828.848054 44.758014 \r\nL 832.341667 44.758014 \r\nL 835.835281 48.059594 \r\nL 839.328895 40.366009 \r\nL 842.822509 47.574995 \r\nL 846.316123 43.456679 \r\nL 849.809737 41.504677 \r\n\" style=\"fill:none;stroke:#ff7f0e;stroke-linecap:square;stroke-width:1.5;\"/>\r\n   </g>\r\n   <g id=\"patch_9\">\r\n    <path d=\"M 486.64858 294.118125 \r\nL 486.64858 22.318125 \r\n\" style=\"fill:none;stroke:#000000;stroke-linecap:square;stroke-linejoin:miter;stroke-width:0.8;\"/>\r\n   </g>\r\n   <g id=\"patch_10\">\r\n    <path d=\"M 867.103125 294.118125 \r\nL 867.103125 22.318125 \r\n\" style=\"fill:none;stroke:#000000;stroke-linecap:square;stroke-linejoin:miter;stroke-width:0.8;\"/>\r\n   </g>\r\n   <g id=\"patch_11\">\r\n    <path d=\"M 486.64858 294.118125 \r\nL 867.103125 294.118125 \r\n\" style=\"fill:none;stroke:#000000;stroke-linecap:square;stroke-linejoin:miter;stroke-width:0.8;\"/>\r\n   </g>\r\n   <g id=\"patch_12\">\r\n    <path d=\"M 486.64858 22.318125 \r\nL 867.103125 22.318125 \r\n\" style=\"fill:none;stroke:#000000;stroke-linecap:square;stroke-linejoin:miter;stroke-width:0.8;\"/>\r\n   </g>\r\n   <g id=\"text_27\">\r\n    <!-- acc -->\r\n    <defs>\r\n     <path d=\"M 48.78125 52.59375 \r\nL 48.78125 44.1875 \r\nQ 44.96875 46.296875 41.140625 47.34375 \r\nQ 37.3125 48.390625 33.40625 48.390625 \r\nQ 24.65625 48.390625 19.8125 42.84375 \r\nQ 14.984375 37.3125 14.984375 27.296875 \r\nQ 14.984375 17.28125 19.8125 11.734375 \r\nQ 24.65625 6.203125 33.40625 6.203125 \r\nQ 37.3125 6.203125 41.140625 7.25 \r\nQ 44.96875 8.296875 48.78125 10.40625 \r\nL 48.78125 2.09375 \r\nQ 45.015625 0.34375 40.984375 -0.53125 \r\nQ 36.96875 -1.421875 32.421875 -1.421875 \r\nQ 20.0625 -1.421875 12.78125 6.34375 \r\nQ 5.515625 14.109375 5.515625 27.296875 \r\nQ 5.515625 40.671875 12.859375 48.328125 \r\nQ 20.21875 56 33.015625 56 \r\nQ 37.15625 56 41.109375 55.140625 \r\nQ 45.0625 54.296875 48.78125 52.59375 \r\nz\r\n\" id=\"DejaVuSans-99\"/>\r\n    </defs>\r\n    <g transform=\"translate(666.600852 16.318125)scale(0.12 -0.12)\">\r\n     <use xlink:href=\"#DejaVuSans-97\"/>\r\n     <use x=\"61.279297\" xlink:href=\"#DejaVuSans-99\"/>\r\n     <use x=\"116.259766\" xlink:href=\"#DejaVuSans-99\"/>\r\n    </g>\r\n   </g>\r\n   <g id=\"legend_2\">\r\n    <g id=\"patch_13\">\r\n     <path d=\"M 493.64858 59.674375 \r\nL 595.332955 59.674375 \r\nQ 597.332955 59.674375 597.332955 57.674375 \r\nL 597.332955 29.318125 \r\nQ 597.332955 27.318125 595.332955 27.318125 \r\nL 493.64858 27.318125 \r\nQ 491.64858 27.318125 491.64858 29.318125 \r\nL 491.64858 57.674375 \r\nQ 491.64858 59.674375 493.64858 59.674375 \r\nz\r\n\" style=\"fill:#ffffff;opacity:0.8;stroke:#cccccc;stroke-linejoin:miter;\"/>\r\n    </g>\r\n    <g id=\"line2d_32\">\r\n     <path d=\"M 495.64858 35.416562 \r\nL 515.64858 35.416562 \r\n\" style=\"fill:none;stroke:#1f77b4;stroke-linecap:square;stroke-width:1.5;\"/>\r\n    </g>\r\n    <g id=\"line2d_33\"/>\r\n    <g id=\"text_28\">\r\n     <!-- Train acc -->\r\n     <g transform=\"translate(523.64858 38.916562)scale(0.1 -0.1)\">\r\n      <use xlink:href=\"#DejaVuSans-84\"/>\r\n      <use x=\"46.333984\" xlink:href=\"#DejaVuSans-114\"/>\r\n      <use x=\"87.447266\" xlink:href=\"#DejaVuSans-97\"/>\r\n      <use x=\"148.726562\" xlink:href=\"#DejaVuSans-105\"/>\r\n      <use x=\"176.509766\" xlink:href=\"#DejaVuSans-110\"/>\r\n      <use x=\"239.888672\" xlink:href=\"#DejaVuSans-32\"/>\r\n      <use x=\"271.675781\" xlink:href=\"#DejaVuSans-97\"/>\r\n      <use x=\"332.955078\" xlink:href=\"#DejaVuSans-99\"/>\r\n      <use x=\"387.935547\" xlink:href=\"#DejaVuSans-99\"/>\r\n     </g>\r\n    </g>\r\n    <g id=\"line2d_34\">\r\n     <path d=\"M 495.64858 50.094688 \r\nL 515.64858 50.094688 \r\n\" style=\"fill:none;stroke:#ff7f0e;stroke-linecap:square;stroke-width:1.5;\"/>\r\n    </g>\r\n    <g id=\"line2d_35\"/>\r\n    <g id=\"text_29\">\r\n     <!-- Validation acc -->\r\n     <g transform=\"translate(523.64858 53.594688)scale(0.1 -0.1)\">\r\n      <use xlink:href=\"#DejaVuSans-86\"/>\r\n      <use x=\"60.658203\" xlink:href=\"#DejaVuSans-97\"/>\r\n      <use x=\"121.9375\" xlink:href=\"#DejaVuSans-108\"/>\r\n      <use x=\"149.720703\" xlink:href=\"#DejaVuSans-105\"/>\r\n      <use x=\"177.503906\" xlink:href=\"#DejaVuSans-100\"/>\r\n      <use x=\"240.980469\" xlink:href=\"#DejaVuSans-97\"/>\r\n      <use x=\"302.259766\" xlink:href=\"#DejaVuSans-116\"/>\r\n      <use x=\"341.46875\" xlink:href=\"#DejaVuSans-105\"/>\r\n      <use x=\"369.251953\" xlink:href=\"#DejaVuSans-111\"/>\r\n      <use x=\"430.433594\" xlink:href=\"#DejaVuSans-110\"/>\r\n      <use x=\"493.8125\" xlink:href=\"#DejaVuSans-32\"/>\r\n      <use x=\"525.599609\" xlink:href=\"#DejaVuSans-97\"/>\r\n      <use x=\"586.878906\" xlink:href=\"#DejaVuSans-99\"/>\r\n      <use x=\"641.859375\" xlink:href=\"#DejaVuSans-99\"/>\r\n     </g>\r\n    </g>\r\n   </g>\r\n  </g>\r\n </g>\r\n <defs>\r\n  <clipPath id=\"pabcbd6f2b9\">\r\n   <rect height=\"271.8\" width=\"380.454545\" x=\"30.103125\" y=\"22.318125\"/>\r\n  </clipPath>\r\n  <clipPath id=\"peaaeb69066\">\r\n   <rect height=\"271.8\" width=\"380.454545\" x=\"486.64858\" y=\"22.318125\"/>\r\n  </clipPath>\r\n </defs>\r\n</svg>\r\n",
      "image/png": "[encoded data removed]"
     },
     "metadata": {
      "needs_background": "light"
     }
    }
   ],
   "source": [
    "show_final_history(history)"
   ]
  },
  {
   "source": [
    "We can try and test the model on random new images"
   ],
   "cell_type": "markdown",
   "metadata": {}
  },
  {
   "cell_type": "code",
   "execution_count": 31,
   "metadata": {},
   "outputs": [
    {
     "output_type": "stream",
     "name": "stdout",
     "text": [
      "_________________________________________________________________\nLayer (type)                 Output Shape              Param #   \n=================================================================\nconv2d_10 (Conv2D)           (None, 198, 198, 32)      896       \n_________________________________________________________________\nmax_pooling2d_9 (MaxPooling2 (None, 99, 99, 32)        0         \n_________________________________________________________________\nconv2d_11 (Conv2D)           (None, 97, 97, 32)        9248      \n_________________________________________________________________\nmax_pooling2d_10 (MaxPooling (None, 48, 48, 32)        0         \n_________________________________________________________________\nflatten_5 (Flatten)          (None, 73728)             0         \n_________________________________________________________________\ndense_12 (Dense)             (None, 64)                4718656   \n_________________________________________________________________\ndropout_5 (Dropout)          (None, 64)                0         \n_________________________________________________________________\ndense_13 (Dense)             (None, 10)                650       \n=================================================================\nTotal params: 4,729,450\nTrainable params: 4,729,450\nNon-trainable params: 0\n_________________________________________________________________\n"
     ]
    }
   ],
   "source": [
    "#image_path = \"../../LEGO_brick_images_v1/2357 Brick corner 1x2x2/201706171206-0001.png\"\n",
    "image_path = \"../../LEGO_brick_images_v1/3004 Brick 1x2/0003.png\"\n",
    "image = cv2.imread(image_path)\n",
    "\n",
    "from numpy import array\n",
    "json_file = open(\"./model/lego.json\", \"r\")\n",
    "json_model = json_file.read()\n",
    "json_file.close()\n",
    "\n",
    "loaded_model = keras.models.model_from_json(json_model)\n",
    "loaded_model.load_weights(\"./model/lego_weights.h5\")\n",
    "\n",
    "loaded_model.summary()\n",
    "image = np.expand_dims(image, axis=0)\n",
    "prediction = loaded_model.predict_classes(image)"
   ]
  },
  {
   "cell_type": "code",
   "execution_count": 32,
   "metadata": {},
   "outputs": [
    {
     "output_type": "execute_result",
     "data": {
      "text/plain": [
       "4"
      ]
     },
     "metadata": {},
     "execution_count": 32
    }
   ],
   "source": [
    "prediction[0]"
   ]
  },
  {
   "source": [
    "Since the classes are sorted alphabetically, an item from the third folder should give us a number `2` from `prediction[0]`."
   ],
   "cell_type": "markdown",
   "metadata": {}
  },
  {
   "cell_type": "code",
   "execution_count": null,
   "metadata": {},
   "outputs": [],
   "source": []
  }
 ]
}