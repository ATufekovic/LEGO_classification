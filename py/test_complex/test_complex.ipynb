{
 "metadata": {
  "language_info": {
   "codemirror_mode": {
    "name": "ipython",
    "version": 3
   },
   "file_extension": ".py",
   "mimetype": "text/x-python",
   "name": "python",
   "nbconvert_exporter": "python",
   "pygments_lexer": "ipython3",
   "version": "3.6.13"
  },
  "orig_nbformat": 2,
  "kernelspec": {
   "name": "python3",
   "display_name": "Python 3.6.13 64-bit ('lego_jupyter_fuckup': conda)"
  },
  "metadata": {
   "interpreter": {
    "hash": "296bba369c12f2a092f767976c09cfbc8c85eb31befb7c7878fa91c761923a58"
   }
  },
  "interpreter": {
   "hash": "aaa1f6e536dc283f1a4d0e946a10328ed0e7981c31ef1bb7683a8d61263e98f9"
  }
 },
 "nbformat": 4,
 "nbformat_minor": 2,
 "cells": [
  {
   "source": [
    "## Diplomski rad - Klasificiranje LEGO kocaka koristeći neuronske mreže"
   ],
   "cell_type": "markdown",
   "metadata": {}
  },
  {
   "source": [
    "Rad se izvodi koristeći PlaidML za AMD GPU preko Keras-a"
   ],
   "cell_type": "markdown",
   "metadata": {}
  },
  {
   "cell_type": "code",
   "execution_count": 18,
   "metadata": {},
   "outputs": [],
   "source": [
    "import os\n",
    "os.environ[\"KERAS_BACKEND\"] = \"plaidml.keras.backend\""
   ]
  },
  {
   "source": [
    "Promijene vezane za PlaidML se mogu izvesti sa pokretanjem `plaidml-setup` u powershell-u\n",
    "\n",
    "Sve sljedece linije ce se spominjati na Engleskom jeziku zbog jednostavnosti i istoznacnosti sa programskim ködom na engleskom jeziku"
   ],
   "cell_type": "markdown",
   "metadata": {}
  },
  {
   "cell_type": "code",
   "execution_count": 19,
   "metadata": {},
   "outputs": [],
   "source": [
    "import numpy as np\n",
    "import keras\n",
    "import matplotlib.pyplot as plt\n",
    "import cv2"
   ]
  },
  {
   "source": [
    "Now let's explore some of the data, for starters we will use the following Kaggle dataset: [lego-brick-images](https://www.kaggle.com/joosthazelzet/lego-brick-images)\n",
    "\n",
    "It's a fairly simple dataset containing renders of some LEGO pieces"
   ],
   "cell_type": "markdown",
   "metadata": {}
  },
  {
   "cell_type": "code",
   "execution_count": 20,
   "metadata": {},
   "outputs": [
    {
     "output_type": "execute_result",
     "data": {
      "text/plain": [
       "['11214 Bush 3M friction with Cross axle',\n",
       " '18651 Cross Axle 2M with Snap friction',\n",
       " '2357 Brick corner 1x2x2',\n",
       " '3003 Brick 2x2',\n",
       " '3004 Brick 1x2',\n",
       " '3005 Brick 1x1',\n",
       " '3022 Plate 2x2',\n",
       " '3023 Plate 1x2',\n",
       " '3024 Plate 1x1',\n",
       " '3040 Roof Tile 1x2x45deg',\n",
       " '3069 Flat Tile 1x2',\n",
       " '32123 half Bush',\n",
       " '3673 Peg 2M',\n",
       " '3713 Bush for Cross Axle',\n",
       " '3794 Plate 1X2 with 1 Knob',\n",
       " '6632 Technic Lever 3M']"
      ]
     },
     "metadata": {},
     "execution_count": 20
    }
   ],
   "source": [
    "os.listdir(\"../../LEGO_brick_images_v1\")"
   ]
  },
  {
   "source": [
    "The first numbers denote the brick model, after that is it's name, size and possible modifications"
   ],
   "cell_type": "markdown",
   "metadata": {}
  },
  {
   "cell_type": "code",
   "execution_count": 21,
   "metadata": {},
   "outputs": [],
   "source": [
    "dataset_path = \"../../LEGO_brick_images_v1/\"\n",
    "dataset_output = \"./output\""
   ]
  },
  {
   "cell_type": "code",
   "execution_count": 22,
   "metadata": {},
   "outputs": [
    {
     "output_type": "execute_result",
     "data": {
      "text/plain": [
       "['train', 'val']"
      ]
     },
     "metadata": {},
     "execution_count": 22
    }
   ],
   "source": [
    "#if you want you can run this once, but some randomness can be good\n",
    "import splitfolders\n",
    "splitfolders.ratio(dataset_path, output=dataset_output, ratio=(.7, .3))\n",
    "\n",
    "os.listdir(dataset_output)"
   ]
  },
  {
   "cell_type": "code",
   "execution_count": 23,
   "metadata": {
    "tags": []
   },
   "outputs": [
    {
     "output_type": "stream",
     "name": "stdout",
     "text": [
      "Found 4465 images belonging to 16 classes.\n",
      "Found 1914 images belonging to 16 classes.\n",
      "16\n"
     ]
    }
   ],
   "source": [
    "from keras.preprocessing.image import ImageDataGenerator\n",
    "train_datagen = ImageDataGenerator(\n",
    "    rescale=1./255,\n",
    "    zoom_range=0.2,\n",
    "    shear_range=0.2\n",
    ")\n",
    "validation_datagen = ImageDataGenerator(rescale=1./255)\n",
    "\n",
    "train_generator = train_datagen.flow_from_directory(os.path.join(dataset_output,'train'), target_size=(200,200), shuffle=True, class_mode=\"categorical\")\n",
    "validation_generator = validation_datagen.flow_from_directory(os.path.join(dataset_output, 'val'), target_size=(200,200), shuffle=True, class_mode='categorical')\n",
    "\n",
    "\n",
    "print(len(train_generator.class_indices))"
   ]
  },
  {
   "source": [
    "Now to declare a model and modify it, we can also use preexisting ones like VGG16 or ResNet but for this test we are using a simple one"
   ],
   "cell_type": "markdown",
   "metadata": {}
  },
  {
   "cell_type": "code",
   "execution_count": 24,
   "metadata": {},
   "outputs": [
    {
     "output_type": "stream",
     "name": "stdout",
     "text": [
      "_________________________________________________________________\n",
      "Layer (type)                 Output Shape              Param #   \n",
      "=================================================================\n",
      "conv2d_17 (Conv2D)           (None, 198, 198, 32)      896       \n",
      "_________________________________________________________________\n",
      "conv2d_18 (Conv2D)           (None, 196, 196, 32)      9248      \n",
      "_________________________________________________________________\n",
      "max_pooling2d_9 (MaxPooling2 (None, 98, 98, 32)        0         \n",
      "_________________________________________________________________\n",
      "conv2d_19 (Conv2D)           (None, 96, 96, 64)        18496     \n",
      "_________________________________________________________________\n",
      "conv2d_20 (Conv2D)           (None, 94, 94, 64)        36928     \n",
      "_________________________________________________________________\n",
      "max_pooling2d_10 (MaxPooling (None, 47, 47, 64)        0         \n",
      "_________________________________________________________________\n",
      "conv2d_21 (Conv2D)           (None, 45, 45, 128)       73856     \n",
      "_________________________________________________________________\n",
      "conv2d_22 (Conv2D)           (None, 43, 43, 128)       147584    \n",
      "_________________________________________________________________\n",
      "max_pooling2d_11 (MaxPooling (None, 21, 21, 128)       0         \n",
      "_________________________________________________________________\n",
      "conv2d_23 (Conv2D)           (None, 19, 19, 256)       295168    \n",
      "_________________________________________________________________\n",
      "conv2d_24 (Conv2D)           (None, 17, 17, 256)       590080    \n",
      "_________________________________________________________________\n",
      "max_pooling2d_12 (MaxPooling (None, 8, 8, 256)         0         \n",
      "_________________________________________________________________\n",
      "flatten_3 (Flatten)          (None, 16384)             0         \n",
      "_________________________________________________________________\n",
      "dense_5 (Dense)              (None, 64)                1048640   \n",
      "_________________________________________________________________\n",
      "dropout_3 (Dropout)          (None, 64)                0         \n",
      "_________________________________________________________________\n",
      "dense_6 (Dense)              (None, 16)                1040      \n",
      "=================================================================\n",
      "Total params: 2,221,936\n",
      "Trainable params: 2,221,936\n",
      "Non-trainable params: 0\n",
      "_________________________________________________________________\n"
     ]
    }
   ],
   "source": [
    "from keras.layers import Conv2D, MaxPooling2D, Flatten, Dense, Dropout\n",
    "from keras.models import Sequential, Input, Model\n",
    "\n",
    "model = Sequential()\n",
    "model.add(Conv2D(32, (3,3), input_shape=(200,200,3), activation=\"relu\"))\n",
    "model.add(Conv2D(32, (3,3), activation=\"relu\"))\n",
    "model.add(MaxPooling2D(pool_size=(2, 2)))\n",
    "\n",
    "model.add(Conv2D(64, (3,3), activation=\"relu\"))\n",
    "model.add(Conv2D(64, (3,3), activation=\"relu\"))\n",
    "model.add(MaxPooling2D(pool_size=(2, 2)))\n",
    "\n",
    "model.add(Conv2D(128, (3,3), activation=\"relu\"))\n",
    "model.add(Conv2D(128, (3,3), activation=\"relu\"))\n",
    "model.add(MaxPooling2D(pool_size=(2, 2)))\n",
    "\n",
    "model.add(Conv2D(256, (3,3), activation=\"relu\"))\n",
    "model.add(Conv2D(256, (3,3), activation=\"relu\"))\n",
    "model.add(MaxPooling2D(pool_size=(2, 2)))\n",
    "\n",
    "model.add(Flatten())\n",
    "model.add(Dense(64, activation=\"relu\"))\n",
    "model.add(Dropout(0.4))\n",
    "model.add(Dense(len(train_generator.class_indices), activation=\"softmax\"))\n",
    "\n",
    "model.summary()"
   ]
  },
  {
   "cell_type": "code",
   "execution_count": 25,
   "metadata": {},
   "outputs": [
    {
     "output_type": "stream",
     "name": "stderr",
     "text": [
      "C:\\Users\\Anto\\anaconda3\\envs\\lego_jupyter_fuckup\\lib\\site-packages\\keras\\callbacks.py:756: UserWarning: You are not using the TensorFlow backend. write_graph was set to False\n  warnings.warn('You are not using the TensorFlow backend. '\n"
     ]
    }
   ],
   "source": [
    "from keras.callbacks import ModelCheckpoint,EarlyStopping,TensorBoard,CSVLogger,ReduceLROnPlateau\n",
    "\n",
    "best_model_weights = './base.model'\n",
    "checkpoint = ModelCheckpoint(\n",
    "    best_model_weights,\n",
    "    monitor='val_loss',\n",
    "    verbose=1,\n",
    "    save_best_only=True,\n",
    "    mode='min',\n",
    "    save_weights_only=False,\n",
    "    period=1\n",
    ")\n",
    "earlystop = EarlyStopping(\n",
    "    monitor='val_loss',\n",
    "    min_delta=0.001,\n",
    "    patience=10,\n",
    "    verbose=1,\n",
    "    mode='auto'\n",
    ")\n",
    "tensorboard = TensorBoard(\n",
    "    log_dir = './logs',\n",
    "    histogram_freq=0,\n",
    "    batch_size=16,\n",
    "    write_graph=True,\n",
    "    write_grads=True,\n",
    "    write_images=False,\n",
    ")\n",
    "\n",
    "csvlogger = CSVLogger(\n",
    "    filename= \"training_csv.log\",\n",
    "    separator = \",\",\n",
    "    append = False\n",
    ")\n",
    "\n",
    "\n",
    "reduceLR = ReduceLROnPlateau(\n",
    "    monitor='val_loss',\n",
    "    factor=0.2,\n",
    "    patience=5,\n",
    "    verbose=1, \n",
    "    mode='auto',\n",
    "    cooldown=1 \n",
    ")\n",
    "\n",
    "callbacks = [checkpoint,tensorboard,csvlogger,reduceLR, earlystop]"
   ]
  },
  {
   "cell_type": "code",
   "execution_count": 26,
   "metadata": {
    "tags": []
   },
   "outputs": [
    {
     "output_type": "stream",
     "name": "stdout",
     "text": [
      "Epoch 1/100\n",
      "INFO:plaidml:Analyzing Ops: 102 of 443 operations complete\n",
      "140/140 [==============================] - 147s 1s/step - loss: 2.4060 - acc: 0.1920 - val_loss: 1.7269 - val_acc: 0.4859\n",
      "\n",
      "Epoch 00001: val_loss improved from inf to 1.72693, saving model to ./base.model\n",
      "Epoch 2/100\n",
      "140/140 [==============================] - 56s 401ms/step - loss: 1.9321 - acc: 0.3286 - val_loss: 1.2683 - val_acc: 0.5679\n",
      "\n",
      "Epoch 00002: val_loss improved from 1.72693 to 1.26831, saving model to ./base.model\n",
      "Epoch 3/100\n",
      "140/140 [==============================] - 56s 403ms/step - loss: 1.6684 - acc: 0.4116 - val_loss: 1.1472 - val_acc: 0.6991\n",
      "\n",
      "Epoch 00003: val_loss improved from 1.26831 to 1.14718, saving model to ./base.model\n",
      "Epoch 4/100\n",
      "140/140 [==============================] - 56s 403ms/step - loss: 1.4889 - acc: 0.4710 - val_loss: 0.8144 - val_acc: 0.7116\n",
      "\n",
      "Epoch 00004: val_loss improved from 1.14718 to 0.81445, saving model to ./base.model\n",
      "Epoch 5/100\n",
      "140/140 [==============================] - 56s 402ms/step - loss: 1.3209 - acc: 0.5326 - val_loss: 0.7361 - val_acc: 0.7550\n",
      "\n",
      "Epoch 00005: val_loss improved from 0.81445 to 0.73607, saving model to ./base.model\n",
      "Epoch 6/100\n",
      "140/140 [==============================] - 56s 401ms/step - loss: 1.1683 - acc: 0.5698 - val_loss: 0.5711 - val_acc: 0.7994\n",
      "\n",
      "Epoch 00006: val_loss improved from 0.73607 to 0.57105, saving model to ./base.model\n",
      "Epoch 7/100\n",
      "140/140 [==============================] - 56s 398ms/step - loss: 1.0660 - acc: 0.5993 - val_loss: 0.4934 - val_acc: 0.8307\n",
      "\n",
      "Epoch 00007: val_loss improved from 0.57105 to 0.49342, saving model to ./base.model\n",
      "Epoch 8/100\n",
      "140/140 [==============================] - 56s 398ms/step - loss: 1.0016 - acc: 0.6284 - val_loss: 0.4534 - val_acc: 0.8422\n",
      "\n",
      "Epoch 00008: val_loss improved from 0.49342 to 0.45340, saving model to ./base.model\n",
      "Epoch 9/100\n",
      "140/140 [==============================] - 56s 398ms/step - loss: 0.9272 - acc: 0.6507 - val_loss: 0.4413 - val_acc: 0.8537\n",
      "\n",
      "Epoch 00009: val_loss improved from 0.45340 to 0.44126, saving model to ./base.model\n",
      "Epoch 10/100\n",
      "140/140 [==============================] - 56s 398ms/step - loss: 0.8437 - acc: 0.6860 - val_loss: 0.3902 - val_acc: 0.8673\n",
      "\n",
      "Epoch 00010: val_loss improved from 0.44126 to 0.39015, saving model to ./base.model\n",
      "Epoch 11/100\n",
      "140/140 [==============================] - 56s 398ms/step - loss: 0.8157 - acc: 0.6849 - val_loss: 0.3552 - val_acc: 0.8804\n",
      "\n",
      "Epoch 00011: val_loss improved from 0.39015 to 0.35522, saving model to ./base.model\n",
      "Epoch 12/100\n",
      "140/140 [==============================] - 56s 398ms/step - loss: 0.7781 - acc: 0.7010 - val_loss: 0.3174 - val_acc: 0.8856\n",
      "\n",
      "Epoch 00012: val_loss improved from 0.35522 to 0.31741, saving model to ./base.model\n",
      "Epoch 13/100\n",
      "140/140 [==============================] - 56s 398ms/step - loss: 0.7293 - acc: 0.7175 - val_loss: 0.3472 - val_acc: 0.8804\n",
      "\n",
      "Epoch 00013: val_loss did not improve from 0.31741\n",
      "Epoch 14/100\n",
      "140/140 [==============================] - 56s 398ms/step - loss: 0.7106 - acc: 0.7286 - val_loss: 0.3093 - val_acc: 0.8903\n",
      "\n",
      "Epoch 00014: val_loss improved from 0.31741 to 0.30929, saving model to ./base.model\n",
      "Epoch 15/100\n",
      "140/140 [==============================] - 56s 398ms/step - loss: 0.6593 - acc: 0.7439 - val_loss: 0.2905 - val_acc: 0.9044\n",
      "\n",
      "Epoch 00015: val_loss improved from 0.30929 to 0.29052, saving model to ./base.model\n",
      "Epoch 16/100\n",
      "140/140 [==============================] - 56s 398ms/step - loss: 0.5917 - acc: 0.7639 - val_loss: 0.2618 - val_acc: 0.9013\n",
      "\n",
      "Epoch 00016: val_loss improved from 0.29052 to 0.26183, saving model to ./base.model\n",
      "Epoch 17/100\n",
      "140/140 [==============================] - 56s 399ms/step - loss: 0.5745 - acc: 0.7784 - val_loss: 0.2310 - val_acc: 0.9122\n",
      "\n",
      "Epoch 00017: val_loss improved from 0.26183 to 0.23104, saving model to ./base.model\n",
      "Epoch 18/100\n",
      "140/140 [==============================] - 56s 399ms/step - loss: 0.5528 - acc: 0.7865 - val_loss: 0.2221 - val_acc: 0.9326\n",
      "\n",
      "Epoch 00018: val_loss improved from 0.23104 to 0.22207, saving model to ./base.model\n",
      "Epoch 19/100\n",
      "140/140 [==============================] - 56s 399ms/step - loss: 0.5630 - acc: 0.7849 - val_loss: 0.2314 - val_acc: 0.9269\n",
      "\n",
      "Epoch 00019: val_loss did not improve from 0.22207\n",
      "Epoch 20/100\n",
      "140/140 [==============================] - 56s 398ms/step - loss: 0.5147 - acc: 0.7925 - val_loss: 0.1825 - val_acc: 0.9389\n",
      "\n",
      "Epoch 00020: val_loss improved from 0.22207 to 0.18252, saving model to ./base.model\n",
      "Epoch 21/100\n",
      "140/140 [==============================] - 56s 398ms/step - loss: 0.4926 - acc: 0.8088 - val_loss: 0.1761 - val_acc: 0.9415\n",
      "\n",
      "Epoch 00021: val_loss improved from 0.18252 to 0.17607, saving model to ./base.model\n",
      "Epoch 22/100\n",
      "140/140 [==============================] - 56s 398ms/step - loss: 0.4760 - acc: 0.8110 - val_loss: 0.1785 - val_acc: 0.9383\n",
      "\n",
      "Epoch 00022: val_loss did not improve from 0.17607\n",
      "Epoch 23/100\n",
      "140/140 [==============================] - 56s 398ms/step - loss: 0.4358 - acc: 0.8307 - val_loss: 0.1645 - val_acc: 0.9368\n",
      "\n",
      "Epoch 00023: val_loss improved from 0.17607 to 0.16454, saving model to ./base.model\n",
      "Epoch 24/100\n",
      "140/140 [==============================] - 56s 398ms/step - loss: 0.4058 - acc: 0.8472 - val_loss: 0.1785 - val_acc: 0.9410\n",
      "\n",
      "Epoch 00024: val_loss did not improve from 0.16454\n",
      "Epoch 25/100\n",
      "140/140 [==============================] - 56s 398ms/step - loss: 0.4059 - acc: 0.8434 - val_loss: 0.1605 - val_acc: 0.9394\n",
      "\n",
      "Epoch 00025: val_loss improved from 0.16454 to 0.16053, saving model to ./base.model\n",
      "Epoch 26/100\n",
      "140/140 [==============================] - 56s 398ms/step - loss: 0.3869 - acc: 0.8516 - val_loss: 0.1322 - val_acc: 0.9467\n",
      "\n",
      "Epoch 00026: val_loss improved from 0.16053 to 0.13217, saving model to ./base.model\n",
      "Epoch 27/100\n",
      "140/140 [==============================] - 56s 398ms/step - loss: 0.3824 - acc: 0.8519 - val_loss: 0.1297 - val_acc: 0.9488\n",
      "\n",
      "Epoch 00027: val_loss improved from 0.13217 to 0.12973, saving model to ./base.model\n",
      "Epoch 28/100\n",
      "140/140 [==============================] - 56s 398ms/step - loss: 0.3730 - acc: 0.8583 - val_loss: 0.1351 - val_acc: 0.9572\n",
      "\n",
      "Epoch 00028: val_loss did not improve from 0.12973\n",
      "Epoch 29/100\n",
      "140/140 [==============================] - 56s 398ms/step - loss: 0.3249 - acc: 0.8665 - val_loss: 0.1112 - val_acc: 0.9572\n",
      "\n",
      "Epoch 00029: val_loss improved from 0.12973 to 0.11124, saving model to ./base.model\n",
      "Epoch 30/100\n",
      "140/140 [==============================] - 56s 398ms/step - loss: 0.2981 - acc: 0.8862 - val_loss: 0.1138 - val_acc: 0.9587\n",
      "\n",
      "Epoch 00030: val_loss did not improve from 0.11124\n",
      "Epoch 31/100\n",
      "140/140 [==============================] - 56s 399ms/step - loss: 0.2987 - acc: 0.8871 - val_loss: 0.1094 - val_acc: 0.9592\n",
      "\n",
      "Epoch 00031: val_loss improved from 0.11124 to 0.10937, saving model to ./base.model\n",
      "Epoch 32/100\n",
      "140/140 [==============================] - 56s 398ms/step - loss: 0.2822 - acc: 0.8891 - val_loss: 0.1184 - val_acc: 0.9592\n",
      "\n",
      "Epoch 00032: val_loss did not improve from 0.10937\n",
      "Epoch 33/100\n",
      "140/140 [==============================] - 56s 398ms/step - loss: 0.2972 - acc: 0.8878 - val_loss: 0.1216 - val_acc: 0.9551\n",
      "\n",
      "Epoch 00033: val_loss did not improve from 0.10937\n",
      "Epoch 34/100\n",
      "140/140 [==============================] - 56s 398ms/step - loss: 0.2942 - acc: 0.8904 - val_loss: 0.1039 - val_acc: 0.9561\n",
      "\n",
      "Epoch 00034: val_loss improved from 0.10937 to 0.10391, saving model to ./base.model\n",
      "Epoch 35/100\n",
      "140/140 [==============================] - 56s 398ms/step - loss: 0.2716 - acc: 0.8913 - val_loss: 0.0909 - val_acc: 0.9676\n",
      "\n",
      "Epoch 00035: val_loss improved from 0.10391 to 0.09089, saving model to ./base.model\n",
      "Epoch 36/100\n",
      "140/140 [==============================] - 56s 399ms/step - loss: 0.2689 - acc: 0.8985 - val_loss: 0.1039 - val_acc: 0.9650\n",
      "\n",
      "Epoch 00036: val_loss did not improve from 0.09089\n",
      "Epoch 37/100\n",
      "140/140 [==============================] - 56s 398ms/step - loss: 0.2398 - acc: 0.9059 - val_loss: 0.0836 - val_acc: 0.9692\n",
      "\n",
      "Epoch 00037: val_loss improved from 0.09089 to 0.08363, saving model to ./base.model\n",
      "Epoch 38/100\n",
      "140/140 [==============================] - 56s 398ms/step - loss: 0.2493 - acc: 0.9079 - val_loss: 0.0796 - val_acc: 0.9713\n",
      "\n",
      "Epoch 00038: val_loss improved from 0.08363 to 0.07959, saving model to ./base.model\n",
      "Epoch 39/100\n",
      "140/140 [==============================] - 56s 398ms/step - loss: 0.2292 - acc: 0.9127 - val_loss: 0.0815 - val_acc: 0.9744\n",
      "\n",
      "Epoch 00039: val_loss did not improve from 0.07959\n",
      "Epoch 40/100\n",
      "140/140 [==============================] - 56s 398ms/step - loss: 0.2240 - acc: 0.9202 - val_loss: 0.0813 - val_acc: 0.9770\n",
      "\n",
      "Epoch 00040: val_loss did not improve from 0.07959\n",
      "Epoch 41/100\n",
      "140/140 [==============================] - 56s 398ms/step - loss: 0.2147 - acc: 0.9197 - val_loss: 0.0673 - val_acc: 0.9786\n",
      "\n",
      "Epoch 00041: val_loss improved from 0.07959 to 0.06734, saving model to ./base.model\n",
      "Epoch 42/100\n",
      "140/140 [==============================] - 56s 398ms/step - loss: 0.2101 - acc: 0.9172 - val_loss: 0.0696 - val_acc: 0.9760\n",
      "\n",
      "Epoch 00042: val_loss did not improve from 0.06734\n",
      "Epoch 43/100\n",
      "140/140 [==============================] - 56s 399ms/step - loss: 0.1875 - acc: 0.9277 - val_loss: 0.0640 - val_acc: 0.9754\n",
      "\n",
      "Epoch 00043: val_loss improved from 0.06734 to 0.06401, saving model to ./base.model\n",
      "Epoch 44/100\n",
      "140/140 [==============================] - 56s 398ms/step - loss: 0.2032 - acc: 0.9281 - val_loss: 0.0922 - val_acc: 0.9687\n",
      "\n",
      "Epoch 00044: val_loss did not improve from 0.06401\n",
      "Epoch 45/100\n",
      "140/140 [==============================] - 56s 399ms/step - loss: 0.1934 - acc: 0.9237 - val_loss: 0.0662 - val_acc: 0.9791\n",
      "\n",
      "Epoch 00045: val_loss did not improve from 0.06401\n",
      "Epoch 46/100\n",
      "140/140 [==============================] - 56s 398ms/step - loss: 0.1844 - acc: 0.9337 - val_loss: 0.0612 - val_acc: 0.9760\n",
      "\n",
      "Epoch 00046: val_loss improved from 0.06401 to 0.06124, saving model to ./base.model\n",
      "Epoch 47/100\n",
      "140/140 [==============================] - 56s 398ms/step - loss: 0.1650 - acc: 0.9358 - val_loss: 0.0640 - val_acc: 0.9812\n",
      "\n",
      "Epoch 00047: val_loss did not improve from 0.06124\n",
      "Epoch 48/100\n",
      "140/140 [==============================] - 56s 398ms/step - loss: 0.1618 - acc: 0.9384 - val_loss: 0.0590 - val_acc: 0.9781\n",
      "\n",
      "Epoch 00048: val_loss improved from 0.06124 to 0.05898, saving model to ./base.model\n",
      "Epoch 49/100\n",
      "140/140 [==============================] - 56s 399ms/step - loss: 0.1582 - acc: 0.9404 - val_loss: 0.0561 - val_acc: 0.9838\n",
      "\n",
      "Epoch 00049: val_loss improved from 0.05898 to 0.05615, saving model to ./base.model\n",
      "Epoch 50/100\n",
      "140/140 [==============================] - 56s 398ms/step - loss: 0.1704 - acc: 0.9393 - val_loss: 0.0577 - val_acc: 0.9838\n",
      "\n",
      "Epoch 00050: val_loss did not improve from 0.05615\n",
      "Epoch 51/100\n",
      "140/140 [==============================] - 56s 398ms/step - loss: 0.1556 - acc: 0.9424 - val_loss: 0.0657 - val_acc: 0.9791\n",
      "\n",
      "Epoch 00051: val_loss did not improve from 0.05615\n",
      "Epoch 52/100\n",
      "140/140 [==============================] - 56s 398ms/step - loss: 0.1584 - acc: 0.9405 - val_loss: 0.0633 - val_acc: 0.9817\n",
      "\n",
      "Epoch 00052: val_loss did not improve from 0.05615\n",
      "Epoch 53/100\n",
      "140/140 [==============================] - 56s 398ms/step - loss: 0.1428 - acc: 0.9458 - val_loss: 0.0589 - val_acc: 0.9812\n",
      "\n",
      "Epoch 00053: val_loss did not improve from 0.05615\n",
      "Epoch 54/100\n",
      "140/140 [==============================] - 56s 398ms/step - loss: 0.1446 - acc: 0.9456 - val_loss: 0.0586 - val_acc: 0.9822\n",
      "\n",
      "Epoch 00054: val_loss did not improve from 0.05615\n",
      "\n",
      "Epoch 00054: ReduceLROnPlateau reducing learning rate to 0.00010000000474974513.\n",
      "Epoch 55/100\n",
      "140/140 [==============================] - 56s 398ms/step - loss: 0.1262 - acc: 0.9509 - val_loss: 0.0469 - val_acc: 0.9869\n",
      "\n",
      "Epoch 00055: val_loss improved from 0.05615 to 0.04694, saving model to ./base.model\n",
      "Epoch 56/100\n",
      "140/140 [==============================] - 56s 398ms/step - loss: 0.1065 - acc: 0.9594 - val_loss: 0.0451 - val_acc: 0.9848\n",
      "\n",
      "Epoch 00056: val_loss improved from 0.04694 to 0.04510, saving model to ./base.model\n",
      "Epoch 57/100\n",
      "140/140 [==============================] - 56s 398ms/step - loss: 0.0891 - acc: 0.9665 - val_loss: 0.0510 - val_acc: 0.9859\n",
      "\n",
      "Epoch 00057: val_loss did not improve from 0.04510\n",
      "Epoch 58/100\n",
      "140/140 [==============================] - 56s 398ms/step - loss: 0.0905 - acc: 0.9661 - val_loss: 0.0478 - val_acc: 0.9859\n",
      "\n",
      "Epoch 00058: val_loss did not improve from 0.04510\n",
      "Epoch 59/100\n",
      "140/140 [==============================] - 56s 398ms/step - loss: 0.0861 - acc: 0.9683 - val_loss: 0.0468 - val_acc: 0.9859\n",
      "\n",
      "Epoch 00059: val_loss did not improve from 0.04510\n",
      "Epoch 60/100\n",
      "140/140 [==============================] - 56s 398ms/step - loss: 0.0928 - acc: 0.9641 - val_loss: 0.0442 - val_acc: 0.9854\n",
      "\n",
      "Epoch 00060: val_loss improved from 0.04510 to 0.04422, saving model to ./base.model\n",
      "Epoch 61/100\n",
      "140/140 [==============================] - 56s 397ms/step - loss: 0.0857 - acc: 0.9690 - val_loss: 0.0451 - val_acc: 0.9885\n",
      "\n",
      "Epoch 00061: val_loss did not improve from 0.04422\n",
      "Epoch 62/100\n",
      "140/140 [==============================] - 56s 399ms/step - loss: 0.0738 - acc: 0.9739 - val_loss: 0.0486 - val_acc: 0.9864\n",
      "\n",
      "Epoch 00062: val_loss did not improve from 0.04422\n",
      "Epoch 63/100\n",
      "140/140 [==============================] - 57s 407ms/step - loss: 0.0890 - acc: 0.9661 - val_loss: 0.0522 - val_acc: 0.9859\n",
      "\n",
      "Epoch 00063: val_loss did not improve from 0.04422\n",
      "Epoch 64/100\n",
      "140/140 [==============================] - 57s 409ms/step - loss: 0.0762 - acc: 0.9705 - val_loss: 0.0501 - val_acc: 0.9854\n",
      "\n",
      "Epoch 00064: val_loss did not improve from 0.04422\n",
      "Epoch 65/100\n",
      "140/140 [==============================] - 56s 399ms/step - loss: 0.0773 - acc: 0.9710 - val_loss: 0.0467 - val_acc: 0.9875\n",
      "\n",
      "Epoch 00065: val_loss did not improve from 0.04422\n",
      "\n",
      "Epoch 00065: ReduceLROnPlateau reducing learning rate to 2.0000000949949027e-05.\n",
      "Epoch 66/100\n",
      "140/140 [==============================] - 56s 397ms/step - loss: 0.0650 - acc: 0.9728 - val_loss: 0.0478 - val_acc: 0.9869\n",
      "\n",
      "Epoch 00066: val_loss did not improve from 0.04422\n",
      "Epoch 00066: early stopping\n"
     ]
    }
   ],
   "source": [
    "from keras.optimizers import Adam\n",
    "\n",
    "#opt = SGD(lr=1e-3, nesterov=\"true\") #not suited for deeper networks\n",
    "opt = Adam(lr=0.0005)\n",
    "model.compile(\n",
    "    loss='categorical_crossentropy',\n",
    "    optimizer=opt,\n",
    "    metrics=['accuracy']\n",
    ")\n",
    "\n",
    "history = model.fit_generator(\n",
    "    train_generator, \n",
    "    steps_per_epoch  = None, \n",
    "    validation_data  = validation_generator,\n",
    "    validation_steps = None,\n",
    "    epochs = 100, \n",
    "    verbose = 1,\n",
    "    callbacks=callbacks\n",
    ")\n",
    "\n",
    "json_model = model.to_json()\n",
    "\n",
    "with open(\"./model/lego.json\", \"w\") as json_file:\n",
    "    json_file.write(json_model)\n",
    "\n",
    "model.save_weights(\"./model/lego_weights.h5\")"
   ]
  },
  {
   "cell_type": "code",
   "execution_count": 27,
   "metadata": {},
   "outputs": [],
   "source": [
    "def show_final_history(history):\n",
    "    fig, ax = plt.subplots(1, 2, figsize=(15,5))\n",
    "    ax[0].set_title('loss')\n",
    "    ax[0].plot(history.epoch, history.history[\"loss\"], label=\"Train loss\")\n",
    "    ax[0].plot(history.epoch, history.history[\"val_loss\"], label=\"Validation loss\")\n",
    "    ax[1].set_title('acc')\n",
    "    ax[1].plot(history.epoch, history.history[\"acc\"], label=\"Train acc\")\n",
    "    ax[1].plot(history.epoch, history.history[\"val_acc\"], label=\"Validation acc\")\n",
    "    ax[0].legend()\n",
    "    ax[1].legend()"
   ]
  },
  {
   "cell_type": "code",
   "execution_count": 28,
   "metadata": {},
   "outputs": [
    {
     "output_type": "display_data",
     "data": {
      "text/plain": "<Figure size 1080x360 with 2 Axes>",
      "image/svg+xml": "<?xml version=\"1.0\" encoding=\"utf-8\" standalone=\"no\"?>\r\n<!DOCTYPE svg PUBLIC \"-//W3C//DTD SVG 1.1//EN\"\r\n  \"http://www.w3.org/Graphics/SVG/1.1/DTD/svg11.dtd\">\r\n<!-- Created with matplotlib (https://matplotlib.org/) -->\r\n<svg height=\"317.99625pt\" version=\"1.1\" viewBox=\"0 0 874.303125 317.99625\" width=\"874.303125pt\" xmlns=\"http://www.w3.org/2000/svg\" xmlns:xlink=\"http://www.w3.org/1999/xlink\">\r\n <defs>\r\n  <style type=\"text/css\">\r\n*{stroke-linecap:butt;stroke-linejoin:round;}\r\n  </style>\r\n </defs>\r\n <g id=\"figure_1\">\r\n  <g id=\"patch_1\">\r\n   <path d=\"M 0 317.99625 \r\nL 874.303125 317.99625 \r\nL 874.303125 0 \r\nL 0 0 \r\nz\r\n\" style=\"fill:none;\"/>\r\n  </g>\r\n  <g id=\"axes_1\">\r\n   <g id=\"patch_2\">\r\n    <path d=\"M 30.103125 294.118125 \r\nL 410.55767 294.118125 \r\nL 410.55767 22.318125 \r\nL 30.103125 22.318125 \r\nz\r\n\" style=\"fill:#ffffff;\"/>\r\n   </g>\r\n   <g id=\"matplotlib.axis_1\">\r\n    <g id=\"xtick_1\">\r\n     <g id=\"line2d_1\">\r\n      <defs>\r\n       <path d=\"M 0 0 \r\nL 0 3.5 \r\n\" id=\"m6d44fc1173\" style=\"stroke:#000000;stroke-width:0.8;\"/>\r\n      </defs>\r\n      <g>\r\n       <use style=\"stroke:#000000;stroke-width:0.8;\" x=\"47.396513\" xlink:href=\"#m6d44fc1173\" y=\"294.118125\"/>\r\n      </g>\r\n     </g>\r\n     <g id=\"text_1\">\r\n      <!-- 0 -->\r\n      <defs>\r\n       <path d=\"M 31.78125 66.40625 \r\nQ 24.171875 66.40625 20.328125 58.90625 \r\nQ 16.5 51.421875 16.5 36.375 \r\nQ 16.5 21.390625 20.328125 13.890625 \r\nQ 24.171875 6.390625 31.78125 6.390625 \r\nQ 39.453125 6.390625 43.28125 13.890625 \r\nQ 47.125 21.390625 47.125 36.375 \r\nQ 47.125 51.421875 43.28125 58.90625 \r\nQ 39.453125 66.40625 31.78125 66.40625 \r\nz\r\nM 31.78125 74.21875 \r\nQ 44.046875 74.21875 50.515625 64.515625 \r\nQ 56.984375 54.828125 56.984375 36.375 \r\nQ 56.984375 17.96875 50.515625 8.265625 \r\nQ 44.046875 -1.421875 31.78125 -1.421875 \r\nQ 19.53125 -1.421875 13.0625 8.265625 \r\nQ 6.59375 17.96875 6.59375 36.375 \r\nQ 6.59375 54.828125 13.0625 64.515625 \r\nQ 19.53125 74.21875 31.78125 74.21875 \r\nz\r\n\" id=\"DejaVuSans-48\"/>\r\n      </defs>\r\n      <g transform=\"translate(44.215263 308.716563)scale(0.1 -0.1)\">\r\n       <use xlink:href=\"#DejaVuSans-48\"/>\r\n      </g>\r\n     </g>\r\n    </g>\r\n    <g id=\"xtick_2\">\r\n     <g id=\"line2d_2\">\r\n      <g>\r\n       <use style=\"stroke:#000000;stroke-width:0.8;\" x=\"100.606939\" xlink:href=\"#m6d44fc1173\" y=\"294.118125\"/>\r\n      </g>\r\n     </g>\r\n     <g id=\"text_2\">\r\n      <!-- 10 -->\r\n      <defs>\r\n       <path d=\"M 12.40625 8.296875 \r\nL 28.515625 8.296875 \r\nL 28.515625 63.921875 \r\nL 10.984375 60.40625 \r\nL 10.984375 69.390625 \r\nL 28.421875 72.90625 \r\nL 38.28125 72.90625 \r\nL 38.28125 8.296875 \r\nL 54.390625 8.296875 \r\nL 54.390625 0 \r\nL 12.40625 0 \r\nz\r\n\" id=\"DejaVuSans-49\"/>\r\n      </defs>\r\n      <g transform=\"translate(94.244439 308.716563)scale(0.1 -0.1)\">\r\n       <use xlink:href=\"#DejaVuSans-49\"/>\r\n       <use x=\"63.623047\" xlink:href=\"#DejaVuSans-48\"/>\r\n      </g>\r\n     </g>\r\n    </g>\r\n    <g id=\"xtick_3\">\r\n     <g id=\"line2d_3\">\r\n      <g>\r\n       <use style=\"stroke:#000000;stroke-width:0.8;\" x=\"153.817365\" xlink:href=\"#m6d44fc1173\" y=\"294.118125\"/>\r\n      </g>\r\n     </g>\r\n     <g id=\"text_3\">\r\n      <!-- 20 -->\r\n      <defs>\r\n       <path d=\"M 19.1875 8.296875 \r\nL 53.609375 8.296875 \r\nL 53.609375 0 \r\nL 7.328125 0 \r\nL 7.328125 8.296875 \r\nQ 12.9375 14.109375 22.625 23.890625 \r\nQ 32.328125 33.6875 34.8125 36.53125 \r\nQ 39.546875 41.84375 41.421875 45.53125 \r\nQ 43.3125 49.21875 43.3125 52.78125 \r\nQ 43.3125 58.59375 39.234375 62.25 \r\nQ 35.15625 65.921875 28.609375 65.921875 \r\nQ 23.96875 65.921875 18.8125 64.3125 \r\nQ 13.671875 62.703125 7.8125 59.421875 \r\nL 7.8125 69.390625 \r\nQ 13.765625 71.78125 18.9375 73 \r\nQ 24.125 74.21875 28.421875 74.21875 \r\nQ 39.75 74.21875 46.484375 68.546875 \r\nQ 53.21875 62.890625 53.21875 53.421875 \r\nQ 53.21875 48.921875 51.53125 44.890625 \r\nQ 49.859375 40.875 45.40625 35.40625 \r\nQ 44.1875 33.984375 37.640625 27.21875 \r\nQ 31.109375 20.453125 19.1875 8.296875 \r\nz\r\n\" id=\"DejaVuSans-50\"/>\r\n      </defs>\r\n      <g transform=\"translate(147.454865 308.716563)scale(0.1 -0.1)\">\r\n       <use xlink:href=\"#DejaVuSans-50\"/>\r\n       <use x=\"63.623047\" xlink:href=\"#DejaVuSans-48\"/>\r\n      </g>\r\n     </g>\r\n    </g>\r\n    <g id=\"xtick_4\">\r\n     <g id=\"line2d_4\">\r\n      <g>\r\n       <use style=\"stroke:#000000;stroke-width:0.8;\" x=\"207.027791\" xlink:href=\"#m6d44fc1173\" y=\"294.118125\"/>\r\n      </g>\r\n     </g>\r\n     <g id=\"text_4\">\r\n      <!-- 30 -->\r\n      <defs>\r\n       <path d=\"M 40.578125 39.3125 \r\nQ 47.65625 37.796875 51.625 33 \r\nQ 55.609375 28.21875 55.609375 21.1875 \r\nQ 55.609375 10.40625 48.1875 4.484375 \r\nQ 40.765625 -1.421875 27.09375 -1.421875 \r\nQ 22.515625 -1.421875 17.65625 -0.515625 \r\nQ 12.796875 0.390625 7.625 2.203125 \r\nL 7.625 11.71875 \r\nQ 11.71875 9.328125 16.59375 8.109375 \r\nQ 21.484375 6.890625 26.8125 6.890625 \r\nQ 36.078125 6.890625 40.9375 10.546875 \r\nQ 45.796875 14.203125 45.796875 21.1875 \r\nQ 45.796875 27.640625 41.28125 31.265625 \r\nQ 36.765625 34.90625 28.71875 34.90625 \r\nL 20.21875 34.90625 \r\nL 20.21875 43.015625 \r\nL 29.109375 43.015625 \r\nQ 36.375 43.015625 40.234375 45.921875 \r\nQ 44.09375 48.828125 44.09375 54.296875 \r\nQ 44.09375 59.90625 40.109375 62.90625 \r\nQ 36.140625 65.921875 28.71875 65.921875 \r\nQ 24.65625 65.921875 20.015625 65.03125 \r\nQ 15.375 64.15625 9.8125 62.3125 \r\nL 9.8125 71.09375 \r\nQ 15.4375 72.65625 20.34375 73.4375 \r\nQ 25.25 74.21875 29.59375 74.21875 \r\nQ 40.828125 74.21875 47.359375 69.109375 \r\nQ 53.90625 64.015625 53.90625 55.328125 \r\nQ 53.90625 49.265625 50.4375 45.09375 \r\nQ 46.96875 40.921875 40.578125 39.3125 \r\nz\r\n\" id=\"DejaVuSans-51\"/>\r\n      </defs>\r\n      <g transform=\"translate(200.665291 308.716563)scale(0.1 -0.1)\">\r\n       <use xlink:href=\"#DejaVuSans-51\"/>\r\n       <use x=\"63.623047\" xlink:href=\"#DejaVuSans-48\"/>\r\n      </g>\r\n     </g>\r\n    </g>\r\n    <g id=\"xtick_5\">\r\n     <g id=\"line2d_5\">\r\n      <g>\r\n       <use style=\"stroke:#000000;stroke-width:0.8;\" x=\"260.238217\" xlink:href=\"#m6d44fc1173\" y=\"294.118125\"/>\r\n      </g>\r\n     </g>\r\n     <g id=\"text_5\">\r\n      <!-- 40 -->\r\n      <defs>\r\n       <path d=\"M 37.796875 64.3125 \r\nL 12.890625 25.390625 \r\nL 37.796875 25.390625 \r\nz\r\nM 35.203125 72.90625 \r\nL 47.609375 72.90625 \r\nL 47.609375 25.390625 \r\nL 58.015625 25.390625 \r\nL 58.015625 17.1875 \r\nL 47.609375 17.1875 \r\nL 47.609375 0 \r\nL 37.796875 0 \r\nL 37.796875 17.1875 \r\nL 4.890625 17.1875 \r\nL 4.890625 26.703125 \r\nz\r\n\" id=\"DejaVuSans-52\"/>\r\n      </defs>\r\n      <g transform=\"translate(253.875717 308.716563)scale(0.1 -0.1)\">\r\n       <use xlink:href=\"#DejaVuSans-52\"/>\r\n       <use x=\"63.623047\" xlink:href=\"#DejaVuSans-48\"/>\r\n      </g>\r\n     </g>\r\n    </g>\r\n    <g id=\"xtick_6\">\r\n     <g id=\"line2d_6\">\r\n      <g>\r\n       <use style=\"stroke:#000000;stroke-width:0.8;\" x=\"313.448643\" xlink:href=\"#m6d44fc1173\" y=\"294.118125\"/>\r\n      </g>\r\n     </g>\r\n     <g id=\"text_6\">\r\n      <!-- 50 -->\r\n      <defs>\r\n       <path d=\"M 10.796875 72.90625 \r\nL 49.515625 72.90625 \r\nL 49.515625 64.59375 \r\nL 19.828125 64.59375 \r\nL 19.828125 46.734375 \r\nQ 21.96875 47.46875 24.109375 47.828125 \r\nQ 26.265625 48.1875 28.421875 48.1875 \r\nQ 40.625 48.1875 47.75 41.5 \r\nQ 54.890625 34.8125 54.890625 23.390625 \r\nQ 54.890625 11.625 47.5625 5.09375 \r\nQ 40.234375 -1.421875 26.90625 -1.421875 \r\nQ 22.3125 -1.421875 17.546875 -0.640625 \r\nQ 12.796875 0.140625 7.71875 1.703125 \r\nL 7.71875 11.625 \r\nQ 12.109375 9.234375 16.796875 8.0625 \r\nQ 21.484375 6.890625 26.703125 6.890625 \r\nQ 35.15625 6.890625 40.078125 11.328125 \r\nQ 45.015625 15.765625 45.015625 23.390625 \r\nQ 45.015625 31 40.078125 35.4375 \r\nQ 35.15625 39.890625 26.703125 39.890625 \r\nQ 22.75 39.890625 18.8125 39.015625 \r\nQ 14.890625 38.140625 10.796875 36.28125 \r\nz\r\n\" id=\"DejaVuSans-53\"/>\r\n      </defs>\r\n      <g transform=\"translate(307.086143 308.716563)scale(0.1 -0.1)\">\r\n       <use xlink:href=\"#DejaVuSans-53\"/>\r\n       <use x=\"63.623047\" xlink:href=\"#DejaVuSans-48\"/>\r\n      </g>\r\n     </g>\r\n    </g>\r\n    <g id=\"xtick_7\">\r\n     <g id=\"line2d_7\">\r\n      <g>\r\n       <use style=\"stroke:#000000;stroke-width:0.8;\" x=\"366.659069\" xlink:href=\"#m6d44fc1173\" y=\"294.118125\"/>\r\n      </g>\r\n     </g>\r\n     <g id=\"text_7\">\r\n      <!-- 60 -->\r\n      <defs>\r\n       <path d=\"M 33.015625 40.375 \r\nQ 26.375 40.375 22.484375 35.828125 \r\nQ 18.609375 31.296875 18.609375 23.390625 \r\nQ 18.609375 15.53125 22.484375 10.953125 \r\nQ 26.375 6.390625 33.015625 6.390625 \r\nQ 39.65625 6.390625 43.53125 10.953125 \r\nQ 47.40625 15.53125 47.40625 23.390625 \r\nQ 47.40625 31.296875 43.53125 35.828125 \r\nQ 39.65625 40.375 33.015625 40.375 \r\nz\r\nM 52.59375 71.296875 \r\nL 52.59375 62.3125 \r\nQ 48.875 64.0625 45.09375 64.984375 \r\nQ 41.3125 65.921875 37.59375 65.921875 \r\nQ 27.828125 65.921875 22.671875 59.328125 \r\nQ 17.53125 52.734375 16.796875 39.40625 \r\nQ 19.671875 43.65625 24.015625 45.921875 \r\nQ 28.375 48.1875 33.59375 48.1875 \r\nQ 44.578125 48.1875 50.953125 41.515625 \r\nQ 57.328125 34.859375 57.328125 23.390625 \r\nQ 57.328125 12.15625 50.6875 5.359375 \r\nQ 44.046875 -1.421875 33.015625 -1.421875 \r\nQ 20.359375 -1.421875 13.671875 8.265625 \r\nQ 6.984375 17.96875 6.984375 36.375 \r\nQ 6.984375 53.65625 15.1875 63.9375 \r\nQ 23.390625 74.21875 37.203125 74.21875 \r\nQ 40.921875 74.21875 44.703125 73.484375 \r\nQ 48.484375 72.75 52.59375 71.296875 \r\nz\r\n\" id=\"DejaVuSans-54\"/>\r\n      </defs>\r\n      <g transform=\"translate(360.296569 308.716563)scale(0.1 -0.1)\">\r\n       <use xlink:href=\"#DejaVuSans-54\"/>\r\n       <use x=\"63.623047\" xlink:href=\"#DejaVuSans-48\"/>\r\n      </g>\r\n     </g>\r\n    </g>\r\n   </g>\r\n   <g id=\"matplotlib.axis_2\">\r\n    <g id=\"ytick_1\">\r\n     <g id=\"line2d_8\">\r\n      <defs>\r\n       <path d=\"M 0 0 \r\nL -3.5 0 \r\n\" id=\"m4ee82cfe93\" style=\"stroke:#000000;stroke-width:0.8;\"/>\r\n      </defs>\r\n      <g>\r\n       <use style=\"stroke:#000000;stroke-width:0.8;\" x=\"30.103125\" xlink:href=\"#m4ee82cfe93\" y=\"286.388495\"/>\r\n      </g>\r\n     </g>\r\n     <g id=\"text_8\">\r\n      <!-- 0.0 -->\r\n      <defs>\r\n       <path d=\"M 10.6875 12.40625 \r\nL 21 12.40625 \r\nL 21 0 \r\nL 10.6875 0 \r\nz\r\n\" id=\"DejaVuSans-46\"/>\r\n      </defs>\r\n      <g transform=\"translate(7.2 290.187714)scale(0.1 -0.1)\">\r\n       <use xlink:href=\"#DejaVuSans-48\"/>\r\n       <use x=\"63.623047\" xlink:href=\"#DejaVuSans-46\"/>\r\n       <use x=\"95.410156\" xlink:href=\"#DejaVuSans-48\"/>\r\n      </g>\r\n     </g>\r\n    </g>\r\n    <g id=\"ytick_2\">\r\n     <g id=\"line2d_9\">\r\n      <g>\r\n       <use style=\"stroke:#000000;stroke-width:0.8;\" x=\"30.103125\" xlink:href=\"#m4ee82cfe93\" y=\"234.090165\"/>\r\n      </g>\r\n     </g>\r\n     <g id=\"text_9\">\r\n      <!-- 0.5 -->\r\n      <g transform=\"translate(7.2 237.889384)scale(0.1 -0.1)\">\r\n       <use xlink:href=\"#DejaVuSans-48\"/>\r\n       <use x=\"63.623047\" xlink:href=\"#DejaVuSans-46\"/>\r\n       <use x=\"95.410156\" xlink:href=\"#DejaVuSans-53\"/>\r\n      </g>\r\n     </g>\r\n    </g>\r\n    <g id=\"ytick_3\">\r\n     <g id=\"line2d_10\">\r\n      <g>\r\n       <use style=\"stroke:#000000;stroke-width:0.8;\" x=\"30.103125\" xlink:href=\"#m4ee82cfe93\" y=\"181.791836\"/>\r\n      </g>\r\n     </g>\r\n     <g id=\"text_10\">\r\n      <!-- 1.0 -->\r\n      <g transform=\"translate(7.2 185.591055)scale(0.1 -0.1)\">\r\n       <use xlink:href=\"#DejaVuSans-49\"/>\r\n       <use x=\"63.623047\" xlink:href=\"#DejaVuSans-46\"/>\r\n       <use x=\"95.410156\" xlink:href=\"#DejaVuSans-48\"/>\r\n      </g>\r\n     </g>\r\n    </g>\r\n    <g id=\"ytick_4\">\r\n     <g id=\"line2d_11\">\r\n      <g>\r\n       <use style=\"stroke:#000000;stroke-width:0.8;\" x=\"30.103125\" xlink:href=\"#m4ee82cfe93\" y=\"129.493506\"/>\r\n      </g>\r\n     </g>\r\n     <g id=\"text_11\">\r\n      <!-- 1.5 -->\r\n      <g transform=\"translate(7.2 133.292725)scale(0.1 -0.1)\">\r\n       <use xlink:href=\"#DejaVuSans-49\"/>\r\n       <use x=\"63.623047\" xlink:href=\"#DejaVuSans-46\"/>\r\n       <use x=\"95.410156\" xlink:href=\"#DejaVuSans-53\"/>\r\n      </g>\r\n     </g>\r\n    </g>\r\n    <g id=\"ytick_5\">\r\n     <g id=\"line2d_12\">\r\n      <g>\r\n       <use style=\"stroke:#000000;stroke-width:0.8;\" x=\"30.103125\" xlink:href=\"#m4ee82cfe93\" y=\"77.195177\"/>\r\n      </g>\r\n     </g>\r\n     <g id=\"text_12\">\r\n      <!-- 2.0 -->\r\n      <g transform=\"translate(7.2 80.994396)scale(0.1 -0.1)\">\r\n       <use xlink:href=\"#DejaVuSans-50\"/>\r\n       <use x=\"63.623047\" xlink:href=\"#DejaVuSans-46\"/>\r\n       <use x=\"95.410156\" xlink:href=\"#DejaVuSans-48\"/>\r\n      </g>\r\n     </g>\r\n    </g>\r\n    <g id=\"ytick_6\">\r\n     <g id=\"line2d_13\">\r\n      <g>\r\n       <use style=\"stroke:#000000;stroke-width:0.8;\" x=\"30.103125\" xlink:href=\"#m4ee82cfe93\" y=\"24.896847\"/>\r\n      </g>\r\n     </g>\r\n     <g id=\"text_13\">\r\n      <!-- 2.5 -->\r\n      <g transform=\"translate(7.2 28.696066)scale(0.1 -0.1)\">\r\n       <use xlink:href=\"#DejaVuSans-50\"/>\r\n       <use x=\"63.623047\" xlink:href=\"#DejaVuSans-46\"/>\r\n       <use x=\"95.410156\" xlink:href=\"#DejaVuSans-53\"/>\r\n      </g>\r\n     </g>\r\n    </g>\r\n   </g>\r\n   <g id=\"line2d_14\">\r\n    <path clip-path=\"url(#p94d6057166)\" d=\"M 47.396513 34.67267 \r\nL 52.717556 84.370135 \r\nL 58.038599 111.945676 \r\nL 63.359641 130.635469 \r\nL 68.680684 148.257491 \r\nL 74.001726 164.138672 \r\nL 79.322769 174.83687 \r\nL 84.643812 181.71795 \r\nL 89.964854 189.448365 \r\nL 95.285897 198.20708 \r\nL 100.606939 200.931772 \r\nL 105.927982 204.946538 \r\nL 111.249025 210.170336 \r\nL 116.570067 212.020302 \r\nL 121.89111 217.370486 \r\nL 127.212152 224.431863 \r\nL 132.533195 226.17511 \r\nL 137.854238 228.477469 \r\nL 143.17528 227.482198 \r\nL 148.496323 232.645991 \r\nL 153.817365 234.867579 \r\nL 159.138408 236.532141 \r\nL 164.45945 240.835949 \r\nL 169.780493 244.029553 \r\nL 175.101536 243.864479 \r\nL 180.422578 245.893932 \r\nL 185.743621 246.396141 \r\nL 191.064663 247.367853 \r\nL 196.385706 252.314327 \r\nL 201.706749 255.157587 \r\nL 207.027791 255.127326 \r\nL 212.348834 256.836261 \r\nL 217.669876 255.269876 \r\nL 222.990919 255.540673 \r\nL 228.311962 257.943746 \r\nL 233.633004 258.329704 \r\nL 238.954047 261.315143 \r\nL 244.275089 260.324005 \r\nL 249.596132 262.378589 \r\nL 254.917175 263.107482 \r\nL 260.238217 263.943552 \r\nL 265.55926 264.426047 \r\nL 270.880302 266.743348 \r\nL 276.201345 265.077005 \r\nL 281.522388 266.212533 \r\nL 286.84343 267.067953 \r\nL 292.164473 269.174753 \r\nL 297.485515 269.455981 \r\nL 302.806558 269.837523 \r\nL 308.127601 268.558903 \r\nL 313.448643 270.107099 \r\nL 318.769686 269.861854 \r\nL 324.090728 271.471233 \r\nL 329.411771 271.396334 \r\nL 334.732813 273.18135 \r\nL 340.053856 275.214514 \r\nL 345.374899 277.048468 \r\nL 350.695941 276.943125 \r\nL 356.016984 277.365926 \r\nL 361.338026 276.66966 \r\nL 366.659069 277.456912 \r\nL 371.980112 278.724826 \r\nL 377.301154 277.051453 \r\nL 382.622197 278.394782 \r\nL 387.943239 278.310263 \r\nL 393.264282 279.56989 \r\n\" style=\"fill:none;stroke:#1f77b4;stroke-linecap:square;stroke-width:1.5;\"/>\r\n   </g>\r\n   <g id=\"line2d_15\">\r\n    <path clip-path=\"url(#p94d6057166)\" d=\"M 47.396513 105.757873 \r\nL 52.717556 153.727992 \r\nL 58.038599 166.397401 \r\nL 63.359641 201.200177 \r\nL 68.680684 209.397529 \r\nL 74.001726 226.658112 \r\nL 79.322769 234.777943 \r\nL 84.643812 238.964502 \r\nL 89.964854 240.234348 \r\nL 95.285897 245.579701 \r\nL 100.606939 249.233282 \r\nL 105.927982 253.188517 \r\nL 111.249025 250.071803 \r\nL 116.570067 254.038112 \r\nL 121.89111 256.00098 \r\nL 127.212152 259.001829 \r\nL 132.533195 262.222495 \r\nL 137.854238 263.160573 \r\nL 143.17528 262.184192 \r\nL 148.496323 267.297363 \r\nL 153.817365 267.971703 \r\nL 159.138408 267.715203 \r\nL 164.45945 269.178187 \r\nL 169.780493 267.717303 \r\nL 175.101536 269.598039 \r\nL 180.422578 272.56357 \r\nL 185.743621 272.818712 \r\nL 191.064663 272.26064 \r\nL 196.385706 274.75295 \r\nL 201.706749 274.490483 \r\nL 207.027791 274.948404 \r\nL 212.348834 273.999239 \r\nL 217.669876 273.674615 \r\nL 222.990919 275.520272 \r\nL 228.311962 276.881701 \r\nL 233.633004 275.516179 \r\nL 238.954047 277.641483 \r\nL 244.275089 278.063758 \r\nL 249.596132 277.867325 \r\nL 254.917175 277.884002 \r\nL 260.238217 279.345359 \r\nL 265.55926 279.112982 \r\nL 270.880302 279.692751 \r\nL 276.201345 276.747012 \r\nL 281.522388 279.468092 \r\nL 286.84343 279.982828 \r\nL 292.164473 279.689286 \r\nL 297.485515 280.219421 \r\nL 302.806558 280.515418 \r\nL 308.127601 280.349583 \r\nL 313.448643 279.513983 \r\nL 318.769686 279.770906 \r\nL 324.090728 280.224316 \r\nL 329.411771 280.262296 \r\nL 334.732813 281.479013 \r\nL 340.053856 281.670761 \r\nL 345.374899 281.052987 \r\nL 350.695941 281.385255 \r\nL 356.016984 281.494509 \r\nL 361.338026 281.76358 \r\nL 366.659069 281.667706 \r\nL 371.980112 281.30658 \r\nL 377.301154 280.930769 \r\nL 382.622197 281.149046 \r\nL 387.943239 281.500625 \r\nL 393.264282 281.384727 \r\n\" style=\"fill:none;stroke:#ff7f0e;stroke-linecap:square;stroke-width:1.5;\"/>\r\n   </g>\r\n   <g id=\"patch_3\">\r\n    <path d=\"M 30.103125 294.118125 \r\nL 30.103125 22.318125 \r\n\" style=\"fill:none;stroke:#000000;stroke-linecap:square;stroke-linejoin:miter;stroke-width:0.8;\"/>\r\n   </g>\r\n   <g id=\"patch_4\">\r\n    <path d=\"M 410.55767 294.118125 \r\nL 410.55767 22.318125 \r\n\" style=\"fill:none;stroke:#000000;stroke-linecap:square;stroke-linejoin:miter;stroke-width:0.8;\"/>\r\n   </g>\r\n   <g id=\"patch_5\">\r\n    <path d=\"M 30.103125 294.118125 \r\nL 410.55767 294.118125 \r\n\" style=\"fill:none;stroke:#000000;stroke-linecap:square;stroke-linejoin:miter;stroke-width:0.8;\"/>\r\n   </g>\r\n   <g id=\"patch_6\">\r\n    <path d=\"M 30.103125 22.318125 \r\nL 410.55767 22.318125 \r\n\" style=\"fill:none;stroke:#000000;stroke-linecap:square;stroke-linejoin:miter;stroke-width:0.8;\"/>\r\n   </g>\r\n   <g id=\"text_14\">\r\n    <!-- loss -->\r\n    <defs>\r\n     <path d=\"M 9.421875 75.984375 \r\nL 18.40625 75.984375 \r\nL 18.40625 0 \r\nL 9.421875 0 \r\nz\r\n\" id=\"DejaVuSans-108\"/>\r\n     <path d=\"M 30.609375 48.390625 \r\nQ 23.390625 48.390625 19.1875 42.75 \r\nQ 14.984375 37.109375 14.984375 27.296875 \r\nQ 14.984375 17.484375 19.15625 11.84375 \r\nQ 23.34375 6.203125 30.609375 6.203125 \r\nQ 37.796875 6.203125 41.984375 11.859375 \r\nQ 46.1875 17.53125 46.1875 27.296875 \r\nQ 46.1875 37.015625 41.984375 42.703125 \r\nQ 37.796875 48.390625 30.609375 48.390625 \r\nz\r\nM 30.609375 56 \r\nQ 42.328125 56 49.015625 48.375 \r\nQ 55.71875 40.765625 55.71875 27.296875 \r\nQ 55.71875 13.875 49.015625 6.21875 \r\nQ 42.328125 -1.421875 30.609375 -1.421875 \r\nQ 18.84375 -1.421875 12.171875 6.21875 \r\nQ 5.515625 13.875 5.515625 27.296875 \r\nQ 5.515625 40.765625 12.171875 48.375 \r\nQ 18.84375 56 30.609375 56 \r\nz\r\n\" id=\"DejaVuSans-111\"/>\r\n     <path d=\"M 44.28125 53.078125 \r\nL 44.28125 44.578125 \r\nQ 40.484375 46.53125 36.375 47.5 \r\nQ 32.28125 48.484375 27.875 48.484375 \r\nQ 21.1875 48.484375 17.84375 46.4375 \r\nQ 14.5 44.390625 14.5 40.28125 \r\nQ 14.5 37.15625 16.890625 35.375 \r\nQ 19.28125 33.59375 26.515625 31.984375 \r\nL 29.59375 31.296875 \r\nQ 39.15625 29.25 43.1875 25.515625 \r\nQ 47.21875 21.78125 47.21875 15.09375 \r\nQ 47.21875 7.46875 41.1875 3.015625 \r\nQ 35.15625 -1.421875 24.609375 -1.421875 \r\nQ 20.21875 -1.421875 15.453125 -0.5625 \r\nQ 10.6875 0.296875 5.421875 2 \r\nL 5.421875 11.28125 \r\nQ 10.40625 8.6875 15.234375 7.390625 \r\nQ 20.0625 6.109375 24.8125 6.109375 \r\nQ 31.15625 6.109375 34.5625 8.28125 \r\nQ 37.984375 10.453125 37.984375 14.40625 \r\nQ 37.984375 18.0625 35.515625 20.015625 \r\nQ 33.0625 21.96875 24.703125 23.78125 \r\nL 21.578125 24.515625 \r\nQ 13.234375 26.265625 9.515625 29.90625 \r\nQ 5.8125 33.546875 5.8125 39.890625 \r\nQ 5.8125 47.609375 11.28125 51.796875 \r\nQ 16.75 56 26.8125 56 \r\nQ 31.78125 56 36.171875 55.265625 \r\nQ 40.578125 54.546875 44.28125 53.078125 \r\nz\r\n\" id=\"DejaVuSans-115\"/>\r\n    </defs>\r\n    <g transform=\"translate(208.741023 16.318125)scale(0.12 -0.12)\">\r\n     <use xlink:href=\"#DejaVuSans-108\"/>\r\n     <use x=\"27.783203\" xlink:href=\"#DejaVuSans-111\"/>\r\n     <use x=\"88.964844\" xlink:href=\"#DejaVuSans-115\"/>\r\n     <use x=\"141.064453\" xlink:href=\"#DejaVuSans-115\"/>\r\n    </g>\r\n   </g>\r\n   <g id=\"legend_1\">\r\n    <g id=\"patch_7\">\r\n     <path d=\"M 299.68267 59.674375 \r\nL 403.55767 59.674375 \r\nQ 405.55767 59.674375 405.55767 57.674375 \r\nL 405.55767 29.318125 \r\nQ 405.55767 27.318125 403.55767 27.318125 \r\nL 299.68267 27.318125 \r\nQ 297.68267 27.318125 297.68267 29.318125 \r\nL 297.68267 57.674375 \r\nQ 297.68267 59.674375 299.68267 59.674375 \r\nz\r\n\" style=\"fill:#ffffff;opacity:0.8;stroke:#cccccc;stroke-linejoin:miter;\"/>\r\n    </g>\r\n    <g id=\"line2d_16\">\r\n     <path d=\"M 301.68267 35.416562 \r\nL 321.68267 35.416562 \r\n\" style=\"fill:none;stroke:#1f77b4;stroke-linecap:square;stroke-width:1.5;\"/>\r\n    </g>\r\n    <g id=\"line2d_17\"/>\r\n    <g id=\"text_15\">\r\n     <!-- Train loss -->\r\n     <defs>\r\n      <path d=\"M -0.296875 72.90625 \r\nL 61.375 72.90625 \r\nL 61.375 64.59375 \r\nL 35.5 64.59375 \r\nL 35.5 0 \r\nL 25.59375 0 \r\nL 25.59375 64.59375 \r\nL -0.296875 64.59375 \r\nz\r\n\" id=\"DejaVuSans-84\"/>\r\n      <path d=\"M 41.109375 46.296875 \r\nQ 39.59375 47.171875 37.8125 47.578125 \r\nQ 36.03125 48 33.890625 48 \r\nQ 26.265625 48 22.1875 43.046875 \r\nQ 18.109375 38.09375 18.109375 28.8125 \r\nL 18.109375 0 \r\nL 9.078125 0 \r\nL 9.078125 54.6875 \r\nL 18.109375 54.6875 \r\nL 18.109375 46.1875 \r\nQ 20.953125 51.171875 25.484375 53.578125 \r\nQ 30.03125 56 36.53125 56 \r\nQ 37.453125 56 38.578125 55.875 \r\nQ 39.703125 55.765625 41.0625 55.515625 \r\nz\r\n\" id=\"DejaVuSans-114\"/>\r\n      <path d=\"M 34.28125 27.484375 \r\nQ 23.390625 27.484375 19.1875 25 \r\nQ 14.984375 22.515625 14.984375 16.5 \r\nQ 14.984375 11.71875 18.140625 8.90625 \r\nQ 21.296875 6.109375 26.703125 6.109375 \r\nQ 34.1875 6.109375 38.703125 11.40625 \r\nQ 43.21875 16.703125 43.21875 25.484375 \r\nL 43.21875 27.484375 \r\nz\r\nM 52.203125 31.203125 \r\nL 52.203125 0 \r\nL 43.21875 0 \r\nL 43.21875 8.296875 \r\nQ 40.140625 3.328125 35.546875 0.953125 \r\nQ 30.953125 -1.421875 24.3125 -1.421875 \r\nQ 15.921875 -1.421875 10.953125 3.296875 \r\nQ 6 8.015625 6 15.921875 \r\nQ 6 25.140625 12.171875 29.828125 \r\nQ 18.359375 34.515625 30.609375 34.515625 \r\nL 43.21875 34.515625 \r\nL 43.21875 35.40625 \r\nQ 43.21875 41.609375 39.140625 45 \r\nQ 35.0625 48.390625 27.6875 48.390625 \r\nQ 23 48.390625 18.546875 47.265625 \r\nQ 14.109375 46.140625 10.015625 43.890625 \r\nL 10.015625 52.203125 \r\nQ 14.9375 54.109375 19.578125 55.046875 \r\nQ 24.21875 56 28.609375 56 \r\nQ 40.484375 56 46.34375 49.84375 \r\nQ 52.203125 43.703125 52.203125 31.203125 \r\nz\r\n\" id=\"DejaVuSans-97\"/>\r\n      <path d=\"M 9.421875 54.6875 \r\nL 18.40625 54.6875 \r\nL 18.40625 0 \r\nL 9.421875 0 \r\nz\r\nM 9.421875 75.984375 \r\nL 18.40625 75.984375 \r\nL 18.40625 64.59375 \r\nL 9.421875 64.59375 \r\nz\r\n\" id=\"DejaVuSans-105\"/>\r\n      <path d=\"M 54.890625 33.015625 \r\nL 54.890625 0 \r\nL 45.90625 0 \r\nL 45.90625 32.71875 \r\nQ 45.90625 40.484375 42.875 44.328125 \r\nQ 39.84375 48.1875 33.796875 48.1875 \r\nQ 26.515625 48.1875 22.3125 43.546875 \r\nQ 18.109375 38.921875 18.109375 30.90625 \r\nL 18.109375 0 \r\nL 9.078125 0 \r\nL 9.078125 54.6875 \r\nL 18.109375 54.6875 \r\nL 18.109375 46.1875 \r\nQ 21.34375 51.125 25.703125 53.5625 \r\nQ 30.078125 56 35.796875 56 \r\nQ 45.21875 56 50.046875 50.171875 \r\nQ 54.890625 44.34375 54.890625 33.015625 \r\nz\r\n\" id=\"DejaVuSans-110\"/>\r\n      <path id=\"DejaVuSans-32\"/>\r\n     </defs>\r\n     <g transform=\"translate(329.68267 38.916562)scale(0.1 -0.1)\">\r\n      <use xlink:href=\"#DejaVuSans-84\"/>\r\n      <use x=\"46.333984\" xlink:href=\"#DejaVuSans-114\"/>\r\n      <use x=\"87.447266\" xlink:href=\"#DejaVuSans-97\"/>\r\n      <use x=\"148.726562\" xlink:href=\"#DejaVuSans-105\"/>\r\n      <use x=\"176.509766\" xlink:href=\"#DejaVuSans-110\"/>\r\n      <use x=\"239.888672\" xlink:href=\"#DejaVuSans-32\"/>\r\n      <use x=\"271.675781\" xlink:href=\"#DejaVuSans-108\"/>\r\n      <use x=\"299.458984\" xlink:href=\"#DejaVuSans-111\"/>\r\n      <use x=\"360.640625\" xlink:href=\"#DejaVuSans-115\"/>\r\n      <use x=\"412.740234\" xlink:href=\"#DejaVuSans-115\"/>\r\n     </g>\r\n    </g>\r\n    <g id=\"line2d_18\">\r\n     <path d=\"M 301.68267 50.094688 \r\nL 321.68267 50.094688 \r\n\" style=\"fill:none;stroke:#ff7f0e;stroke-linecap:square;stroke-width:1.5;\"/>\r\n    </g>\r\n    <g id=\"line2d_19\"/>\r\n    <g id=\"text_16\">\r\n     <!-- Validation loss -->\r\n     <defs>\r\n      <path d=\"M 28.609375 0 \r\nL 0.78125 72.90625 \r\nL 11.078125 72.90625 \r\nL 34.1875 11.53125 \r\nL 57.328125 72.90625 \r\nL 67.578125 72.90625 \r\nL 39.796875 0 \r\nz\r\n\" id=\"DejaVuSans-86\"/>\r\n      <path d=\"M 45.40625 46.390625 \r\nL 45.40625 75.984375 \r\nL 54.390625 75.984375 \r\nL 54.390625 0 \r\nL 45.40625 0 \r\nL 45.40625 8.203125 \r\nQ 42.578125 3.328125 38.25 0.953125 \r\nQ 33.9375 -1.421875 27.875 -1.421875 \r\nQ 17.96875 -1.421875 11.734375 6.484375 \r\nQ 5.515625 14.40625 5.515625 27.296875 \r\nQ 5.515625 40.1875 11.734375 48.09375 \r\nQ 17.96875 56 27.875 56 \r\nQ 33.9375 56 38.25 53.625 \r\nQ 42.578125 51.265625 45.40625 46.390625 \r\nz\r\nM 14.796875 27.296875 \r\nQ 14.796875 17.390625 18.875 11.75 \r\nQ 22.953125 6.109375 30.078125 6.109375 \r\nQ 37.203125 6.109375 41.296875 11.75 \r\nQ 45.40625 17.390625 45.40625 27.296875 \r\nQ 45.40625 37.203125 41.296875 42.84375 \r\nQ 37.203125 48.484375 30.078125 48.484375 \r\nQ 22.953125 48.484375 18.875 42.84375 \r\nQ 14.796875 37.203125 14.796875 27.296875 \r\nz\r\n\" id=\"DejaVuSans-100\"/>\r\n      <path d=\"M 18.3125 70.21875 \r\nL 18.3125 54.6875 \r\nL 36.8125 54.6875 \r\nL 36.8125 47.703125 \r\nL 18.3125 47.703125 \r\nL 18.3125 18.015625 \r\nQ 18.3125 11.328125 20.140625 9.421875 \r\nQ 21.96875 7.515625 27.59375 7.515625 \r\nL 36.8125 7.515625 \r\nL 36.8125 0 \r\nL 27.59375 0 \r\nQ 17.1875 0 13.234375 3.875 \r\nQ 9.28125 7.765625 9.28125 18.015625 \r\nL 9.28125 47.703125 \r\nL 2.6875 47.703125 \r\nL 2.6875 54.6875 \r\nL 9.28125 54.6875 \r\nL 9.28125 70.21875 \r\nz\r\n\" id=\"DejaVuSans-116\"/>\r\n     </defs>\r\n     <g transform=\"translate(329.68267 53.594688)scale(0.1 -0.1)\">\r\n      <use xlink:href=\"#DejaVuSans-86\"/>\r\n      <use x=\"60.658203\" xlink:href=\"#DejaVuSans-97\"/>\r\n      <use x=\"121.9375\" xlink:href=\"#DejaVuSans-108\"/>\r\n      <use x=\"149.720703\" xlink:href=\"#DejaVuSans-105\"/>\r\n      <use x=\"177.503906\" xlink:href=\"#DejaVuSans-100\"/>\r\n      <use x=\"240.980469\" xlink:href=\"#DejaVuSans-97\"/>\r\n      <use x=\"302.259766\" xlink:href=\"#DejaVuSans-116\"/>\r\n      <use x=\"341.46875\" xlink:href=\"#DejaVuSans-105\"/>\r\n      <use x=\"369.251953\" xlink:href=\"#DejaVuSans-111\"/>\r\n      <use x=\"430.433594\" xlink:href=\"#DejaVuSans-110\"/>\r\n      <use x=\"493.8125\" xlink:href=\"#DejaVuSans-32\"/>\r\n      <use x=\"525.599609\" xlink:href=\"#DejaVuSans-108\"/>\r\n      <use x=\"553.382812\" xlink:href=\"#DejaVuSans-111\"/>\r\n      <use x=\"614.564453\" xlink:href=\"#DejaVuSans-115\"/>\r\n      <use x=\"666.664062\" xlink:href=\"#DejaVuSans-115\"/>\r\n     </g>\r\n    </g>\r\n   </g>\r\n  </g>\r\n  <g id=\"axes_2\">\r\n   <g id=\"patch_8\">\r\n    <path d=\"M 486.64858 294.118125 \r\nL 867.103125 294.118125 \r\nL 867.103125 22.318125 \r\nL 486.64858 22.318125 \r\nz\r\n\" style=\"fill:#ffffff;\"/>\r\n   </g>\r\n   <g id=\"matplotlib.axis_3\">\r\n    <g id=\"xtick_8\">\r\n     <g id=\"line2d_20\">\r\n      <g>\r\n       <use style=\"stroke:#000000;stroke-width:0.8;\" x=\"503.941968\" xlink:href=\"#m6d44fc1173\" y=\"294.118125\"/>\r\n      </g>\r\n     </g>\r\n     <g id=\"text_17\">\r\n      <!-- 0 -->\r\n      <g transform=\"translate(500.760718 308.716563)scale(0.1 -0.1)\">\r\n       <use xlink:href=\"#DejaVuSans-48\"/>\r\n      </g>\r\n     </g>\r\n    </g>\r\n    <g id=\"xtick_9\">\r\n     <g id=\"line2d_21\">\r\n      <g>\r\n       <use style=\"stroke:#000000;stroke-width:0.8;\" x=\"557.152394\" xlink:href=\"#m6d44fc1173\" y=\"294.118125\"/>\r\n      </g>\r\n     </g>\r\n     <g id=\"text_18\">\r\n      <!-- 10 -->\r\n      <g transform=\"translate(550.789894 308.716563)scale(0.1 -0.1)\">\r\n       <use xlink:href=\"#DejaVuSans-49\"/>\r\n       <use x=\"63.623047\" xlink:href=\"#DejaVuSans-48\"/>\r\n      </g>\r\n     </g>\r\n    </g>\r\n    <g id=\"xtick_10\">\r\n     <g id=\"line2d_22\">\r\n      <g>\r\n       <use style=\"stroke:#000000;stroke-width:0.8;\" x=\"610.36282\" xlink:href=\"#m6d44fc1173\" y=\"294.118125\"/>\r\n      </g>\r\n     </g>\r\n     <g id=\"text_19\">\r\n      <!-- 20 -->\r\n      <g transform=\"translate(604.00032 308.716563)scale(0.1 -0.1)\">\r\n       <use xlink:href=\"#DejaVuSans-50\"/>\r\n       <use x=\"63.623047\" xlink:href=\"#DejaVuSans-48\"/>\r\n      </g>\r\n     </g>\r\n    </g>\r\n    <g id=\"xtick_11\">\r\n     <g id=\"line2d_23\">\r\n      <g>\r\n       <use style=\"stroke:#000000;stroke-width:0.8;\" x=\"663.573246\" xlink:href=\"#m6d44fc1173\" y=\"294.118125\"/>\r\n      </g>\r\n     </g>\r\n     <g id=\"text_20\">\r\n      <!-- 30 -->\r\n      <g transform=\"translate(657.210746 308.716563)scale(0.1 -0.1)\">\r\n       <use xlink:href=\"#DejaVuSans-51\"/>\r\n       <use x=\"63.623047\" xlink:href=\"#DejaVuSans-48\"/>\r\n      </g>\r\n     </g>\r\n    </g>\r\n    <g id=\"xtick_12\">\r\n     <g id=\"line2d_24\">\r\n      <g>\r\n       <use style=\"stroke:#000000;stroke-width:0.8;\" x=\"716.783672\" xlink:href=\"#m6d44fc1173\" y=\"294.118125\"/>\r\n      </g>\r\n     </g>\r\n     <g id=\"text_21\">\r\n      <!-- 40 -->\r\n      <g transform=\"translate(710.421172 308.716563)scale(0.1 -0.1)\">\r\n       <use xlink:href=\"#DejaVuSans-52\"/>\r\n       <use x=\"63.623047\" xlink:href=\"#DejaVuSans-48\"/>\r\n      </g>\r\n     </g>\r\n    </g>\r\n    <g id=\"xtick_13\">\r\n     <g id=\"line2d_25\">\r\n      <g>\r\n       <use style=\"stroke:#000000;stroke-width:0.8;\" x=\"769.994098\" xlink:href=\"#m6d44fc1173\" y=\"294.118125\"/>\r\n      </g>\r\n     </g>\r\n     <g id=\"text_22\">\r\n      <!-- 50 -->\r\n      <g transform=\"translate(763.631598 308.716563)scale(0.1 -0.1)\">\r\n       <use xlink:href=\"#DejaVuSans-53\"/>\r\n       <use x=\"63.623047\" xlink:href=\"#DejaVuSans-48\"/>\r\n      </g>\r\n     </g>\r\n    </g>\r\n    <g id=\"xtick_14\">\r\n     <g id=\"line2d_26\">\r\n      <g>\r\n       <use style=\"stroke:#000000;stroke-width:0.8;\" x=\"823.204524\" xlink:href=\"#m6d44fc1173\" y=\"294.118125\"/>\r\n      </g>\r\n     </g>\r\n     <g id=\"text_23\">\r\n      <!-- 60 -->\r\n      <g transform=\"translate(816.842024 308.716563)scale(0.1 -0.1)\">\r\n       <use xlink:href=\"#DejaVuSans-54\"/>\r\n       <use x=\"63.623047\" xlink:href=\"#DejaVuSans-48\"/>\r\n      </g>\r\n     </g>\r\n    </g>\r\n   </g>\r\n   <g id=\"matplotlib.axis_4\">\r\n    <g id=\"ytick_7\">\r\n     <g id=\"line2d_27\">\r\n      <g>\r\n       <use style=\"stroke:#000000;stroke-width:0.8;\" x=\"486.64858\" xlink:href=\"#m4ee82cfe93\" y=\"279.125113\"/>\r\n      </g>\r\n     </g>\r\n     <g id=\"text_24\">\r\n      <!-- 0.2 -->\r\n      <g transform=\"translate(463.745455 282.924331)scale(0.1 -0.1)\">\r\n       <use xlink:href=\"#DejaVuSans-48\"/>\r\n       <use x=\"63.623047\" xlink:href=\"#DejaVuSans-46\"/>\r\n       <use x=\"95.410156\" xlink:href=\"#DejaVuSans-50\"/>\r\n      </g>\r\n     </g>\r\n    </g>\r\n    <g id=\"ytick_8\">\r\n     <g id=\"line2d_28\">\r\n      <g>\r\n       <use style=\"stroke:#000000;stroke-width:0.8;\" x=\"486.64858\" xlink:href=\"#m4ee82cfe93\" y=\"248.123127\"/>\r\n      </g>\r\n     </g>\r\n     <g id=\"text_25\">\r\n      <!-- 0.3 -->\r\n      <g transform=\"translate(463.745455 251.922345)scale(0.1 -0.1)\">\r\n       <use xlink:href=\"#DejaVuSans-48\"/>\r\n       <use x=\"63.623047\" xlink:href=\"#DejaVuSans-46\"/>\r\n       <use x=\"95.410156\" xlink:href=\"#DejaVuSans-51\"/>\r\n      </g>\r\n     </g>\r\n    </g>\r\n    <g id=\"ytick_9\">\r\n     <g id=\"line2d_29\">\r\n      <g>\r\n       <use style=\"stroke:#000000;stroke-width:0.8;\" x=\"486.64858\" xlink:href=\"#m4ee82cfe93\" y=\"217.12114\"/>\r\n      </g>\r\n     </g>\r\n     <g id=\"text_26\">\r\n      <!-- 0.4 -->\r\n      <g transform=\"translate(463.745455 220.920359)scale(0.1 -0.1)\">\r\n       <use xlink:href=\"#DejaVuSans-48\"/>\r\n       <use x=\"63.623047\" xlink:href=\"#DejaVuSans-46\"/>\r\n       <use x=\"95.410156\" xlink:href=\"#DejaVuSans-52\"/>\r\n      </g>\r\n     </g>\r\n    </g>\r\n    <g id=\"ytick_10\">\r\n     <g id=\"line2d_30\">\r\n      <g>\r\n       <use style=\"stroke:#000000;stroke-width:0.8;\" x=\"486.64858\" xlink:href=\"#m4ee82cfe93\" y=\"186.119154\"/>\r\n      </g>\r\n     </g>\r\n     <g id=\"text_27\">\r\n      <!-- 0.5 -->\r\n      <g transform=\"translate(463.745455 189.918373)scale(0.1 -0.1)\">\r\n       <use xlink:href=\"#DejaVuSans-48\"/>\r\n       <use x=\"63.623047\" xlink:href=\"#DejaVuSans-46\"/>\r\n       <use x=\"95.410156\" xlink:href=\"#DejaVuSans-53\"/>\r\n      </g>\r\n     </g>\r\n    </g>\r\n    <g id=\"ytick_11\">\r\n     <g id=\"line2d_31\">\r\n      <g>\r\n       <use style=\"stroke:#000000;stroke-width:0.8;\" x=\"486.64858\" xlink:href=\"#m4ee82cfe93\" y=\"155.117168\"/>\r\n      </g>\r\n     </g>\r\n     <g id=\"text_28\">\r\n      <!-- 0.6 -->\r\n      <g transform=\"translate(463.745455 158.916387)scale(0.1 -0.1)\">\r\n       <use xlink:href=\"#DejaVuSans-48\"/>\r\n       <use x=\"63.623047\" xlink:href=\"#DejaVuSans-46\"/>\r\n       <use x=\"95.410156\" xlink:href=\"#DejaVuSans-54\"/>\r\n      </g>\r\n     </g>\r\n    </g>\r\n    <g id=\"ytick_12\">\r\n     <g id=\"line2d_32\">\r\n      <g>\r\n       <use style=\"stroke:#000000;stroke-width:0.8;\" x=\"486.64858\" xlink:href=\"#m4ee82cfe93\" y=\"124.115182\"/>\r\n      </g>\r\n     </g>\r\n     <g id=\"text_29\">\r\n      <!-- 0.7 -->\r\n      <defs>\r\n       <path d=\"M 8.203125 72.90625 \r\nL 55.078125 72.90625 \r\nL 55.078125 68.703125 \r\nL 28.609375 0 \r\nL 18.3125 0 \r\nL 43.21875 64.59375 \r\nL 8.203125 64.59375 \r\nz\r\n\" id=\"DejaVuSans-55\"/>\r\n      </defs>\r\n      <g transform=\"translate(463.745455 127.914401)scale(0.1 -0.1)\">\r\n       <use xlink:href=\"#DejaVuSans-48\"/>\r\n       <use x=\"63.623047\" xlink:href=\"#DejaVuSans-46\"/>\r\n       <use x=\"95.410156\" xlink:href=\"#DejaVuSans-55\"/>\r\n      </g>\r\n     </g>\r\n    </g>\r\n    <g id=\"ytick_13\">\r\n     <g id=\"line2d_33\">\r\n      <g>\r\n       <use style=\"stroke:#000000;stroke-width:0.8;\" x=\"486.64858\" xlink:href=\"#m4ee82cfe93\" y=\"93.113196\"/>\r\n      </g>\r\n     </g>\r\n     <g id=\"text_30\">\r\n      <!-- 0.8 -->\r\n      <defs>\r\n       <path d=\"M 31.78125 34.625 \r\nQ 24.75 34.625 20.71875 30.859375 \r\nQ 16.703125 27.09375 16.703125 20.515625 \r\nQ 16.703125 13.921875 20.71875 10.15625 \r\nQ 24.75 6.390625 31.78125 6.390625 \r\nQ 38.8125 6.390625 42.859375 10.171875 \r\nQ 46.921875 13.96875 46.921875 20.515625 \r\nQ 46.921875 27.09375 42.890625 30.859375 \r\nQ 38.875 34.625 31.78125 34.625 \r\nz\r\nM 21.921875 38.8125 \r\nQ 15.578125 40.375 12.03125 44.71875 \r\nQ 8.5 49.078125 8.5 55.328125 \r\nQ 8.5 64.0625 14.71875 69.140625 \r\nQ 20.953125 74.21875 31.78125 74.21875 \r\nQ 42.671875 74.21875 48.875 69.140625 \r\nQ 55.078125 64.0625 55.078125 55.328125 \r\nQ 55.078125 49.078125 51.53125 44.71875 \r\nQ 48 40.375 41.703125 38.8125 \r\nQ 48.828125 37.15625 52.796875 32.3125 \r\nQ 56.78125 27.484375 56.78125 20.515625 \r\nQ 56.78125 9.90625 50.3125 4.234375 \r\nQ 43.84375 -1.421875 31.78125 -1.421875 \r\nQ 19.734375 -1.421875 13.25 4.234375 \r\nQ 6.78125 9.90625 6.78125 20.515625 \r\nQ 6.78125 27.484375 10.78125 32.3125 \r\nQ 14.796875 37.15625 21.921875 38.8125 \r\nz\r\nM 18.3125 54.390625 \r\nQ 18.3125 48.734375 21.84375 45.5625 \r\nQ 25.390625 42.390625 31.78125 42.390625 \r\nQ 38.140625 42.390625 41.71875 45.5625 \r\nQ 45.3125 48.734375 45.3125 54.390625 \r\nQ 45.3125 60.0625 41.71875 63.234375 \r\nQ 38.140625 66.40625 31.78125 66.40625 \r\nQ 25.390625 66.40625 21.84375 63.234375 \r\nQ 18.3125 60.0625 18.3125 54.390625 \r\nz\r\n\" id=\"DejaVuSans-56\"/>\r\n      </defs>\r\n      <g transform=\"translate(463.745455 96.912415)scale(0.1 -0.1)\">\r\n       <use xlink:href=\"#DejaVuSans-48\"/>\r\n       <use x=\"63.623047\" xlink:href=\"#DejaVuSans-46\"/>\r\n       <use x=\"95.410156\" xlink:href=\"#DejaVuSans-56\"/>\r\n      </g>\r\n     </g>\r\n    </g>\r\n    <g id=\"ytick_14\">\r\n     <g id=\"line2d_34\">\r\n      <g>\r\n       <use style=\"stroke:#000000;stroke-width:0.8;\" x=\"486.64858\" xlink:href=\"#m4ee82cfe93\" y=\"62.11121\"/>\r\n      </g>\r\n     </g>\r\n     <g id=\"text_31\">\r\n      <!-- 0.9 -->\r\n      <defs>\r\n       <path d=\"M 10.984375 1.515625 \r\nL 10.984375 10.5 \r\nQ 14.703125 8.734375 18.5 7.8125 \r\nQ 22.3125 6.890625 25.984375 6.890625 \r\nQ 35.75 6.890625 40.890625 13.453125 \r\nQ 46.046875 20.015625 46.78125 33.40625 \r\nQ 43.953125 29.203125 39.59375 26.953125 \r\nQ 35.25 24.703125 29.984375 24.703125 \r\nQ 19.046875 24.703125 12.671875 31.3125 \r\nQ 6.296875 37.9375 6.296875 49.421875 \r\nQ 6.296875 60.640625 12.9375 67.421875 \r\nQ 19.578125 74.21875 30.609375 74.21875 \r\nQ 43.265625 74.21875 49.921875 64.515625 \r\nQ 56.59375 54.828125 56.59375 36.375 \r\nQ 56.59375 19.140625 48.40625 8.859375 \r\nQ 40.234375 -1.421875 26.421875 -1.421875 \r\nQ 22.703125 -1.421875 18.890625 -0.6875 \r\nQ 15.09375 0.046875 10.984375 1.515625 \r\nz\r\nM 30.609375 32.421875 \r\nQ 37.25 32.421875 41.125 36.953125 \r\nQ 45.015625 41.5 45.015625 49.421875 \r\nQ 45.015625 57.28125 41.125 61.84375 \r\nQ 37.25 66.40625 30.609375 66.40625 \r\nQ 23.96875 66.40625 20.09375 61.84375 \r\nQ 16.21875 57.28125 16.21875 49.421875 \r\nQ 16.21875 41.5 20.09375 36.953125 \r\nQ 23.96875 32.421875 30.609375 32.421875 \r\nz\r\n\" id=\"DejaVuSans-57\"/>\r\n      </defs>\r\n      <g transform=\"translate(463.745455 65.910429)scale(0.1 -0.1)\">\r\n       <use xlink:href=\"#DejaVuSans-48\"/>\r\n       <use x=\"63.623047\" xlink:href=\"#DejaVuSans-46\"/>\r\n       <use x=\"95.410156\" xlink:href=\"#DejaVuSans-57\"/>\r\n      </g>\r\n     </g>\r\n    </g>\r\n    <g id=\"ytick_15\">\r\n     <g id=\"line2d_35\">\r\n      <g>\r\n       <use style=\"stroke:#000000;stroke-width:0.8;\" x=\"486.64858\" xlink:href=\"#m4ee82cfe93\" y=\"31.109224\"/>\r\n      </g>\r\n     </g>\r\n     <g id=\"text_32\">\r\n      <!-- 1.0 -->\r\n      <g transform=\"translate(463.745455 34.908443)scale(0.1 -0.1)\">\r\n       <use xlink:href=\"#DejaVuSans-49\"/>\r\n       <use x=\"63.623047\" xlink:href=\"#DejaVuSans-46\"/>\r\n       <use x=\"95.410156\" xlink:href=\"#DejaVuSans-48\"/>\r\n      </g>\r\n     </g>\r\n    </g>\r\n   </g>\r\n   <g id=\"line2d_36\">\r\n    <path clip-path=\"url(#pd90d84d627)\" d=\"M 503.941968 281.76358 \r\nL 509.263011 239.409242 \r\nL 514.584053 213.58004 \r\nL 519.905096 195.110772 \r\nL 525.226138 175.877737 \r\nL 530.547181 164.490669 \r\nL 535.868224 155.394902 \r\nL 541.189266 146.160267 \r\nL 546.510309 139.286367 \r\nL 551.831351 128.593632 \r\nL 557.152394 128.940799 \r\nL 562.473437 123.872165 \r\nL 567.794479 118.664665 \r\nL 573.115522 115.401298 \r\nL 578.436564 110.540964 \r\nL 583.757607 104.361397 \r\nL 589.078649 99.987097 \r\nL 594.399692 97.34863 \r\nL 599.720735 97.76523 \r\nL 605.041777 95.335063 \r\nL 610.36282 90.335862 \r\nL 615.683862 89.780396 \r\nL 621.004905 83.531395 \r\nL 626.325948 78.323895 \r\nL 631.64699 79.643128 \r\nL 636.968033 77.143528 \r\nL 642.289075 76.935228 \r\nL 647.610118 74.991094 \r\nL 652.931161 72.630361 \r\nL 658.252203 66.520227 \r\nL 663.573246 66.17306 \r\nL 668.894288 65.478727 \r\nL 674.215331 65.895327 \r\nL 679.536374 65.200993 \r\nL 684.857416 64.853827 \r\nL 690.178459 62.493093 \r\nL 695.499501 60.201793 \r\nL 700.820544 59.646326 \r\nL 706.141587 58.25766 \r\nL 711.462629 55.758059 \r\nL 716.783672 55.896926 \r\nL 722.104714 56.799559 \r\nL 727.425757 53.536192 \r\nL 732.7468 53.466759 \r\nL 738.067842 54.647126 \r\nL 743.388885 51.730926 \r\nL 748.709927 50.897726 \r\nL 754.03097 50.272825 \r\nL 759.352012 49.578492 \r\nL 764.673055 49.925659 \r\nL 769.994098 48.953592 \r\nL 775.31514 49.509059 \r\nL 780.636183 47.912092 \r\nL 785.957225 47.912092 \r\nL 791.278268 46.315125 \r\nL 796.599311 43.746092 \r\nL 801.920353 41.524225 \r\nL 807.241396 41.593658 \r\nL 812.562438 40.968758 \r\nL 817.883481 42.287991 \r\nL 823.204524 40.691025 \r\nL 828.525566 39.163491 \r\nL 833.846609 41.663091 \r\nL 839.167651 40.274425 \r\nL 844.488694 40.135558 \r\nL 849.809737 39.580091 \r\n\" style=\"fill:none;stroke:#1f77b4;stroke-linecap:square;stroke-width:1.5;\"/>\r\n   </g>\r\n   <g id=\"line2d_37\">\r\n    <path clip-path=\"url(#pd90d84d627)\" d=\"M 503.941968 190.492475 \r\nL 509.263011 165.062424 \r\nL 514.584053 124.406737 \r\nL 519.905096 120.51934 \r\nL 525.226138 107.075428 \r\nL 530.547181 93.307566 \r\nL 535.868224 83.589075 \r\nL 541.189266 80.025628 \r\nL 546.510309 76.462181 \r\nL 551.831351 72.250835 \r\nL 557.152394 68.201464 \r\nL 562.473437 66.581716 \r\nL 567.794479 68.201464 \r\nL 573.115522 65.123942 \r\nL 578.436564 60.750621 \r\nL 583.757607 61.72247 \r\nL 589.078649 58.320998 \r\nL 594.399692 52.003979 \r\nL 599.720735 53.785702 \r\nL 605.041777 50.060281 \r\nL 610.36282 49.250407 \r\nL 615.683862 50.222256 \r\nL 621.004905 50.708181 \r\nL 626.325948 49.412382 \r\nL 631.64699 49.898306 \r\nL 636.968033 47.630658 \r\nL 642.289075 46.982759 \r\nL 647.610118 44.391161 \r\nL 652.931161 44.391161 \r\nL 658.252203 43.905237 \r\nL 663.573246 43.743262 \r\nL 668.894288 43.743262 \r\nL 674.215331 45.039061 \r\nL 679.536374 44.715111 \r\nL 684.857416 41.151664 \r\nL 690.178459 41.961539 \r\nL 695.499501 40.66574 \r\nL 700.820544 40.01784 \r\nL 706.141587 39.045991 \r\nL 711.462629 38.236117 \r\nL 716.783672 37.750193 \r\nL 722.104714 38.560067 \r\nL 727.425757 38.722042 \r\nL 732.7468 40.827715 \r\nL 738.067842 37.588218 \r\nL 743.388885 38.560067 \r\nL 748.709927 36.940318 \r\nL 754.03097 37.912167 \r\nL 759.352012 36.130444 \r\nL 764.673055 36.130444 \r\nL 769.994098 37.588218 \r\nL 775.31514 36.778343 \r\nL 780.636183 36.940318 \r\nL 785.957225 36.616369 \r\nL 791.278268 35.158595 \r\nL 796.599311 35.806494 \r\nL 801.920353 35.482545 \r\nL 807.241396 35.482545 \r\nL 812.562438 35.482544 \r\nL 817.883481 35.644519 \r\nL 823.204524 34.67267 \r\nL 828.525566 35.32057 \r\nL 833.846609 35.482545 \r\nL 839.167651 35.64452 \r\nL 844.488694 34.99662 \r\nL 849.809737 35.158595 \r\n\" style=\"fill:none;stroke:#ff7f0e;stroke-linecap:square;stroke-width:1.5;\"/>\r\n   </g>\r\n   <g id=\"patch_9\">\r\n    <path d=\"M 486.64858 294.118125 \r\nL 486.64858 22.318125 \r\n\" style=\"fill:none;stroke:#000000;stroke-linecap:square;stroke-linejoin:miter;stroke-width:0.8;\"/>\r\n   </g>\r\n   <g id=\"patch_10\">\r\n    <path d=\"M 867.103125 294.118125 \r\nL 867.103125 22.318125 \r\n\" style=\"fill:none;stroke:#000000;stroke-linecap:square;stroke-linejoin:miter;stroke-width:0.8;\"/>\r\n   </g>\r\n   <g id=\"patch_11\">\r\n    <path d=\"M 486.64858 294.118125 \r\nL 867.103125 294.118125 \r\n\" style=\"fill:none;stroke:#000000;stroke-linecap:square;stroke-linejoin:miter;stroke-width:0.8;\"/>\r\n   </g>\r\n   <g id=\"patch_12\">\r\n    <path d=\"M 486.64858 22.318125 \r\nL 867.103125 22.318125 \r\n\" style=\"fill:none;stroke:#000000;stroke-linecap:square;stroke-linejoin:miter;stroke-width:0.8;\"/>\r\n   </g>\r\n   <g id=\"text_33\">\r\n    <!-- acc -->\r\n    <defs>\r\n     <path d=\"M 48.78125 52.59375 \r\nL 48.78125 44.1875 \r\nQ 44.96875 46.296875 41.140625 47.34375 \r\nQ 37.3125 48.390625 33.40625 48.390625 \r\nQ 24.65625 48.390625 19.8125 42.84375 \r\nQ 14.984375 37.3125 14.984375 27.296875 \r\nQ 14.984375 17.28125 19.8125 11.734375 \r\nQ 24.65625 6.203125 33.40625 6.203125 \r\nQ 37.3125 6.203125 41.140625 7.25 \r\nQ 44.96875 8.296875 48.78125 10.40625 \r\nL 48.78125 2.09375 \r\nQ 45.015625 0.34375 40.984375 -0.53125 \r\nQ 36.96875 -1.421875 32.421875 -1.421875 \r\nQ 20.0625 -1.421875 12.78125 6.34375 \r\nQ 5.515625 14.109375 5.515625 27.296875 \r\nQ 5.515625 40.671875 12.859375 48.328125 \r\nQ 20.21875 56 33.015625 56 \r\nQ 37.15625 56 41.109375 55.140625 \r\nQ 45.0625 54.296875 48.78125 52.59375 \r\nz\r\n\" id=\"DejaVuSans-99\"/>\r\n    </defs>\r\n    <g transform=\"translate(666.600852 16.318125)scale(0.12 -0.12)\">\r\n     <use xlink:href=\"#DejaVuSans-97\"/>\r\n     <use x=\"61.279297\" xlink:href=\"#DejaVuSans-99\"/>\r\n     <use x=\"116.259766\" xlink:href=\"#DejaVuSans-99\"/>\r\n    </g>\r\n   </g>\r\n   <g id=\"legend_2\">\r\n    <g id=\"patch_13\">\r\n     <path d=\"M 758.41875 289.118125 \r\nL 860.103125 289.118125 \r\nQ 862.103125 289.118125 862.103125 287.118125 \r\nL 862.103125 258.761875 \r\nQ 862.103125 256.761875 860.103125 256.761875 \r\nL 758.41875 256.761875 \r\nQ 756.41875 256.761875 756.41875 258.761875 \r\nL 756.41875 287.118125 \r\nQ 756.41875 289.118125 758.41875 289.118125 \r\nz\r\n\" style=\"fill:#ffffff;opacity:0.8;stroke:#cccccc;stroke-linejoin:miter;\"/>\r\n    </g>\r\n    <g id=\"line2d_38\">\r\n     <path d=\"M 760.41875 264.860313 \r\nL 780.41875 264.860313 \r\n\" style=\"fill:none;stroke:#1f77b4;stroke-linecap:square;stroke-width:1.5;\"/>\r\n    </g>\r\n    <g id=\"line2d_39\"/>\r\n    <g id=\"text_34\">\r\n     <!-- Train acc -->\r\n     <g transform=\"translate(788.41875 268.360313)scale(0.1 -0.1)\">\r\n      <use xlink:href=\"#DejaVuSans-84\"/>\r\n      <use x=\"46.333984\" xlink:href=\"#DejaVuSans-114\"/>\r\n      <use x=\"87.447266\" xlink:href=\"#DejaVuSans-97\"/>\r\n      <use x=\"148.726562\" xlink:href=\"#DejaVuSans-105\"/>\r\n      <use x=\"176.509766\" xlink:href=\"#DejaVuSans-110\"/>\r\n      <use x=\"239.888672\" xlink:href=\"#DejaVuSans-32\"/>\r\n      <use x=\"271.675781\" xlink:href=\"#DejaVuSans-97\"/>\r\n      <use x=\"332.955078\" xlink:href=\"#DejaVuSans-99\"/>\r\n      <use x=\"387.935547\" xlink:href=\"#DejaVuSans-99\"/>\r\n     </g>\r\n    </g>\r\n    <g id=\"line2d_40\">\r\n     <path d=\"M 760.41875 279.538438 \r\nL 780.41875 279.538438 \r\n\" style=\"fill:none;stroke:#ff7f0e;stroke-linecap:square;stroke-width:1.5;\"/>\r\n    </g>\r\n    <g id=\"line2d_41\"/>\r\n    <g id=\"text_35\">\r\n     <!-- Validation acc -->\r\n     <g transform=\"translate(788.41875 283.038438)scale(0.1 -0.1)\">\r\n      <use xlink:href=\"#DejaVuSans-86\"/>\r\n      <use x=\"60.658203\" xlink:href=\"#DejaVuSans-97\"/>\r\n      <use x=\"121.9375\" xlink:href=\"#DejaVuSans-108\"/>\r\n      <use x=\"149.720703\" xlink:href=\"#DejaVuSans-105\"/>\r\n      <use x=\"177.503906\" xlink:href=\"#DejaVuSans-100\"/>\r\n      <use x=\"240.980469\" xlink:href=\"#DejaVuSans-97\"/>\r\n      <use x=\"302.259766\" xlink:href=\"#DejaVuSans-116\"/>\r\n      <use x=\"341.46875\" xlink:href=\"#DejaVuSans-105\"/>\r\n      <use x=\"369.251953\" xlink:href=\"#DejaVuSans-111\"/>\r\n      <use x=\"430.433594\" xlink:href=\"#DejaVuSans-110\"/>\r\n      <use x=\"493.8125\" xlink:href=\"#DejaVuSans-32\"/>\r\n      <use x=\"525.599609\" xlink:href=\"#DejaVuSans-97\"/>\r\n      <use x=\"586.878906\" xlink:href=\"#DejaVuSans-99\"/>\r\n      <use x=\"641.859375\" xlink:href=\"#DejaVuSans-99\"/>\r\n     </g>\r\n    </g>\r\n   </g>\r\n  </g>\r\n </g>\r\n <defs>\r\n  <clipPath id=\"p94d6057166\">\r\n   <rect height=\"271.8\" width=\"380.454545\" x=\"30.103125\" y=\"22.318125\"/>\r\n  </clipPath>\r\n  <clipPath id=\"pd90d84d627\">\r\n   <rect height=\"271.8\" width=\"380.454545\" x=\"486.64858\" y=\"22.318125\"/>\r\n  </clipPath>\r\n </defs>\r\n</svg>\r\n",
      "image/png": "[encoded data removed]"
     },
     "metadata": {
      "needs_background": "light"
     }
    }
   ],
   "source": [
    "show_final_history(history)"
   ]
  },
  {
   "source": [
    "We can try and test the model on random new images"
   ],
   "cell_type": "markdown",
   "metadata": {}
  },
  {
   "cell_type": "code",
   "execution_count": 29,
   "metadata": {},
   "outputs": [
    {
     "output_type": "stream",
     "name": "stdout",
     "text": [
      "_________________________________________________________________\nLayer (type)                 Output Shape              Param #   \n=================================================================\nconv2d_17 (Conv2D)           (None, 198, 198, 32)      896       \n_________________________________________________________________\nconv2d_18 (Conv2D)           (None, 196, 196, 32)      9248      \n_________________________________________________________________\nmax_pooling2d_9 (MaxPooling2 (None, 98, 98, 32)        0         \n_________________________________________________________________\nconv2d_19 (Conv2D)           (None, 96, 96, 64)        18496     \n_________________________________________________________________\nconv2d_20 (Conv2D)           (None, 94, 94, 64)        36928     \n_________________________________________________________________\nmax_pooling2d_10 (MaxPooling (None, 47, 47, 64)        0         \n_________________________________________________________________\nconv2d_21 (Conv2D)           (None, 45, 45, 128)       73856     \n_________________________________________________________________\nconv2d_22 (Conv2D)           (None, 43, 43, 128)       147584    \n_________________________________________________________________\nmax_pooling2d_11 (MaxPooling (None, 21, 21, 128)       0         \n_________________________________________________________________\nconv2d_23 (Conv2D)           (None, 19, 19, 256)       295168    \n_________________________________________________________________\nconv2d_24 (Conv2D)           (None, 17, 17, 256)       590080    \n_________________________________________________________________\nmax_pooling2d_12 (MaxPooling (None, 8, 8, 256)         0         \n_________________________________________________________________\nflatten_3 (Flatten)          (None, 16384)             0         \n_________________________________________________________________\ndense_5 (Dense)              (None, 64)                1048640   \n_________________________________________________________________\ndropout_3 (Dropout)          (None, 64)                0         \n_________________________________________________________________\ndense_6 (Dense)              (None, 16)                1040      \n=================================================================\nTotal params: 2,221,936\nTrainable params: 2,221,936\nNon-trainable params: 0\n_________________________________________________________________\n"
     ]
    }
   ],
   "source": [
    "#image_path = \"../../LEGO_brick_images_v1/2357 Brick corner 1x2x2/201706171206-0001.png\"\n",
    "image_path = \"../../LEGO_brick_images_v1/3004 Brick 1x2/0003.png\"\n",
    "image = cv2.imread(image_path)\n",
    "\n",
    "from numpy import array\n",
    "json_file = open(\"./model/lego.json\", \"r\")\n",
    "json_model = json_file.read()\n",
    "json_file.close()\n",
    "\n",
    "loaded_model = keras.models.model_from_json(json_model)\n",
    "loaded_model.load_weights(\"./model/lego_weights.h5\")\n",
    "\n",
    "loaded_model.summary()\n",
    "image = np.expand_dims(image, axis=0)\n",
    "prediction = loaded_model.predict_classes(image)"
   ]
  },
  {
   "cell_type": "code",
   "execution_count": 30,
   "metadata": {},
   "outputs": [
    {
     "output_type": "execute_result",
     "data": {
      "text/plain": [
       "4"
      ]
     },
     "metadata": {},
     "execution_count": 30
    }
   ],
   "source": [
    "prediction[0]"
   ]
  }
 ]
}