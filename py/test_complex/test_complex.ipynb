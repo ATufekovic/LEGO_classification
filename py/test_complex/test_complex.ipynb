{
 "metadata": {
  "language_info": {
   "codemirror_mode": {
    "name": "ipython",
    "version": 3
   },
   "file_extension": ".py",
   "mimetype": "text/x-python",
   "name": "python",
   "nbconvert_exporter": "python",
   "pygments_lexer": "ipython3",
   "version": "3.6.13"
  },
  "orig_nbformat": 2,
  "kernelspec": {
   "name": "python3",
   "display_name": "Python 3.6.13 64-bit ('lego_jupyter_fuckup': conda)"
  },
  "metadata": {
   "interpreter": {
    "hash": "296bba369c12f2a092f767976c09cfbc8c85eb31befb7c7878fa91c761923a58"
   }
  },
  "interpreter": {
   "hash": "aaa1f6e536dc283f1a4d0e946a10328ed0e7981c31ef1bb7683a8d61263e98f9"
  }
 },
 "nbformat": 4,
 "nbformat_minor": 2,
 "cells": [
  {
   "source": [
    "## Diplomski rad - Klasificiranje LEGO kocaka koristeći neuronske mreže"
   ],
   "cell_type": "markdown",
   "metadata": {}
  },
  {
   "source": [
    "Rad se izvodi koristeći PlaidML za AMD GPU preko Keras-a"
   ],
   "cell_type": "markdown",
   "metadata": {}
  },
  {
   "cell_type": "code",
   "execution_count": 1,
   "metadata": {},
   "outputs": [],
   "source": [
    "import os\n",
    "os.environ[\"KERAS_BACKEND\"] = \"plaidml.keras.backend\""
   ]
  },
  {
   "source": [
    "Promijene vezane za PlaidML se mogu izvesti sa pokretanjem `plaidml-setup` u powershell-u\n",
    "\n",
    "Sve sljedece linije ce se spominjati na Engleskom jeziku zbog jednostavnosti i istoznacnosti sa programskim ködom na engleskom jeziku"
   ],
   "cell_type": "markdown",
   "metadata": {}
  },
  {
   "cell_type": "code",
   "execution_count": 2,
   "metadata": {},
   "outputs": [
    {
     "output_type": "stream",
     "name": "stderr",
     "text": [
      "Using plaidml.keras.backend backend.\n"
     ]
    }
   ],
   "source": [
    "import numpy as np\n",
    "import keras\n",
    "import matplotlib.pyplot as plt\n",
    "import cv2"
   ]
  },
  {
   "cell_type": "code",
   "execution_count": 3,
   "metadata": {},
   "outputs": [],
   "source": [
    "dataset_path = \"../../LEGO_brick_custom/\"\n",
    "dataset_output = \"./output\""
   ]
  },
  {
   "cell_type": "code",
   "execution_count": 4,
   "metadata": {},
   "outputs": [
    {
     "output_type": "execute_result",
     "data": {
      "text/plain": [
       "['train', 'val']"
      ]
     },
     "metadata": {},
     "execution_count": 4
    }
   ],
   "source": [
    "#if you want you can run this once, but some randomness can be good\n",
    "import splitfolders\n",
    "splitfolders.ratio(dataset_path, output=dataset_output, ratio=(.7, .3))\n",
    "\n",
    "os.listdir(dataset_output)"
   ]
  },
  {
   "cell_type": "code",
   "execution_count": 5,
   "metadata": {
    "tags": []
   },
   "outputs": [
    {
     "output_type": "stream",
     "name": "stderr",
     "text": [
      "C:\\Users\\Anto\\anaconda3\\envs\\lego_jupyter_fuckup\\lib\\site-packages\\tensorflow\\python\\framework\\dtypes.py:526: FutureWarning: Passing (type, 1) or '1type' as a synonym of type is deprecated; in a future version of numpy, it will be understood as (type, (1,)) / '(1,)type'.\n",
      "  _np_qint8 = np.dtype([(\"qint8\", np.int8, 1)])\n",
      "C:\\Users\\Anto\\anaconda3\\envs\\lego_jupyter_fuckup\\lib\\site-packages\\tensorflow\\python\\framework\\dtypes.py:527: FutureWarning: Passing (type, 1) or '1type' as a synonym of type is deprecated; in a future version of numpy, it will be understood as (type, (1,)) / '(1,)type'.\n",
      "  _np_quint8 = np.dtype([(\"quint8\", np.uint8, 1)])\n",
      "C:\\Users\\Anto\\anaconda3\\envs\\lego_jupyter_fuckup\\lib\\site-packages\\tensorflow\\python\\framework\\dtypes.py:528: FutureWarning: Passing (type, 1) or '1type' as a synonym of type is deprecated; in a future version of numpy, it will be understood as (type, (1,)) / '(1,)type'.\n",
      "  _np_qint16 = np.dtype([(\"qint16\", np.int16, 1)])\n",
      "C:\\Users\\Anto\\anaconda3\\envs\\lego_jupyter_fuckup\\lib\\site-packages\\tensorflow\\python\\framework\\dtypes.py:529: FutureWarning: Passing (type, 1) or '1type' as a synonym of type is deprecated; in a future version of numpy, it will be understood as (type, (1,)) / '(1,)type'.\n",
      "  _np_quint16 = np.dtype([(\"quint16\", np.uint16, 1)])\n",
      "C:\\Users\\Anto\\anaconda3\\envs\\lego_jupyter_fuckup\\lib\\site-packages\\tensorflow\\python\\framework\\dtypes.py:530: FutureWarning: Passing (type, 1) or '1type' as a synonym of type is deprecated; in a future version of numpy, it will be understood as (type, (1,)) / '(1,)type'.\n",
      "  _np_qint32 = np.dtype([(\"qint32\", np.int32, 1)])\n",
      "C:\\Users\\Anto\\anaconda3\\envs\\lego_jupyter_fuckup\\lib\\site-packages\\tensorflow\\python\\framework\\dtypes.py:535: FutureWarning: Passing (type, 1) or '1type' as a synonym of type is deprecated; in a future version of numpy, it will be understood as (type, (1,)) / '(1,)type'.\n",
      "  np_resource = np.dtype([(\"resource\", np.ubyte, 1)])\n",
      "Found 29025 images belonging to 27 classes.\n",
      "Found 12447 images belonging to 27 classes.\n",
      "27\n"
     ]
    }
   ],
   "source": [
    "from keras.preprocessing.image import ImageDataGenerator\n",
    "train_datagen = ImageDataGenerator(\n",
    "    rescale=1./255,\n",
    "    shear_range=10,\n",
    "    zoom_range=[1,1.2],\n",
    "    height_shift_range=0.2,\n",
    "    width_shift_range=0.2,\n",
    "    brightness_range=[0.5,1],\n",
    "    rotation_range=360\n",
    ")\n",
    "validation_datagen = ImageDataGenerator(\n",
    "    rescale=1./255\n",
    ")\n",
    "\n",
    "train_generator = train_datagen.flow_from_directory(os.path.join(dataset_output,'train'), target_size=(200,200), shuffle=True, class_mode=\"categorical\")\n",
    "validation_generator = validation_datagen.flow_from_directory(os.path.join(dataset_output, 'val'), target_size=(200,200), shuffle=True, class_mode='categorical')\n",
    "\n",
    "\n",
    "print(len(train_generator.class_indices))"
   ]
  },
  {
   "source": [
    "Now to declare a model and modify it, we can also use preexisting ones like VGG16 or ResNet but for this test we are using a simple one"
   ],
   "cell_type": "markdown",
   "metadata": {}
  },
  {
   "cell_type": "code",
   "execution_count": 6,
   "metadata": {},
   "outputs": [
    {
     "output_type": "stream",
     "name": "stderr",
     "text": [
      "INFO:plaidml:Opening device \"opencl_amd_ellesmere.0\"\n",
      "_________________________________________________________________\n",
      "Layer (type)                 Output Shape              Param #   \n",
      "=================================================================\n",
      "conv2d_1 (Conv2D)            (None, 198, 198, 32)      896       \n",
      "_________________________________________________________________\n",
      "conv2d_2 (Conv2D)            (None, 196, 196, 32)      9248      \n",
      "_________________________________________________________________\n",
      "max_pooling2d_1 (MaxPooling2 (None, 98, 98, 32)        0         \n",
      "_________________________________________________________________\n",
      "conv2d_3 (Conv2D)            (None, 96, 96, 64)        18496     \n",
      "_________________________________________________________________\n",
      "conv2d_4 (Conv2D)            (None, 94, 94, 64)        36928     \n",
      "_________________________________________________________________\n",
      "max_pooling2d_2 (MaxPooling2 (None, 47, 47, 64)        0         \n",
      "_________________________________________________________________\n",
      "conv2d_5 (Conv2D)            (None, 45, 45, 128)       73856     \n",
      "_________________________________________________________________\n",
      "conv2d_6 (Conv2D)            (None, 43, 43, 128)       147584    \n",
      "_________________________________________________________________\n",
      "max_pooling2d_3 (MaxPooling2 (None, 21, 21, 128)       0         \n",
      "_________________________________________________________________\n",
      "conv2d_7 (Conv2D)            (None, 19, 19, 256)       295168    \n",
      "_________________________________________________________________\n",
      "conv2d_8 (Conv2D)            (None, 17, 17, 256)       590080    \n",
      "_________________________________________________________________\n",
      "max_pooling2d_4 (MaxPooling2 (None, 8, 8, 256)         0         \n",
      "_________________________________________________________________\n",
      "flatten_1 (Flatten)          (None, 16384)             0         \n",
      "_________________________________________________________________\n",
      "dense_1 (Dense)              (None, 512)               8389120   \n",
      "_________________________________________________________________\n",
      "dropout_1 (Dropout)          (None, 512)               0         \n",
      "_________________________________________________________________\n",
      "dense_2 (Dense)              (None, 256)               131328    \n",
      "_________________________________________________________________\n",
      "dropout_2 (Dropout)          (None, 256)               0         \n",
      "_________________________________________________________________\n",
      "dense_3 (Dense)              (None, 27)                6939      \n",
      "=================================================================\n",
      "Total params: 9,699,643\n",
      "Trainable params: 9,699,643\n",
      "Non-trainable params: 0\n",
      "_________________________________________________________________\n"
     ]
    }
   ],
   "source": [
    "from keras.layers import Conv2D, MaxPooling2D, Flatten, Dense, Dropout\n",
    "from keras.models import Sequential, Input, Model\n",
    "\n",
    "model = Sequential()\n",
    "model.add(Conv2D(32, (3,3), input_shape=(200,200,3), activation=\"relu\"))\n",
    "model.add(Conv2D(32, (3,3), activation=\"relu\"))\n",
    "model.add(MaxPooling2D(pool_size=(2, 2)))\n",
    "\n",
    "model.add(Conv2D(64, (3,3), activation=\"relu\"))\n",
    "model.add(Conv2D(64, (3,3), activation=\"relu\"))\n",
    "model.add(MaxPooling2D(pool_size=(2, 2)))\n",
    "\n",
    "model.add(Conv2D(128, (3,3), activation=\"relu\"))\n",
    "model.add(Conv2D(128, (3,3), activation=\"relu\"))\n",
    "model.add(MaxPooling2D(pool_size=(2, 2)))\n",
    "\n",
    "model.add(Conv2D(256, (3,3), activation=\"relu\"))\n",
    "model.add(Conv2D(256, (3,3), activation=\"relu\"))\n",
    "model.add(MaxPooling2D(pool_size=(2, 2)))\n",
    "\n",
    "model.add(Flatten())\n",
    "model.add(Dense(512, activation=\"relu\"))\n",
    "model.add(Dropout(0.5))\n",
    "model.add(Dense(256, activation=\"relu\"))\n",
    "model.add(Dropout(0.5))\n",
    "model.add(Dense(len(train_generator.class_indices), activation=\"softmax\"))\n",
    "\n",
    "model.summary()"
   ]
  },
  {
   "cell_type": "code",
   "execution_count": 7,
   "metadata": {},
   "outputs": [],
   "source": [
    "from keras.utils.vis_utils import plot_model\n",
    "\n",
    "plot_model(model, to_file=\"model/model.png\", show_shapes = True, rankdir=\"LR\")"
   ]
  },
  {
   "cell_type": "code",
   "execution_count": 8,
   "metadata": {},
   "outputs": [
    {
     "output_type": "stream",
     "name": "stderr",
     "text": [
      "C:\\Users\\Anto\\anaconda3\\envs\\lego_jupyter_fuckup\\lib\\site-packages\\keras\\callbacks.py:756: UserWarning: You are not using the TensorFlow backend. write_graph was set to False\n  warnings.warn('You are not using the TensorFlow backend. '\n"
     ]
    }
   ],
   "source": [
    "from keras.callbacks import ModelCheckpoint,EarlyStopping,TensorBoard,CSVLogger,ReduceLROnPlateau\n",
    "\n",
    "best_model_weights = './base.model'\n",
    "checkpoint = ModelCheckpoint(\n",
    "    best_model_weights,\n",
    "    monitor='val_loss',\n",
    "    verbose=1,\n",
    "    save_best_only=True,\n",
    "    mode='min',\n",
    "    save_weights_only=False,\n",
    "    period=1\n",
    ")\n",
    "earlystop = EarlyStopping(\n",
    "    monitor='val_loss',\n",
    "    min_delta=0.001,\n",
    "    patience=12,\n",
    "    verbose=1,\n",
    "    mode='auto'\n",
    ")\n",
    "tensorboard = TensorBoard(\n",
    "    log_dir = './logs',\n",
    "    histogram_freq=0,\n",
    "    batch_size=16,\n",
    "    write_graph=True,\n",
    "    write_grads=True,\n",
    "    write_images=False,\n",
    ")\n",
    "\n",
    "csvlogger = CSVLogger(\n",
    "    filename= \"training_csv.log\",\n",
    "    separator = \",\",\n",
    "    append = False\n",
    ")\n",
    "\n",
    "\n",
    "reduceLR = ReduceLROnPlateau(\n",
    "    monitor='val_loss',\n",
    "    factor=0.2,\n",
    "    patience=5,\n",
    "    verbose=1, \n",
    "    mode='auto',\n",
    "    cooldown=1 \n",
    ")\n",
    "\n",
    "callbacks = [checkpoint,tensorboard,csvlogger,reduceLR, earlystop]"
   ]
  },
  {
   "cell_type": "code",
   "execution_count": 9,
   "metadata": {
    "tags": []
   },
   "outputs": [
    {
     "output_type": "stream",
     "name": "stdout",
     "text": [
      "Epoch 1/100\n",
      "INFO:plaidml:Analyzing Ops: 117 of 490 operations complete\n",
      "200/200 [==============================] - 270s 1s/step - loss: 3.2443 - acc: 0.0527 - val_loss: 2.8567 - val_acc: 0.0902\n",
      "\n",
      "Epoch 00001: val_loss improved from inf to 2.85669, saving model to ./base.model\n",
      "Epoch 2/100\n",
      "  2/200 [..............................] - ETA: 1:20 - loss: 3.0702 - acc: 0.0469INFO:plaidml:Analyzing Ops: 111 of 486 operations complete\n",
      "200/200 [==============================] - 285s 1s/step - loss: 2.8177 - acc: 0.1089 - val_loss: 2.4709 - val_acc: 0.1660\n",
      "\n",
      "Epoch 00002: val_loss improved from 2.85669 to 2.47086, saving model to ./base.model\n",
      "Epoch 3/100\n",
      "200/200 [==============================] - 184s 922ms/step - loss: 2.6367 - acc: 0.1291 - val_loss: 2.5778 - val_acc: 0.1473\n",
      "\n",
      "Epoch 00003: val_loss did not improve from 2.47086\n",
      "Epoch 4/100\n",
      "200/200 [==============================] - 179s 896ms/step - loss: 2.5549 - acc: 0.1414 - val_loss: 2.6688 - val_acc: 0.0902\n",
      "\n",
      "Epoch 00004: val_loss did not improve from 2.47086\n",
      "Epoch 5/100\n",
      "200/200 [==============================] - 152s 758ms/step - loss: 2.4711 - acc: 0.1584 - val_loss: 2.7371 - val_acc: 0.1050\n",
      "\n",
      "Epoch 00005: val_loss did not improve from 2.47086\n",
      "Epoch 6/100\n",
      "200/200 [==============================] - 125s 624ms/step - loss: 2.3528 - acc: 0.2066 - val_loss: 2.7035 - val_acc: 0.1214\n",
      "\n",
      "Epoch 00006: val_loss did not improve from 2.47086\n",
      "Epoch 7/100\n",
      "200/200 [==============================] - 123s 617ms/step - loss: 2.2725 - acc: 0.2195 - val_loss: 2.1184 - val_acc: 0.2620\n",
      "\n",
      "Epoch 00007: val_loss improved from 2.47086 to 2.11842, saving model to ./base.model\n",
      "Epoch 8/100\n",
      "200/200 [==============================] - 122s 612ms/step - loss: 2.1851 - acc: 0.2463 - val_loss: 1.9980 - val_acc: 0.2913\n",
      "\n",
      "Epoch 00008: val_loss improved from 2.11842 to 1.99802, saving model to ./base.model\n",
      "Epoch 9/100\n",
      "200/200 [==============================] - 127s 637ms/step - loss: 2.0975 - acc: 0.2795 - val_loss: 2.1454 - val_acc: 0.2403\n",
      "\n",
      "Epoch 00009: val_loss did not improve from 1.99802\n",
      "Epoch 10/100\n",
      "200/200 [==============================] - 128s 639ms/step - loss: 2.0092 - acc: 0.3098 - val_loss: 1.8524 - val_acc: 0.3308\n",
      "\n",
      "Epoch 00010: val_loss improved from 1.99802 to 1.85242, saving model to ./base.model\n",
      "Epoch 11/100\n",
      "200/200 [==============================] - 125s 624ms/step - loss: 1.9555 - acc: 0.3264 - val_loss: 1.8451 - val_acc: 0.3262\n",
      "\n",
      "Epoch 00011: val_loss improved from 1.85242 to 1.84511, saving model to ./base.model\n",
      "Epoch 12/100\n",
      "200/200 [==============================] - 125s 624ms/step - loss: 2.1132 - acc: 0.3161 - val_loss: 1.7198 - val_acc: 0.3663\n",
      "\n",
      "Epoch 00012: val_loss improved from 1.84511 to 1.71985, saving model to ./base.model\n",
      "Epoch 13/100\n",
      "200/200 [==============================] - 118s 590ms/step - loss: 1.8445 - acc: 0.3581 - val_loss: 1.7807 - val_acc: 0.3442\n",
      "\n",
      "Epoch 00013: val_loss did not improve from 1.71985\n",
      "Epoch 14/100\n",
      "200/200 [==============================] - 119s 595ms/step - loss: 1.7539 - acc: 0.3833 - val_loss: 1.6862 - val_acc: 0.3605\n",
      "\n",
      "Epoch 00014: val_loss improved from 1.71985 to 1.68615, saving model to ./base.model\n",
      "Epoch 15/100\n",
      "200/200 [==============================] - 126s 630ms/step - loss: 1.6871 - acc: 0.4102 - val_loss: 2.0809 - val_acc: 0.2953\n",
      "\n",
      "Epoch 00015: val_loss did not improve from 1.68615\n",
      "Epoch 16/100\n",
      "200/200 [==============================] - 126s 629ms/step - loss: 1.5925 - acc: 0.4422 - val_loss: 1.5744 - val_acc: 0.4296\n",
      "\n",
      "Epoch 00016: val_loss improved from 1.68615 to 1.57435, saving model to ./base.model\n",
      "Epoch 17/100\n",
      "200/200 [==============================] - 123s 615ms/step - loss: 1.5666 - acc: 0.4622 - val_loss: 1.3830 - val_acc: 0.4997\n",
      "\n",
      "Epoch 00017: val_loss improved from 1.57435 to 1.38303, saving model to ./base.model\n",
      "Epoch 18/100\n",
      "200/200 [==============================] - 124s 621ms/step - loss: 1.4600 - acc: 0.4912 - val_loss: 1.6017 - val_acc: 0.4185\n",
      "\n",
      "Epoch 00018: val_loss did not improve from 1.38303\n",
      "Epoch 19/100\n",
      "200/200 [==============================] - 122s 608ms/step - loss: 1.3977 - acc: 0.5167 - val_loss: 1.3024 - val_acc: 0.5161\n",
      "\n",
      "Epoch 00019: val_loss improved from 1.38303 to 1.30238, saving model to ./base.model\n",
      "Epoch 20/100\n",
      "200/200 [==============================] - 118s 590ms/step - loss: 1.3373 - acc: 0.5363 - val_loss: 1.2273 - val_acc: 0.5252\n",
      "\n",
      "Epoch 00020: val_loss improved from 1.30238 to 1.22734, saving model to ./base.model\n",
      "Epoch 21/100\n",
      "200/200 [==============================] - 116s 580ms/step - loss: 1.2643 - acc: 0.5573 - val_loss: 1.4846 - val_acc: 0.4367\n",
      "\n",
      "Epoch 00021: val_loss did not improve from 1.22734\n",
      "Epoch 22/100\n",
      "200/200 [==============================] - 116s 582ms/step - loss: 1.2302 - acc: 0.5686 - val_loss: 1.0705 - val_acc: 0.6017\n",
      "\n",
      "Epoch 00022: val_loss improved from 1.22734 to 1.07051, saving model to ./base.model\n",
      "Epoch 23/100\n",
      "200/200 [==============================] - 124s 622ms/step - loss: 1.1341 - acc: 0.6019 - val_loss: 1.1229 - val_acc: 0.5545\n",
      "\n",
      "Epoch 00023: val_loss did not improve from 1.07051\n",
      "Epoch 24/100\n",
      "200/200 [==============================] - 121s 604ms/step - loss: 1.0987 - acc: 0.6166 - val_loss: 1.1804 - val_acc: 0.5482\n",
      "\n",
      "Epoch 00024: val_loss did not improve from 1.07051\n",
      "Epoch 25/100\n",
      "200/200 [==============================] - 125s 627ms/step - loss: 1.0898 - acc: 0.6214 - val_loss: 1.1482 - val_acc: 0.5728\n",
      "\n",
      "Epoch 00025: val_loss did not improve from 1.07051\n",
      "Epoch 26/100\n",
      "200/200 [==============================] - 134s 668ms/step - loss: 1.0378 - acc: 0.6295 - val_loss: 0.9361 - val_acc: 0.6526\n",
      "\n",
      "Epoch 00026: val_loss improved from 1.07051 to 0.93609, saving model to ./base.model\n",
      "Epoch 27/100\n",
      "200/200 [==============================] - 132s 660ms/step - loss: 1.0035 - acc: 0.6355 - val_loss: 0.8995 - val_acc: 0.6586\n",
      "\n",
      "Epoch 00027: val_loss improved from 0.93609 to 0.89953, saving model to ./base.model\n",
      "Epoch 28/100\n",
      "200/200 [==============================] - 128s 640ms/step - loss: 0.9923 - acc: 0.6512 - val_loss: 1.4146 - val_acc: 0.4951\n",
      "\n",
      "Epoch 00028: val_loss did not improve from 0.89953\n",
      "Epoch 29/100\n",
      "200/200 [==============================] - 123s 615ms/step - loss: 0.9644 - acc: 0.6570 - val_loss: 1.4847 - val_acc: 0.5062\n",
      "\n",
      "Epoch 00029: val_loss did not improve from 0.89953\n",
      "Epoch 30/100\n",
      "200/200 [==============================] - 125s 626ms/step - loss: 0.9600 - acc: 0.6687 - val_loss: 1.1183 - val_acc: 0.5818\n",
      "\n",
      "Epoch 00030: val_loss did not improve from 0.89953\n",
      "Epoch 31/100\n",
      "200/200 [==============================] - 126s 632ms/step - loss: 0.8881 - acc: 0.6872 - val_loss: 1.1657 - val_acc: 0.5670\n",
      "\n",
      "Epoch 00031: val_loss did not improve from 0.89953\n",
      "Epoch 32/100\n",
      "200/200 [==============================] - 124s 622ms/step - loss: 0.8619 - acc: 0.6895 - val_loss: 0.9114 - val_acc: 0.6560\n",
      "\n",
      "Epoch 00032: val_loss did not improve from 0.89953\n",
      "\n",
      "Epoch 00032: ReduceLROnPlateau reducing learning rate to 0.00010000000474974513.\n",
      "Epoch 33/100\n",
      "200/200 [==============================] - 120s 600ms/step - loss: 0.7538 - acc: 0.7366 - val_loss: 0.8428 - val_acc: 0.6806\n",
      "\n",
      "Epoch 00033: val_loss improved from 0.89953 to 0.84284, saving model to ./base.model\n",
      "Epoch 34/100\n",
      "200/200 [==============================] - 116s 582ms/step - loss: 0.7237 - acc: 0.7400 - val_loss: 0.8322 - val_acc: 0.6859\n",
      "\n",
      "Epoch 00034: val_loss improved from 0.84284 to 0.83222, saving model to ./base.model\n",
      "Epoch 35/100\n",
      "200/200 [==============================] - 118s 588ms/step - loss: 0.7292 - acc: 0.7398 - val_loss: 0.8391 - val_acc: 0.6823\n",
      "\n",
      "Epoch 00035: val_loss did not improve from 0.83222\n",
      "Epoch 36/100\n",
      "200/200 [==============================] - 117s 586ms/step - loss: 0.6851 - acc: 0.7639 - val_loss: 0.7784 - val_acc: 0.7015\n",
      "\n",
      "Epoch 00036: val_loss improved from 0.83222 to 0.77842, saving model to ./base.model\n",
      "Epoch 37/100\n",
      "200/200 [==============================] - 116s 581ms/step - loss: 0.6533 - acc: 0.7703 - val_loss: 0.7503 - val_acc: 0.7139\n",
      "\n",
      "Epoch 00037: val_loss improved from 0.77842 to 0.75033, saving model to ./base.model\n",
      "Epoch 38/100\n",
      "200/200 [==============================] - 115s 577ms/step - loss: 0.6726 - acc: 0.7622 - val_loss: 0.8030 - val_acc: 0.6900\n",
      "\n",
      "Epoch 00038: val_loss did not improve from 0.75033\n",
      "Epoch 39/100\n",
      "200/200 [==============================] - 116s 580ms/step - loss: 0.6631 - acc: 0.7691 - val_loss: 0.9819 - val_acc: 0.6401\n",
      "\n",
      "Epoch 00039: val_loss did not improve from 0.75033\n",
      "Epoch 40/100\n",
      "200/200 [==============================] - 116s 582ms/step - loss: 0.6318 - acc: 0.7722 - val_loss: 0.7825 - val_acc: 0.7092\n",
      "\n",
      "Epoch 00040: val_loss did not improve from 0.75033\n",
      "Epoch 41/100\n",
      "200/200 [==============================] - 116s 581ms/step - loss: 0.6251 - acc: 0.7753 - val_loss: 0.8416 - val_acc: 0.6879\n",
      "\n",
      "Epoch 00041: val_loss did not improve from 0.75033\n",
      "Epoch 42/100\n",
      "200/200 [==============================] - 116s 579ms/step - loss: 0.6355 - acc: 0.7748 - val_loss: 0.8068 - val_acc: 0.6964\n",
      "\n",
      "Epoch 00042: val_loss did not improve from 0.75033\n",
      "\n",
      "Epoch 00042: ReduceLROnPlateau reducing learning rate to 2.0000000949949027e-05.\n",
      "Epoch 43/100\n",
      "200/200 [==============================] - 116s 581ms/step - loss: 0.6143 - acc: 0.7783 - val_loss: 0.7736 - val_acc: 0.7093\n",
      "\n",
      "Epoch 00043: val_loss did not improve from 0.75033\n",
      "Epoch 44/100\n",
      "200/200 [==============================] - 116s 578ms/step - loss: 0.6048 - acc: 0.7903 - val_loss: 0.7458 - val_acc: 0.7195\n",
      "\n",
      "Epoch 00044: val_loss improved from 0.75033 to 0.74583, saving model to ./base.model\n",
      "Epoch 45/100\n",
      "200/200 [==============================] - 116s 580ms/step - loss: 0.6068 - acc: 0.7861 - val_loss: 0.7693 - val_acc: 0.7128\n",
      "\n",
      "Epoch 00045: val_loss did not improve from 0.74583\n",
      "Epoch 46/100\n",
      "200/200 [==============================] - 116s 579ms/step - loss: 0.5996 - acc: 0.7833 - val_loss: 0.7879 - val_acc: 0.6992\n",
      "\n",
      "Epoch 00046: val_loss did not improve from 0.74583\n",
      "Epoch 47/100\n",
      "200/200 [==============================] - 116s 580ms/step - loss: 0.5940 - acc: 0.7933 - val_loss: 0.8013 - val_acc: 0.6978\n",
      "\n",
      "Epoch 00047: val_loss did not improve from 0.74583\n",
      "Epoch 48/100\n",
      "200/200 [==============================] - 116s 580ms/step - loss: 0.6052 - acc: 0.7847 - val_loss: 0.7924 - val_acc: 0.6997\n",
      "\n",
      "Epoch 00048: val_loss did not improve from 0.74583\n",
      "Epoch 49/100\n",
      "200/200 [==============================] - 115s 577ms/step - loss: 0.5833 - acc: 0.7988 - val_loss: 0.8493 - val_acc: 0.6834\n",
      "\n",
      "Epoch 00049: val_loss did not improve from 0.74583\n",
      "\n",
      "Epoch 00049: ReduceLROnPlateau reducing learning rate to 4.000000262749381e-06.\n",
      "Epoch 50/100\n",
      "200/200 [==============================] - 116s 580ms/step - loss: 0.5696 - acc: 0.7898 - val_loss: 0.8095 - val_acc: 0.6980\n",
      "\n",
      "Epoch 00050: val_loss did not improve from 0.74583\n",
      "Epoch 51/100\n",
      "200/200 [==============================] - 116s 579ms/step - loss: 0.5533 - acc: 0.8031 - val_loss: 0.7915 - val_acc: 0.7023\n",
      "\n",
      "Epoch 00051: val_loss did not improve from 0.74583\n",
      "Epoch 52/100\n",
      "200/200 [==============================] - 116s 579ms/step - loss: 0.5734 - acc: 0.7928 - val_loss: 0.8038 - val_acc: 0.6973\n",
      "\n",
      "Epoch 00052: val_loss did not improve from 0.74583\n",
      "Epoch 53/100\n",
      "200/200 [==============================] - 116s 579ms/step - loss: 0.5850 - acc: 0.7936 - val_loss: 0.7676 - val_acc: 0.7135\n",
      "\n",
      "Epoch 00053: val_loss did not improve from 0.74583\n",
      "Epoch 54/100\n",
      "200/200 [==============================] - 117s 584ms/step - loss: 0.5871 - acc: 0.7953 - val_loss: 0.8078 - val_acc: 0.6977\n",
      "\n",
      "Epoch 00054: val_loss did not improve from 0.74583\n",
      "\n",
      "Epoch 00054: ReduceLROnPlateau reducing learning rate to 8.000000889296644e-07.\n",
      "Epoch 55/100\n",
      "200/200 [==============================] - 116s 580ms/step - loss: 0.5818 - acc: 0.7930 - val_loss: 0.8035 - val_acc: 0.7028\n",
      "\n",
      "Epoch 00055: val_loss did not improve from 0.74583\n",
      "Epoch 56/100\n",
      "200/200 [==============================] - 116s 580ms/step - loss: 0.5926 - acc: 0.7892 - val_loss: 0.7996 - val_acc: 0.6980\n",
      "\n",
      "Epoch 00056: val_loss did not improve from 0.74583\n",
      "Epoch 00056: early stopping\n"
     ]
    }
   ],
   "source": [
    "from keras.optimizers import Adam\n",
    "\n",
    "#opt = SGD(lr=1e-3, nesterov=\"true\") #not suited for deeper networks\n",
    "opt = Adam(lr=5e-4)\n",
    "model.compile(\n",
    "    loss='categorical_crossentropy',\n",
    "    optimizer=opt,\n",
    "    metrics=['accuracy']\n",
    ")\n",
    "\n",
    "history = model.fit_generator(\n",
    "    train_generator, \n",
    "    steps_per_epoch  = 200, \n",
    "    validation_data  = validation_generator,\n",
    "    validation_steps = 200,\n",
    "    epochs = 100, \n",
    "    verbose = 1,\n",
    "    callbacks=callbacks\n",
    ")\n",
    "\n",
    "json_model = model.to_json()\n",
    "\n",
    "with open(\"./model/lego.json\", \"w\") as json_file:\n",
    "    json_file.write(json_model)\n",
    "\n",
    "model.save_weights(\"./model/lego_weights.h5\")"
   ]
  },
  {
   "cell_type": "code",
   "execution_count": 10,
   "metadata": {},
   "outputs": [],
   "source": [
    "def show_final_history(history):\n",
    "    fig, ax = plt.subplots(1, 2, figsize=(15,5))\n",
    "    ax[0].set_title('loss')\n",
    "    ax[0].plot(history.epoch, history.history[\"loss\"], label=\"Train loss\")\n",
    "    ax[0].plot(history.epoch, history.history[\"val_loss\"], label=\"Validation loss\")\n",
    "    ax[1].set_title('acc')\n",
    "    ax[1].plot(history.epoch, history.history[\"acc\"], label=\"Train acc\")\n",
    "    ax[1].plot(history.epoch, history.history[\"val_acc\"], label=\"Validation acc\")\n",
    "    ax[0].legend()\n",
    "    ax[1].legend()"
   ]
  },
  {
   "cell_type": "code",
   "execution_count": 11,
   "metadata": {},
   "outputs": [
    {
     "output_type": "display_data",
     "data": {
      "text/plain": "<Figure size 1080x360 with 2 Axes>",
      "image/svg+xml": "<?xml version=\"1.0\" encoding=\"utf-8\" standalone=\"no\"?>\r\n<!DOCTYPE svg PUBLIC \"-//W3C//DTD SVG 1.1//EN\"\r\n  \"http://www.w3.org/Graphics/SVG/1.1/DTD/svg11.dtd\">\r\n<!-- Created with matplotlib (https://matplotlib.org/) -->\r\n<svg height=\"317.99625pt\" version=\"1.1\" viewBox=\"0 0 874.303125 317.99625\" width=\"874.303125pt\" xmlns=\"http://www.w3.org/2000/svg\" xmlns:xlink=\"http://www.w3.org/1999/xlink\">\r\n <defs>\r\n  <style type=\"text/css\">\r\n*{stroke-linecap:butt;stroke-linejoin:round;}\r\n  </style>\r\n </defs>\r\n <g id=\"figure_1\">\r\n  <g id=\"patch_1\">\r\n   <path d=\"M 0 317.99625 \r\nL 874.303125 317.99625 \r\nL 874.303125 0 \r\nL 0 0 \r\nz\r\n\" style=\"fill:none;\"/>\r\n  </g>\r\n  <g id=\"axes_1\">\r\n   <g id=\"patch_2\">\r\n    <path d=\"M 30.103125 294.118125 \r\nL 410.55767 294.118125 \r\nL 410.55767 22.318125 \r\nL 30.103125 22.318125 \r\nz\r\n\" style=\"fill:#ffffff;\"/>\r\n   </g>\r\n   <g id=\"matplotlib.axis_1\">\r\n    <g id=\"xtick_1\">\r\n     <g id=\"line2d_1\">\r\n      <defs>\r\n       <path d=\"M 0 0 \r\nL 0 3.5 \r\n\" id=\"m65ab8a40cf\" style=\"stroke:#000000;stroke-width:0.8;\"/>\r\n      </defs>\r\n      <g>\r\n       <use style=\"stroke:#000000;stroke-width:0.8;\" x=\"47.396513\" xlink:href=\"#m65ab8a40cf\" y=\"294.118125\"/>\r\n      </g>\r\n     </g>\r\n     <g id=\"text_1\">\r\n      <!-- 0 -->\r\n      <defs>\r\n       <path d=\"M 31.78125 66.40625 \r\nQ 24.171875 66.40625 20.328125 58.90625 \r\nQ 16.5 51.421875 16.5 36.375 \r\nQ 16.5 21.390625 20.328125 13.890625 \r\nQ 24.171875 6.390625 31.78125 6.390625 \r\nQ 39.453125 6.390625 43.28125 13.890625 \r\nQ 47.125 21.390625 47.125 36.375 \r\nQ 47.125 51.421875 43.28125 58.90625 \r\nQ 39.453125 66.40625 31.78125 66.40625 \r\nz\r\nM 31.78125 74.21875 \r\nQ 44.046875 74.21875 50.515625 64.515625 \r\nQ 56.984375 54.828125 56.984375 36.375 \r\nQ 56.984375 17.96875 50.515625 8.265625 \r\nQ 44.046875 -1.421875 31.78125 -1.421875 \r\nQ 19.53125 -1.421875 13.0625 8.265625 \r\nQ 6.59375 17.96875 6.59375 36.375 \r\nQ 6.59375 54.828125 13.0625 64.515625 \r\nQ 19.53125 74.21875 31.78125 74.21875 \r\nz\r\n\" id=\"DejaVuSans-48\"/>\r\n      </defs>\r\n      <g transform=\"translate(44.215263 308.716563)scale(0.1 -0.1)\">\r\n       <use xlink:href=\"#DejaVuSans-48\"/>\r\n      </g>\r\n     </g>\r\n    </g>\r\n    <g id=\"xtick_2\">\r\n     <g id=\"line2d_2\">\r\n      <g>\r\n       <use style=\"stroke:#000000;stroke-width:0.8;\" x=\"110.281562\" xlink:href=\"#m65ab8a40cf\" y=\"294.118125\"/>\r\n      </g>\r\n     </g>\r\n     <g id=\"text_2\">\r\n      <!-- 10 -->\r\n      <defs>\r\n       <path d=\"M 12.40625 8.296875 \r\nL 28.515625 8.296875 \r\nL 28.515625 63.921875 \r\nL 10.984375 60.40625 \r\nL 10.984375 69.390625 \r\nL 28.421875 72.90625 \r\nL 38.28125 72.90625 \r\nL 38.28125 8.296875 \r\nL 54.390625 8.296875 \r\nL 54.390625 0 \r\nL 12.40625 0 \r\nz\r\n\" id=\"DejaVuSans-49\"/>\r\n      </defs>\r\n      <g transform=\"translate(103.919062 308.716563)scale(0.1 -0.1)\">\r\n       <use xlink:href=\"#DejaVuSans-49\"/>\r\n       <use x=\"63.623047\" xlink:href=\"#DejaVuSans-48\"/>\r\n      </g>\r\n     </g>\r\n    </g>\r\n    <g id=\"xtick_3\">\r\n     <g id=\"line2d_3\">\r\n      <g>\r\n       <use style=\"stroke:#000000;stroke-width:0.8;\" x=\"173.166611\" xlink:href=\"#m65ab8a40cf\" y=\"294.118125\"/>\r\n      </g>\r\n     </g>\r\n     <g id=\"text_3\">\r\n      <!-- 20 -->\r\n      <defs>\r\n       <path d=\"M 19.1875 8.296875 \r\nL 53.609375 8.296875 \r\nL 53.609375 0 \r\nL 7.328125 0 \r\nL 7.328125 8.296875 \r\nQ 12.9375 14.109375 22.625 23.890625 \r\nQ 32.328125 33.6875 34.8125 36.53125 \r\nQ 39.546875 41.84375 41.421875 45.53125 \r\nQ 43.3125 49.21875 43.3125 52.78125 \r\nQ 43.3125 58.59375 39.234375 62.25 \r\nQ 35.15625 65.921875 28.609375 65.921875 \r\nQ 23.96875 65.921875 18.8125 64.3125 \r\nQ 13.671875 62.703125 7.8125 59.421875 \r\nL 7.8125 69.390625 \r\nQ 13.765625 71.78125 18.9375 73 \r\nQ 24.125 74.21875 28.421875 74.21875 \r\nQ 39.75 74.21875 46.484375 68.546875 \r\nQ 53.21875 62.890625 53.21875 53.421875 \r\nQ 53.21875 48.921875 51.53125 44.890625 \r\nQ 49.859375 40.875 45.40625 35.40625 \r\nQ 44.1875 33.984375 37.640625 27.21875 \r\nQ 31.109375 20.453125 19.1875 8.296875 \r\nz\r\n\" id=\"DejaVuSans-50\"/>\r\n      </defs>\r\n      <g transform=\"translate(166.804111 308.716563)scale(0.1 -0.1)\">\r\n       <use xlink:href=\"#DejaVuSans-50\"/>\r\n       <use x=\"63.623047\" xlink:href=\"#DejaVuSans-48\"/>\r\n      </g>\r\n     </g>\r\n    </g>\r\n    <g id=\"xtick_4\">\r\n     <g id=\"line2d_4\">\r\n      <g>\r\n       <use style=\"stroke:#000000;stroke-width:0.8;\" x=\"236.05166\" xlink:href=\"#m65ab8a40cf\" y=\"294.118125\"/>\r\n      </g>\r\n     </g>\r\n     <g id=\"text_4\">\r\n      <!-- 30 -->\r\n      <defs>\r\n       <path d=\"M 40.578125 39.3125 \r\nQ 47.65625 37.796875 51.625 33 \r\nQ 55.609375 28.21875 55.609375 21.1875 \r\nQ 55.609375 10.40625 48.1875 4.484375 \r\nQ 40.765625 -1.421875 27.09375 -1.421875 \r\nQ 22.515625 -1.421875 17.65625 -0.515625 \r\nQ 12.796875 0.390625 7.625 2.203125 \r\nL 7.625 11.71875 \r\nQ 11.71875 9.328125 16.59375 8.109375 \r\nQ 21.484375 6.890625 26.8125 6.890625 \r\nQ 36.078125 6.890625 40.9375 10.546875 \r\nQ 45.796875 14.203125 45.796875 21.1875 \r\nQ 45.796875 27.640625 41.28125 31.265625 \r\nQ 36.765625 34.90625 28.71875 34.90625 \r\nL 20.21875 34.90625 \r\nL 20.21875 43.015625 \r\nL 29.109375 43.015625 \r\nQ 36.375 43.015625 40.234375 45.921875 \r\nQ 44.09375 48.828125 44.09375 54.296875 \r\nQ 44.09375 59.90625 40.109375 62.90625 \r\nQ 36.140625 65.921875 28.71875 65.921875 \r\nQ 24.65625 65.921875 20.015625 65.03125 \r\nQ 15.375 64.15625 9.8125 62.3125 \r\nL 9.8125 71.09375 \r\nQ 15.4375 72.65625 20.34375 73.4375 \r\nQ 25.25 74.21875 29.59375 74.21875 \r\nQ 40.828125 74.21875 47.359375 69.109375 \r\nQ 53.90625 64.015625 53.90625 55.328125 \r\nQ 53.90625 49.265625 50.4375 45.09375 \r\nQ 46.96875 40.921875 40.578125 39.3125 \r\nz\r\n\" id=\"DejaVuSans-51\"/>\r\n      </defs>\r\n      <g transform=\"translate(229.68916 308.716563)scale(0.1 -0.1)\">\r\n       <use xlink:href=\"#DejaVuSans-51\"/>\r\n       <use x=\"63.623047\" xlink:href=\"#DejaVuSans-48\"/>\r\n      </g>\r\n     </g>\r\n    </g>\r\n    <g id=\"xtick_5\">\r\n     <g id=\"line2d_5\">\r\n      <g>\r\n       <use style=\"stroke:#000000;stroke-width:0.8;\" x=\"298.936709\" xlink:href=\"#m65ab8a40cf\" y=\"294.118125\"/>\r\n      </g>\r\n     </g>\r\n     <g id=\"text_5\">\r\n      <!-- 40 -->\r\n      <defs>\r\n       <path d=\"M 37.796875 64.3125 \r\nL 12.890625 25.390625 \r\nL 37.796875 25.390625 \r\nz\r\nM 35.203125 72.90625 \r\nL 47.609375 72.90625 \r\nL 47.609375 25.390625 \r\nL 58.015625 25.390625 \r\nL 58.015625 17.1875 \r\nL 47.609375 17.1875 \r\nL 47.609375 0 \r\nL 37.796875 0 \r\nL 37.796875 17.1875 \r\nL 4.890625 17.1875 \r\nL 4.890625 26.703125 \r\nz\r\n\" id=\"DejaVuSans-52\"/>\r\n      </defs>\r\n      <g transform=\"translate(292.574209 308.716563)scale(0.1 -0.1)\">\r\n       <use xlink:href=\"#DejaVuSans-52\"/>\r\n       <use x=\"63.623047\" xlink:href=\"#DejaVuSans-48\"/>\r\n      </g>\r\n     </g>\r\n    </g>\r\n    <g id=\"xtick_6\">\r\n     <g id=\"line2d_6\">\r\n      <g>\r\n       <use style=\"stroke:#000000;stroke-width:0.8;\" x=\"361.821758\" xlink:href=\"#m65ab8a40cf\" y=\"294.118125\"/>\r\n      </g>\r\n     </g>\r\n     <g id=\"text_6\">\r\n      <!-- 50 -->\r\n      <defs>\r\n       <path d=\"M 10.796875 72.90625 \r\nL 49.515625 72.90625 \r\nL 49.515625 64.59375 \r\nL 19.828125 64.59375 \r\nL 19.828125 46.734375 \r\nQ 21.96875 47.46875 24.109375 47.828125 \r\nQ 26.265625 48.1875 28.421875 48.1875 \r\nQ 40.625 48.1875 47.75 41.5 \r\nQ 54.890625 34.8125 54.890625 23.390625 \r\nQ 54.890625 11.625 47.5625 5.09375 \r\nQ 40.234375 -1.421875 26.90625 -1.421875 \r\nQ 22.3125 -1.421875 17.546875 -0.640625 \r\nQ 12.796875 0.140625 7.71875 1.703125 \r\nL 7.71875 11.625 \r\nQ 12.109375 9.234375 16.796875 8.0625 \r\nQ 21.484375 6.890625 26.703125 6.890625 \r\nQ 35.15625 6.890625 40.078125 11.328125 \r\nQ 45.015625 15.765625 45.015625 23.390625 \r\nQ 45.015625 31 40.078125 35.4375 \r\nQ 35.15625 39.890625 26.703125 39.890625 \r\nQ 22.75 39.890625 18.8125 39.015625 \r\nQ 14.890625 38.140625 10.796875 36.28125 \r\nz\r\n\" id=\"DejaVuSans-53\"/>\r\n      </defs>\r\n      <g transform=\"translate(355.459258 308.716563)scale(0.1 -0.1)\">\r\n       <use xlink:href=\"#DejaVuSans-53\"/>\r\n       <use x=\"63.623047\" xlink:href=\"#DejaVuSans-48\"/>\r\n      </g>\r\n     </g>\r\n    </g>\r\n   </g>\r\n   <g id=\"matplotlib.axis_2\">\r\n    <g id=\"ytick_1\">\r\n     <g id=\"line2d_7\">\r\n      <defs>\r\n       <path d=\"M 0 0 \r\nL -3.5 0 \r\n\" id=\"m8b75c12f31\" style=\"stroke:#000000;stroke-width:0.8;\"/>\r\n      </defs>\r\n      <g>\r\n       <use style=\"stroke:#000000;stroke-width:0.8;\" x=\"30.103125\" xlink:href=\"#m8b75c12f31\" y=\"286.913175\"/>\r\n      </g>\r\n     </g>\r\n     <g id=\"text_7\">\r\n      <!-- 0.5 -->\r\n      <defs>\r\n       <path d=\"M 10.6875 12.40625 \r\nL 21 12.40625 \r\nL 21 0 \r\nL 10.6875 0 \r\nz\r\n\" id=\"DejaVuSans-46\"/>\r\n      </defs>\r\n      <g transform=\"translate(7.2 290.712393)scale(0.1 -0.1)\">\r\n       <use xlink:href=\"#DejaVuSans-48\"/>\r\n       <use x=\"63.623047\" xlink:href=\"#DejaVuSans-46\"/>\r\n       <use x=\"95.410156\" xlink:href=\"#DejaVuSans-53\"/>\r\n      </g>\r\n     </g>\r\n    </g>\r\n    <g id=\"ytick_2\">\r\n     <g id=\"line2d_8\">\r\n      <g>\r\n       <use style=\"stroke:#000000;stroke-width:0.8;\" x=\"30.103125\" xlink:href=\"#m8b75c12f31\" y=\"240.955529\"/>\r\n      </g>\r\n     </g>\r\n     <g id=\"text_8\">\r\n      <!-- 1.0 -->\r\n      <g transform=\"translate(7.2 244.754748)scale(0.1 -0.1)\">\r\n       <use xlink:href=\"#DejaVuSans-49\"/>\r\n       <use x=\"63.623047\" xlink:href=\"#DejaVuSans-46\"/>\r\n       <use x=\"95.410156\" xlink:href=\"#DejaVuSans-48\"/>\r\n      </g>\r\n     </g>\r\n    </g>\r\n    <g id=\"ytick_3\">\r\n     <g id=\"line2d_9\">\r\n      <g>\r\n       <use style=\"stroke:#000000;stroke-width:0.8;\" x=\"30.103125\" xlink:href=\"#m8b75c12f31\" y=\"194.997884\"/>\r\n      </g>\r\n     </g>\r\n     <g id=\"text_9\">\r\n      <!-- 1.5 -->\r\n      <g transform=\"translate(7.2 198.797103)scale(0.1 -0.1)\">\r\n       <use xlink:href=\"#DejaVuSans-49\"/>\r\n       <use x=\"63.623047\" xlink:href=\"#DejaVuSans-46\"/>\r\n       <use x=\"95.410156\" xlink:href=\"#DejaVuSans-53\"/>\r\n      </g>\r\n     </g>\r\n    </g>\r\n    <g id=\"ytick_4\">\r\n     <g id=\"line2d_10\">\r\n      <g>\r\n       <use style=\"stroke:#000000;stroke-width:0.8;\" x=\"30.103125\" xlink:href=\"#m8b75c12f31\" y=\"149.040239\"/>\r\n      </g>\r\n     </g>\r\n     <g id=\"text_10\">\r\n      <!-- 2.0 -->\r\n      <g transform=\"translate(7.2 152.839458)scale(0.1 -0.1)\">\r\n       <use xlink:href=\"#DejaVuSans-50\"/>\r\n       <use x=\"63.623047\" xlink:href=\"#DejaVuSans-46\"/>\r\n       <use x=\"95.410156\" xlink:href=\"#DejaVuSans-48\"/>\r\n      </g>\r\n     </g>\r\n    </g>\r\n    <g id=\"ytick_5\">\r\n     <g id=\"line2d_11\">\r\n      <g>\r\n       <use style=\"stroke:#000000;stroke-width:0.8;\" x=\"30.103125\" xlink:href=\"#m8b75c12f31\" y=\"103.082594\"/>\r\n      </g>\r\n     </g>\r\n     <g id=\"text_11\">\r\n      <!-- 2.5 -->\r\n      <g transform=\"translate(7.2 106.881813)scale(0.1 -0.1)\">\r\n       <use xlink:href=\"#DejaVuSans-50\"/>\r\n       <use x=\"63.623047\" xlink:href=\"#DejaVuSans-46\"/>\r\n       <use x=\"95.410156\" xlink:href=\"#DejaVuSans-53\"/>\r\n      </g>\r\n     </g>\r\n    </g>\r\n    <g id=\"ytick_6\">\r\n     <g id=\"line2d_12\">\r\n      <g>\r\n       <use style=\"stroke:#000000;stroke-width:0.8;\" x=\"30.103125\" xlink:href=\"#m8b75c12f31\" y=\"57.124949\"/>\r\n      </g>\r\n     </g>\r\n     <g id=\"text_12\">\r\n      <!-- 3.0 -->\r\n      <g transform=\"translate(7.2 60.924168)scale(0.1 -0.1)\">\r\n       <use xlink:href=\"#DejaVuSans-51\"/>\r\n       <use x=\"63.623047\" xlink:href=\"#DejaVuSans-46\"/>\r\n       <use x=\"95.410156\" xlink:href=\"#DejaVuSans-48\"/>\r\n      </g>\r\n     </g>\r\n    </g>\r\n   </g>\r\n   <g id=\"line2d_13\">\r\n    <path clip-path=\"url(#p5c8dc6e43d)\" d=\"M 47.396513 34.67267 \r\nL 53.685018 73.877352 \r\nL 59.973523 90.514662 \r\nL 66.262028 98.035387 \r\nL 72.550533 105.741216 \r\nL 78.839038 116.609044 \r\nL 85.127543 124.364865 \r\nL 91.416048 132.027385 \r\nL 97.704552 140.082392 \r\nL 103.993057 148.198189 \r\nL 110.281562 153.127899 \r\nL 116.570067 138.63835 \r\nL 122.858572 163.119206 \r\nL 129.147077 171.658939 \r\nL 135.435582 177.799007 \r\nL 141.724087 186.492995 \r\nL 148.012592 189.126612 \r\nL 154.301096 198.671322 \r\nL 160.589601 204.402578 \r\nL 166.878106 209.951374 \r\nL 173.166611 216.661647 \r\nL 179.455116 219.796661 \r\nL 185.743621 228.264233 \r\nL 192.032126 231.884511 \r\nL 198.320631 232.365703 \r\nL 204.609136 237.477162 \r\nL 210.89764 240.629585 \r\nL 217.186145 241.661796 \r\nL 223.47465 244.161478 \r\nL 229.763155 244.629063 \r\nL 236.05166 251.240997 \r\nL 242.340165 253.65261 \r\nL 248.62867 263.58279 \r\nL 254.917175 266.548859 \r\nL 261.205679 265.842852 \r\nL 267.494184 269.904216 \r\nL 273.782689 272.820252 \r\nL 280.071194 270.891771 \r\nL 286.359699 271.91761 \r\nL 292.648204 274.796535 \r\nL 298.936709 275.415619 \r\nL 305.225214 274.456913 \r\nL 311.513719 276.405182 \r\nL 317.802223 277.147993 \r\nL 324.090728 277.09764 \r\nL 330.379233 277.754219 \r\nL 336.667738 278.277153 \r\nL 342.956243 277.241736 \r\nL 349.244748 279.257312 \r\nL 355.533253 280.259724 \r\nL 361.821758 281.76358 \r\nL 368.110262 280.168306 \r\nL 374.398767 279.103146 \r\nL 380.687272 278.902767 \r\nL 386.975777 279.394449 \r\nL 393.264282 278.403182 \r\n\" style=\"fill:none;stroke:#1f77b4;stroke-linecap:square;stroke-width:1.5;\"/>\r\n   </g>\r\n   <g id=\"line2d_14\">\r\n    <path clip-path=\"url(#p5c8dc6e43d)\" d=\"M 47.396513 70.296901 \r\nL 53.685018 105.761098 \r\nL 59.973523 95.93422 \r\nL 66.262028 87.563952 \r\nL 72.550533 81.287998 \r\nL 78.839038 84.375738 \r\nL 85.127543 138.155369 \r\nL 91.416048 149.222282 \r\nL 97.704552 135.676074 \r\nL 103.993057 162.604728 \r\nL 110.281562 163.276915 \r\nL 116.570067 174.790449 \r\nL 122.858572 169.197882 \r\nL 129.147077 177.887848 \r\nL 135.435582 141.603379 \r\nL 141.724087 188.163963 \r\nL 148.012592 205.749643 \r\nL 154.301096 185.650925 \r\nL 160.589601 213.16232 \r\nL 166.878106 220.059738 \r\nL 173.166611 196.413186 \r\nL 179.455116 234.474699 \r\nL 185.743621 229.659456 \r\nL 192.032126 224.372657 \r\nL 198.320631 227.333882 \r\nL 204.609136 246.829561 \r\nL 210.89764 250.189948 \r\nL 217.186145 202.851331 \r\nL 223.47465 196.407967 \r\nL 229.763155 230.083903 \r\nL 236.05166 225.724916 \r\nL 242.340165 249.095672 \r\nL 248.62867 255.400978 \r\nL 254.917175 256.37665 \r\nL 261.205679 255.741106 \r\nL 267.494184 261.321752 \r\nL 273.782689 263.903797 \r\nL 280.071194 259.062692 \r\nL 286.359699 242.62152 \r\nL 292.648204 260.95016 \r\nL 298.936709 255.513663 \r\nL 305.225214 258.709207 \r\nL 311.513719 261.768485 \r\nL 317.802223 264.318098 \r\nL 324.090728 262.160286 \r\nL 330.379233 260.447638 \r\nL 336.667738 259.21904 \r\nL 342.956243 260.039396 \r\nL 349.244748 254.811685 \r\nL 355.533253 258.464926 \r\nL 361.821758 260.122273 \r\nL 368.110262 258.986757 \r\nL 374.398767 262.315489 \r\nL 380.687272 258.625665 \r\nL 386.975777 259.021105 \r\nL 393.264282 259.375034 \r\n\" style=\"fill:none;stroke:#ff7f0e;stroke-linecap:square;stroke-width:1.5;\"/>\r\n   </g>\r\n   <g id=\"patch_3\">\r\n    <path d=\"M 30.103125 294.118125 \r\nL 30.103125 22.318125 \r\n\" style=\"fill:none;stroke:#000000;stroke-linecap:square;stroke-linejoin:miter;stroke-width:0.8;\"/>\r\n   </g>\r\n   <g id=\"patch_4\">\r\n    <path d=\"M 410.55767 294.118125 \r\nL 410.55767 22.318125 \r\n\" style=\"fill:none;stroke:#000000;stroke-linecap:square;stroke-linejoin:miter;stroke-width:0.8;\"/>\r\n   </g>\r\n   <g id=\"patch_5\">\r\n    <path d=\"M 30.103125 294.118125 \r\nL 410.55767 294.118125 \r\n\" style=\"fill:none;stroke:#000000;stroke-linecap:square;stroke-linejoin:miter;stroke-width:0.8;\"/>\r\n   </g>\r\n   <g id=\"patch_6\">\r\n    <path d=\"M 30.103125 22.318125 \r\nL 410.55767 22.318125 \r\n\" style=\"fill:none;stroke:#000000;stroke-linecap:square;stroke-linejoin:miter;stroke-width:0.8;\"/>\r\n   </g>\r\n   <g id=\"text_13\">\r\n    <!-- loss -->\r\n    <defs>\r\n     <path d=\"M 9.421875 75.984375 \r\nL 18.40625 75.984375 \r\nL 18.40625 0 \r\nL 9.421875 0 \r\nz\r\n\" id=\"DejaVuSans-108\"/>\r\n     <path d=\"M 30.609375 48.390625 \r\nQ 23.390625 48.390625 19.1875 42.75 \r\nQ 14.984375 37.109375 14.984375 27.296875 \r\nQ 14.984375 17.484375 19.15625 11.84375 \r\nQ 23.34375 6.203125 30.609375 6.203125 \r\nQ 37.796875 6.203125 41.984375 11.859375 \r\nQ 46.1875 17.53125 46.1875 27.296875 \r\nQ 46.1875 37.015625 41.984375 42.703125 \r\nQ 37.796875 48.390625 30.609375 48.390625 \r\nz\r\nM 30.609375 56 \r\nQ 42.328125 56 49.015625 48.375 \r\nQ 55.71875 40.765625 55.71875 27.296875 \r\nQ 55.71875 13.875 49.015625 6.21875 \r\nQ 42.328125 -1.421875 30.609375 -1.421875 \r\nQ 18.84375 -1.421875 12.171875 6.21875 \r\nQ 5.515625 13.875 5.515625 27.296875 \r\nQ 5.515625 40.765625 12.171875 48.375 \r\nQ 18.84375 56 30.609375 56 \r\nz\r\n\" id=\"DejaVuSans-111\"/>\r\n     <path d=\"M 44.28125 53.078125 \r\nL 44.28125 44.578125 \r\nQ 40.484375 46.53125 36.375 47.5 \r\nQ 32.28125 48.484375 27.875 48.484375 \r\nQ 21.1875 48.484375 17.84375 46.4375 \r\nQ 14.5 44.390625 14.5 40.28125 \r\nQ 14.5 37.15625 16.890625 35.375 \r\nQ 19.28125 33.59375 26.515625 31.984375 \r\nL 29.59375 31.296875 \r\nQ 39.15625 29.25 43.1875 25.515625 \r\nQ 47.21875 21.78125 47.21875 15.09375 \r\nQ 47.21875 7.46875 41.1875 3.015625 \r\nQ 35.15625 -1.421875 24.609375 -1.421875 \r\nQ 20.21875 -1.421875 15.453125 -0.5625 \r\nQ 10.6875 0.296875 5.421875 2 \r\nL 5.421875 11.28125 \r\nQ 10.40625 8.6875 15.234375 7.390625 \r\nQ 20.0625 6.109375 24.8125 6.109375 \r\nQ 31.15625 6.109375 34.5625 8.28125 \r\nQ 37.984375 10.453125 37.984375 14.40625 \r\nQ 37.984375 18.0625 35.515625 20.015625 \r\nQ 33.0625 21.96875 24.703125 23.78125 \r\nL 21.578125 24.515625 \r\nQ 13.234375 26.265625 9.515625 29.90625 \r\nQ 5.8125 33.546875 5.8125 39.890625 \r\nQ 5.8125 47.609375 11.28125 51.796875 \r\nQ 16.75 56 26.8125 56 \r\nQ 31.78125 56 36.171875 55.265625 \r\nQ 40.578125 54.546875 44.28125 53.078125 \r\nz\r\n\" id=\"DejaVuSans-115\"/>\r\n    </defs>\r\n    <g transform=\"translate(208.741023 16.318125)scale(0.12 -0.12)\">\r\n     <use xlink:href=\"#DejaVuSans-108\"/>\r\n     <use x=\"27.783203\" xlink:href=\"#DejaVuSans-111\"/>\r\n     <use x=\"88.964844\" xlink:href=\"#DejaVuSans-115\"/>\r\n     <use x=\"141.064453\" xlink:href=\"#DejaVuSans-115\"/>\r\n    </g>\r\n   </g>\r\n   <g id=\"legend_1\">\r\n    <g id=\"patch_7\">\r\n     <path d=\"M 299.68267 59.674375 \r\nL 403.55767 59.674375 \r\nQ 405.55767 59.674375 405.55767 57.674375 \r\nL 405.55767 29.318125 \r\nQ 405.55767 27.318125 403.55767 27.318125 \r\nL 299.68267 27.318125 \r\nQ 297.68267 27.318125 297.68267 29.318125 \r\nL 297.68267 57.674375 \r\nQ 297.68267 59.674375 299.68267 59.674375 \r\nz\r\n\" style=\"fill:#ffffff;opacity:0.8;stroke:#cccccc;stroke-linejoin:miter;\"/>\r\n    </g>\r\n    <g id=\"line2d_15\">\r\n     <path d=\"M 301.68267 35.416562 \r\nL 321.68267 35.416562 \r\n\" style=\"fill:none;stroke:#1f77b4;stroke-linecap:square;stroke-width:1.5;\"/>\r\n    </g>\r\n    <g id=\"line2d_16\"/>\r\n    <g id=\"text_14\">\r\n     <!-- Train loss -->\r\n     <defs>\r\n      <path d=\"M -0.296875 72.90625 \r\nL 61.375 72.90625 \r\nL 61.375 64.59375 \r\nL 35.5 64.59375 \r\nL 35.5 0 \r\nL 25.59375 0 \r\nL 25.59375 64.59375 \r\nL -0.296875 64.59375 \r\nz\r\n\" id=\"DejaVuSans-84\"/>\r\n      <path d=\"M 41.109375 46.296875 \r\nQ 39.59375 47.171875 37.8125 47.578125 \r\nQ 36.03125 48 33.890625 48 \r\nQ 26.265625 48 22.1875 43.046875 \r\nQ 18.109375 38.09375 18.109375 28.8125 \r\nL 18.109375 0 \r\nL 9.078125 0 \r\nL 9.078125 54.6875 \r\nL 18.109375 54.6875 \r\nL 18.109375 46.1875 \r\nQ 20.953125 51.171875 25.484375 53.578125 \r\nQ 30.03125 56 36.53125 56 \r\nQ 37.453125 56 38.578125 55.875 \r\nQ 39.703125 55.765625 41.0625 55.515625 \r\nz\r\n\" id=\"DejaVuSans-114\"/>\r\n      <path d=\"M 34.28125 27.484375 \r\nQ 23.390625 27.484375 19.1875 25 \r\nQ 14.984375 22.515625 14.984375 16.5 \r\nQ 14.984375 11.71875 18.140625 8.90625 \r\nQ 21.296875 6.109375 26.703125 6.109375 \r\nQ 34.1875 6.109375 38.703125 11.40625 \r\nQ 43.21875 16.703125 43.21875 25.484375 \r\nL 43.21875 27.484375 \r\nz\r\nM 52.203125 31.203125 \r\nL 52.203125 0 \r\nL 43.21875 0 \r\nL 43.21875 8.296875 \r\nQ 40.140625 3.328125 35.546875 0.953125 \r\nQ 30.953125 -1.421875 24.3125 -1.421875 \r\nQ 15.921875 -1.421875 10.953125 3.296875 \r\nQ 6 8.015625 6 15.921875 \r\nQ 6 25.140625 12.171875 29.828125 \r\nQ 18.359375 34.515625 30.609375 34.515625 \r\nL 43.21875 34.515625 \r\nL 43.21875 35.40625 \r\nQ 43.21875 41.609375 39.140625 45 \r\nQ 35.0625 48.390625 27.6875 48.390625 \r\nQ 23 48.390625 18.546875 47.265625 \r\nQ 14.109375 46.140625 10.015625 43.890625 \r\nL 10.015625 52.203125 \r\nQ 14.9375 54.109375 19.578125 55.046875 \r\nQ 24.21875 56 28.609375 56 \r\nQ 40.484375 56 46.34375 49.84375 \r\nQ 52.203125 43.703125 52.203125 31.203125 \r\nz\r\n\" id=\"DejaVuSans-97\"/>\r\n      <path d=\"M 9.421875 54.6875 \r\nL 18.40625 54.6875 \r\nL 18.40625 0 \r\nL 9.421875 0 \r\nz\r\nM 9.421875 75.984375 \r\nL 18.40625 75.984375 \r\nL 18.40625 64.59375 \r\nL 9.421875 64.59375 \r\nz\r\n\" id=\"DejaVuSans-105\"/>\r\n      <path d=\"M 54.890625 33.015625 \r\nL 54.890625 0 \r\nL 45.90625 0 \r\nL 45.90625 32.71875 \r\nQ 45.90625 40.484375 42.875 44.328125 \r\nQ 39.84375 48.1875 33.796875 48.1875 \r\nQ 26.515625 48.1875 22.3125 43.546875 \r\nQ 18.109375 38.921875 18.109375 30.90625 \r\nL 18.109375 0 \r\nL 9.078125 0 \r\nL 9.078125 54.6875 \r\nL 18.109375 54.6875 \r\nL 18.109375 46.1875 \r\nQ 21.34375 51.125 25.703125 53.5625 \r\nQ 30.078125 56 35.796875 56 \r\nQ 45.21875 56 50.046875 50.171875 \r\nQ 54.890625 44.34375 54.890625 33.015625 \r\nz\r\n\" id=\"DejaVuSans-110\"/>\r\n      <path id=\"DejaVuSans-32\"/>\r\n     </defs>\r\n     <g transform=\"translate(329.68267 38.916562)scale(0.1 -0.1)\">\r\n      <use xlink:href=\"#DejaVuSans-84\"/>\r\n      <use x=\"46.333984\" xlink:href=\"#DejaVuSans-114\"/>\r\n      <use x=\"87.447266\" xlink:href=\"#DejaVuSans-97\"/>\r\n      <use x=\"148.726562\" xlink:href=\"#DejaVuSans-105\"/>\r\n      <use x=\"176.509766\" xlink:href=\"#DejaVuSans-110\"/>\r\n      <use x=\"239.888672\" xlink:href=\"#DejaVuSans-32\"/>\r\n      <use x=\"271.675781\" xlink:href=\"#DejaVuSans-108\"/>\r\n      <use x=\"299.458984\" xlink:href=\"#DejaVuSans-111\"/>\r\n      <use x=\"360.640625\" xlink:href=\"#DejaVuSans-115\"/>\r\n      <use x=\"412.740234\" xlink:href=\"#DejaVuSans-115\"/>\r\n     </g>\r\n    </g>\r\n    <g id=\"line2d_17\">\r\n     <path d=\"M 301.68267 50.094688 \r\nL 321.68267 50.094688 \r\n\" style=\"fill:none;stroke:#ff7f0e;stroke-linecap:square;stroke-width:1.5;\"/>\r\n    </g>\r\n    <g id=\"line2d_18\"/>\r\n    <g id=\"text_15\">\r\n     <!-- Validation loss -->\r\n     <defs>\r\n      <path d=\"M 28.609375 0 \r\nL 0.78125 72.90625 \r\nL 11.078125 72.90625 \r\nL 34.1875 11.53125 \r\nL 57.328125 72.90625 \r\nL 67.578125 72.90625 \r\nL 39.796875 0 \r\nz\r\n\" id=\"DejaVuSans-86\"/>\r\n      <path d=\"M 45.40625 46.390625 \r\nL 45.40625 75.984375 \r\nL 54.390625 75.984375 \r\nL 54.390625 0 \r\nL 45.40625 0 \r\nL 45.40625 8.203125 \r\nQ 42.578125 3.328125 38.25 0.953125 \r\nQ 33.9375 -1.421875 27.875 -1.421875 \r\nQ 17.96875 -1.421875 11.734375 6.484375 \r\nQ 5.515625 14.40625 5.515625 27.296875 \r\nQ 5.515625 40.1875 11.734375 48.09375 \r\nQ 17.96875 56 27.875 56 \r\nQ 33.9375 56 38.25 53.625 \r\nQ 42.578125 51.265625 45.40625 46.390625 \r\nz\r\nM 14.796875 27.296875 \r\nQ 14.796875 17.390625 18.875 11.75 \r\nQ 22.953125 6.109375 30.078125 6.109375 \r\nQ 37.203125 6.109375 41.296875 11.75 \r\nQ 45.40625 17.390625 45.40625 27.296875 \r\nQ 45.40625 37.203125 41.296875 42.84375 \r\nQ 37.203125 48.484375 30.078125 48.484375 \r\nQ 22.953125 48.484375 18.875 42.84375 \r\nQ 14.796875 37.203125 14.796875 27.296875 \r\nz\r\n\" id=\"DejaVuSans-100\"/>\r\n      <path d=\"M 18.3125 70.21875 \r\nL 18.3125 54.6875 \r\nL 36.8125 54.6875 \r\nL 36.8125 47.703125 \r\nL 18.3125 47.703125 \r\nL 18.3125 18.015625 \r\nQ 18.3125 11.328125 20.140625 9.421875 \r\nQ 21.96875 7.515625 27.59375 7.515625 \r\nL 36.8125 7.515625 \r\nL 36.8125 0 \r\nL 27.59375 0 \r\nQ 17.1875 0 13.234375 3.875 \r\nQ 9.28125 7.765625 9.28125 18.015625 \r\nL 9.28125 47.703125 \r\nL 2.6875 47.703125 \r\nL 2.6875 54.6875 \r\nL 9.28125 54.6875 \r\nL 9.28125 70.21875 \r\nz\r\n\" id=\"DejaVuSans-116\"/>\r\n     </defs>\r\n     <g transform=\"translate(329.68267 53.594688)scale(0.1 -0.1)\">\r\n      <use xlink:href=\"#DejaVuSans-86\"/>\r\n      <use x=\"60.658203\" xlink:href=\"#DejaVuSans-97\"/>\r\n      <use x=\"121.9375\" xlink:href=\"#DejaVuSans-108\"/>\r\n      <use x=\"149.720703\" xlink:href=\"#DejaVuSans-105\"/>\r\n      <use x=\"177.503906\" xlink:href=\"#DejaVuSans-100\"/>\r\n      <use x=\"240.980469\" xlink:href=\"#DejaVuSans-97\"/>\r\n      <use x=\"302.259766\" xlink:href=\"#DejaVuSans-116\"/>\r\n      <use x=\"341.46875\" xlink:href=\"#DejaVuSans-105\"/>\r\n      <use x=\"369.251953\" xlink:href=\"#DejaVuSans-111\"/>\r\n      <use x=\"430.433594\" xlink:href=\"#DejaVuSans-110\"/>\r\n      <use x=\"493.8125\" xlink:href=\"#DejaVuSans-32\"/>\r\n      <use x=\"525.599609\" xlink:href=\"#DejaVuSans-108\"/>\r\n      <use x=\"553.382812\" xlink:href=\"#DejaVuSans-111\"/>\r\n      <use x=\"614.564453\" xlink:href=\"#DejaVuSans-115\"/>\r\n      <use x=\"666.664062\" xlink:href=\"#DejaVuSans-115\"/>\r\n     </g>\r\n    </g>\r\n   </g>\r\n  </g>\r\n  <g id=\"axes_2\">\r\n   <g id=\"patch_8\">\r\n    <path d=\"M 486.64858 294.118125 \r\nL 867.103125 294.118125 \r\nL 867.103125 22.318125 \r\nL 486.64858 22.318125 \r\nz\r\n\" style=\"fill:#ffffff;\"/>\r\n   </g>\r\n   <g id=\"matplotlib.axis_3\">\r\n    <g id=\"xtick_7\">\r\n     <g id=\"line2d_19\">\r\n      <g>\r\n       <use style=\"stroke:#000000;stroke-width:0.8;\" x=\"503.941968\" xlink:href=\"#m65ab8a40cf\" y=\"294.118125\"/>\r\n      </g>\r\n     </g>\r\n     <g id=\"text_16\">\r\n      <!-- 0 -->\r\n      <g transform=\"translate(500.760718 308.716563)scale(0.1 -0.1)\">\r\n       <use xlink:href=\"#DejaVuSans-48\"/>\r\n      </g>\r\n     </g>\r\n    </g>\r\n    <g id=\"xtick_8\">\r\n     <g id=\"line2d_20\">\r\n      <g>\r\n       <use style=\"stroke:#000000;stroke-width:0.8;\" x=\"566.827017\" xlink:href=\"#m65ab8a40cf\" y=\"294.118125\"/>\r\n      </g>\r\n     </g>\r\n     <g id=\"text_17\">\r\n      <!-- 10 -->\r\n      <g transform=\"translate(560.464517 308.716563)scale(0.1 -0.1)\">\r\n       <use xlink:href=\"#DejaVuSans-49\"/>\r\n       <use x=\"63.623047\" xlink:href=\"#DejaVuSans-48\"/>\r\n      </g>\r\n     </g>\r\n    </g>\r\n    <g id=\"xtick_9\">\r\n     <g id=\"line2d_21\">\r\n      <g>\r\n       <use style=\"stroke:#000000;stroke-width:0.8;\" x=\"629.712066\" xlink:href=\"#m65ab8a40cf\" y=\"294.118125\"/>\r\n      </g>\r\n     </g>\r\n     <g id=\"text_18\">\r\n      <!-- 20 -->\r\n      <g transform=\"translate(623.349566 308.716563)scale(0.1 -0.1)\">\r\n       <use xlink:href=\"#DejaVuSans-50\"/>\r\n       <use x=\"63.623047\" xlink:href=\"#DejaVuSans-48\"/>\r\n      </g>\r\n     </g>\r\n    </g>\r\n    <g id=\"xtick_10\">\r\n     <g id=\"line2d_22\">\r\n      <g>\r\n       <use style=\"stroke:#000000;stroke-width:0.8;\" x=\"692.597114\" xlink:href=\"#m65ab8a40cf\" y=\"294.118125\"/>\r\n      </g>\r\n     </g>\r\n     <g id=\"text_19\">\r\n      <!-- 30 -->\r\n      <g transform=\"translate(686.234614 308.716563)scale(0.1 -0.1)\">\r\n       <use xlink:href=\"#DejaVuSans-51\"/>\r\n       <use x=\"63.623047\" xlink:href=\"#DejaVuSans-48\"/>\r\n      </g>\r\n     </g>\r\n    </g>\r\n    <g id=\"xtick_11\">\r\n     <g id=\"line2d_23\">\r\n      <g>\r\n       <use style=\"stroke:#000000;stroke-width:0.8;\" x=\"755.482163\" xlink:href=\"#m65ab8a40cf\" y=\"294.118125\"/>\r\n      </g>\r\n     </g>\r\n     <g id=\"text_20\">\r\n      <!-- 40 -->\r\n      <g transform=\"translate(749.119663 308.716563)scale(0.1 -0.1)\">\r\n       <use xlink:href=\"#DejaVuSans-52\"/>\r\n       <use x=\"63.623047\" xlink:href=\"#DejaVuSans-48\"/>\r\n      </g>\r\n     </g>\r\n    </g>\r\n    <g id=\"xtick_12\">\r\n     <g id=\"line2d_24\">\r\n      <g>\r\n       <use style=\"stroke:#000000;stroke-width:0.8;\" x=\"818.367212\" xlink:href=\"#m65ab8a40cf\" y=\"294.118125\"/>\r\n      </g>\r\n     </g>\r\n     <g id=\"text_21\">\r\n      <!-- 50 -->\r\n      <g transform=\"translate(812.004712 308.716563)scale(0.1 -0.1)\">\r\n       <use xlink:href=\"#DejaVuSans-53\"/>\r\n       <use x=\"63.623047\" xlink:href=\"#DejaVuSans-48\"/>\r\n      </g>\r\n     </g>\r\n    </g>\r\n   </g>\r\n   <g id=\"matplotlib.axis_4\">\r\n    <g id=\"ytick_7\">\r\n     <g id=\"line2d_25\">\r\n      <g>\r\n       <use style=\"stroke:#000000;stroke-width:0.8;\" x=\"486.64858\" xlink:href=\"#m8b75c12f31\" y=\"266.155779\"/>\r\n      </g>\r\n     </g>\r\n     <g id=\"text_22\">\r\n      <!-- 0.1 -->\r\n      <g transform=\"translate(463.745455 269.954998)scale(0.1 -0.1)\">\r\n       <use xlink:href=\"#DejaVuSans-48\"/>\r\n       <use x=\"63.623047\" xlink:href=\"#DejaVuSans-46\"/>\r\n       <use x=\"95.410156\" xlink:href=\"#DejaVuSans-49\"/>\r\n      </g>\r\n     </g>\r\n    </g>\r\n    <g id=\"ytick_8\">\r\n     <g id=\"line2d_26\">\r\n      <g>\r\n       <use style=\"stroke:#000000;stroke-width:0.8;\" x=\"486.64858\" xlink:href=\"#m8b75c12f31\" y=\"233.188808\"/>\r\n      </g>\r\n     </g>\r\n     <g id=\"text_23\">\r\n      <!-- 0.2 -->\r\n      <g transform=\"translate(463.745455 236.988027)scale(0.1 -0.1)\">\r\n       <use xlink:href=\"#DejaVuSans-48\"/>\r\n       <use x=\"63.623047\" xlink:href=\"#DejaVuSans-46\"/>\r\n       <use x=\"95.410156\" xlink:href=\"#DejaVuSans-50\"/>\r\n      </g>\r\n     </g>\r\n    </g>\r\n    <g id=\"ytick_9\">\r\n     <g id=\"line2d_27\">\r\n      <g>\r\n       <use style=\"stroke:#000000;stroke-width:0.8;\" x=\"486.64858\" xlink:href=\"#m8b75c12f31\" y=\"200.221837\"/>\r\n      </g>\r\n     </g>\r\n     <g id=\"text_24\">\r\n      <!-- 0.3 -->\r\n      <g transform=\"translate(463.745455 204.021055)scale(0.1 -0.1)\">\r\n       <use xlink:href=\"#DejaVuSans-48\"/>\r\n       <use x=\"63.623047\" xlink:href=\"#DejaVuSans-46\"/>\r\n       <use x=\"95.410156\" xlink:href=\"#DejaVuSans-51\"/>\r\n      </g>\r\n     </g>\r\n    </g>\r\n    <g id=\"ytick_10\">\r\n     <g id=\"line2d_28\">\r\n      <g>\r\n       <use style=\"stroke:#000000;stroke-width:0.8;\" x=\"486.64858\" xlink:href=\"#m8b75c12f31\" y=\"167.254866\"/>\r\n      </g>\r\n     </g>\r\n     <g id=\"text_25\">\r\n      <!-- 0.4 -->\r\n      <g transform=\"translate(463.745455 171.054084)scale(0.1 -0.1)\">\r\n       <use xlink:href=\"#DejaVuSans-48\"/>\r\n       <use x=\"63.623047\" xlink:href=\"#DejaVuSans-46\"/>\r\n       <use x=\"95.410156\" xlink:href=\"#DejaVuSans-52\"/>\r\n      </g>\r\n     </g>\r\n    </g>\r\n    <g id=\"ytick_11\">\r\n     <g id=\"line2d_29\">\r\n      <g>\r\n       <use style=\"stroke:#000000;stroke-width:0.8;\" x=\"486.64858\" xlink:href=\"#m8b75c12f31\" y=\"134.287894\"/>\r\n      </g>\r\n     </g>\r\n     <g id=\"text_26\">\r\n      <!-- 0.5 -->\r\n      <g transform=\"translate(463.745455 138.087113)scale(0.1 -0.1)\">\r\n       <use xlink:href=\"#DejaVuSans-48\"/>\r\n       <use x=\"63.623047\" xlink:href=\"#DejaVuSans-46\"/>\r\n       <use x=\"95.410156\" xlink:href=\"#DejaVuSans-53\"/>\r\n      </g>\r\n     </g>\r\n    </g>\r\n    <g id=\"ytick_12\">\r\n     <g id=\"line2d_30\">\r\n      <g>\r\n       <use style=\"stroke:#000000;stroke-width:0.8;\" x=\"486.64858\" xlink:href=\"#m8b75c12f31\" y=\"101.320923\"/>\r\n      </g>\r\n     </g>\r\n     <g id=\"text_27\">\r\n      <!-- 0.6 -->\r\n      <defs>\r\n       <path d=\"M 33.015625 40.375 \r\nQ 26.375 40.375 22.484375 35.828125 \r\nQ 18.609375 31.296875 18.609375 23.390625 \r\nQ 18.609375 15.53125 22.484375 10.953125 \r\nQ 26.375 6.390625 33.015625 6.390625 \r\nQ 39.65625 6.390625 43.53125 10.953125 \r\nQ 47.40625 15.53125 47.40625 23.390625 \r\nQ 47.40625 31.296875 43.53125 35.828125 \r\nQ 39.65625 40.375 33.015625 40.375 \r\nz\r\nM 52.59375 71.296875 \r\nL 52.59375 62.3125 \r\nQ 48.875 64.0625 45.09375 64.984375 \r\nQ 41.3125 65.921875 37.59375 65.921875 \r\nQ 27.828125 65.921875 22.671875 59.328125 \r\nQ 17.53125 52.734375 16.796875 39.40625 \r\nQ 19.671875 43.65625 24.015625 45.921875 \r\nQ 28.375 48.1875 33.59375 48.1875 \r\nQ 44.578125 48.1875 50.953125 41.515625 \r\nQ 57.328125 34.859375 57.328125 23.390625 \r\nQ 57.328125 12.15625 50.6875 5.359375 \r\nQ 44.046875 -1.421875 33.015625 -1.421875 \r\nQ 20.359375 -1.421875 13.671875 8.265625 \r\nQ 6.984375 17.96875 6.984375 36.375 \r\nQ 6.984375 53.65625 15.1875 63.9375 \r\nQ 23.390625 74.21875 37.203125 74.21875 \r\nQ 40.921875 74.21875 44.703125 73.484375 \r\nQ 48.484375 72.75 52.59375 71.296875 \r\nz\r\n\" id=\"DejaVuSans-54\"/>\r\n      </defs>\r\n      <g transform=\"translate(463.745455 105.120142)scale(0.1 -0.1)\">\r\n       <use xlink:href=\"#DejaVuSans-48\"/>\r\n       <use x=\"63.623047\" xlink:href=\"#DejaVuSans-46\"/>\r\n       <use x=\"95.410156\" xlink:href=\"#DejaVuSans-54\"/>\r\n      </g>\r\n     </g>\r\n    </g>\r\n    <g id=\"ytick_13\">\r\n     <g id=\"line2d_31\">\r\n      <g>\r\n       <use style=\"stroke:#000000;stroke-width:0.8;\" x=\"486.64858\" xlink:href=\"#m8b75c12f31\" y=\"68.353952\"/>\r\n      </g>\r\n     </g>\r\n     <g id=\"text_28\">\r\n      <!-- 0.7 -->\r\n      <defs>\r\n       <path d=\"M 8.203125 72.90625 \r\nL 55.078125 72.90625 \r\nL 55.078125 68.703125 \r\nL 28.609375 0 \r\nL 18.3125 0 \r\nL 43.21875 64.59375 \r\nL 8.203125 64.59375 \r\nz\r\n\" id=\"DejaVuSans-55\"/>\r\n      </defs>\r\n      <g transform=\"translate(463.745455 72.153171)scale(0.1 -0.1)\">\r\n       <use xlink:href=\"#DejaVuSans-48\"/>\r\n       <use x=\"63.623047\" xlink:href=\"#DejaVuSans-46\"/>\r\n       <use x=\"95.410156\" xlink:href=\"#DejaVuSans-55\"/>\r\n      </g>\r\n     </g>\r\n    </g>\r\n    <g id=\"ytick_14\">\r\n     <g id=\"line2d_32\">\r\n      <g>\r\n       <use style=\"stroke:#000000;stroke-width:0.8;\" x=\"486.64858\" xlink:href=\"#m8b75c12f31\" y=\"35.386981\"/>\r\n      </g>\r\n     </g>\r\n     <g id=\"text_29\">\r\n      <!-- 0.8 -->\r\n      <defs>\r\n       <path d=\"M 31.78125 34.625 \r\nQ 24.75 34.625 20.71875 30.859375 \r\nQ 16.703125 27.09375 16.703125 20.515625 \r\nQ 16.703125 13.921875 20.71875 10.15625 \r\nQ 24.75 6.390625 31.78125 6.390625 \r\nQ 38.8125 6.390625 42.859375 10.171875 \r\nQ 46.921875 13.96875 46.921875 20.515625 \r\nQ 46.921875 27.09375 42.890625 30.859375 \r\nQ 38.875 34.625 31.78125 34.625 \r\nz\r\nM 21.921875 38.8125 \r\nQ 15.578125 40.375 12.03125 44.71875 \r\nQ 8.5 49.078125 8.5 55.328125 \r\nQ 8.5 64.0625 14.71875 69.140625 \r\nQ 20.953125 74.21875 31.78125 74.21875 \r\nQ 42.671875 74.21875 48.875 69.140625 \r\nQ 55.078125 64.0625 55.078125 55.328125 \r\nQ 55.078125 49.078125 51.53125 44.71875 \r\nQ 48 40.375 41.703125 38.8125 \r\nQ 48.828125 37.15625 52.796875 32.3125 \r\nQ 56.78125 27.484375 56.78125 20.515625 \r\nQ 56.78125 9.90625 50.3125 4.234375 \r\nQ 43.84375 -1.421875 31.78125 -1.421875 \r\nQ 19.734375 -1.421875 13.25 4.234375 \r\nQ 6.78125 9.90625 6.78125 20.515625 \r\nQ 6.78125 27.484375 10.78125 32.3125 \r\nQ 14.796875 37.15625 21.921875 38.8125 \r\nz\r\nM 18.3125 54.390625 \r\nQ 18.3125 48.734375 21.84375 45.5625 \r\nQ 25.390625 42.390625 31.78125 42.390625 \r\nQ 38.140625 42.390625 41.71875 45.5625 \r\nQ 45.3125 48.734375 45.3125 54.390625 \r\nQ 45.3125 60.0625 41.71875 63.234375 \r\nQ 38.140625 66.40625 31.78125 66.40625 \r\nQ 25.390625 66.40625 21.84375 63.234375 \r\nQ 18.3125 60.0625 18.3125 54.390625 \r\nz\r\n\" id=\"DejaVuSans-56\"/>\r\n      </defs>\r\n      <g transform=\"translate(463.745455 39.186199)scale(0.1 -0.1)\">\r\n       <use xlink:href=\"#DejaVuSans-48\"/>\r\n       <use x=\"63.623047\" xlink:href=\"#DejaVuSans-46\"/>\r\n       <use x=\"95.410156\" xlink:href=\"#DejaVuSans-56\"/>\r\n      </g>\r\n     </g>\r\n    </g>\r\n   </g>\r\n   <g id=\"line2d_33\">\r\n    <path clip-path=\"url(#p54eac50bec)\" d=\"M 503.941968 281.76358 \r\nL 510.230473 263.044906 \r\nL 516.518978 256.574753 \r\nL 522.807483 252.505393 \r\nL 529.095988 246.890705 \r\nL 535.384492 231.02535 \r\nL 541.672997 226.397684 \r\nL 547.961502 217.941584 \r\nL 554.250007 206.969764 \r\nL 560.538512 196.97665 \r\nL 566.827017 191.516496 \r\nL 573.115522 194.916215 \r\nL 579.404027 182.089744 \r\nL 585.692531 172.766531 \r\nL 591.981036 163.906658 \r\nL 598.269541 153.346925 \r\nL 604.558046 146.0119 \r\nL 610.846551 137.172504 \r\nL 617.135056 128.776229 \r\nL 623.423561 122.337367 \r\nL 629.712066 115.383397 \r\nL 636.000571 111.674613 \r\nL 642.289075 101.341628 \r\nL 648.57758 95.860769 \r\nL 654.866085 94.871426 \r\nL 661.15459 91.585364 \r\nL 667.443095 89.627951 \r\nL 673.7316 84.42535 \r\nL 680.020105 83.069778 \r\nL 686.30861 78.65613 \r\nL 692.597114 72.577845 \r\nL 698.885619 71.805182 \r\nL 705.174124 56.300403 \r\nL 711.462629 53.979752 \r\nL 717.751134 55.218674 \r\nL 724.039639 47.285997 \r\nL 730.328144 45.17405 \r\nL 736.616649 48.234213 \r\nL 742.905154 45.586137 \r\nL 749.193658 44.55592 \r\nL 755.482163 43.525702 \r\nL 761.770668 43.680234 \r\nL 768.059173 42.546995 \r\nL 774.347678 38.917123 \r\nL 780.636183 39.97145 \r\nL 786.924688 40.898646 \r\nL 793.213193 37.601949 \r\nL 799.501698 40.435048 \r\nL 805.790202 35.799068 \r\nL 812.078707 39.072408 \r\nL 818.367212 34.67267 \r\nL 824.655717 37.756482 \r\nL 830.944222 37.498927 \r\nL 837.232727 36.932307 \r\nL 843.521232 37.704971 \r\nL 849.809737 38.941232 \r\n\" style=\"fill:none;stroke:#1f77b4;stroke-linecap:square;stroke-width:1.5;\"/>\r\n   </g>\r\n   <g id=\"line2d_34\">\r\n    <path clip-path=\"url(#p54eac50bec)\" d=\"M 503.941968 269.400965 \r\nL 510.230473 244.409634 \r\nL 516.518978 250.547979 \r\nL 522.807483 269.396321 \r\nL 529.095988 264.507431 \r\nL 535.384492 259.092532 \r\nL 541.672997 212.738984 \r\nL 547.961502 203.091442 \r\nL 554.250007 219.898998 \r\nL 560.538512 190.057149 \r\nL 566.827017 191.568007 \r\nL 573.115522 178.36235 \r\nL 579.404027 185.644254 \r\nL 585.692531 180.26855 \r\nL 591.981036 201.767163 \r\nL 598.269541 157.497178 \r\nL 604.558046 134.390916 \r\nL 610.846551 161.155023 \r\nL 617.135056 128.982272 \r\nL 623.423561 125.967585 \r\nL 629.712066 155.149806 \r\nL 636.000571 100.774822 \r\nL 642.289075 116.310593 \r\nL 648.57758 118.394301 \r\nL 654.866085 110.283818 \r\nL 661.15459 83.979647 \r\nL 667.443095 82.004338 \r\nL 673.7316 135.910741 \r\nL 680.020105 132.227459 \r\nL 686.30861 107.317728 \r\nL 692.597114 112.189721 \r\nL 698.885619 82.84623 \r\nL 705.174124 74.741303 \r\nL 711.462629 73.006112 \r\nL 717.751134 74.174683 \r\nL 724.039639 67.854218 \r\nL 730.328144 63.784222 \r\nL 736.616649 71.650649 \r\nL 742.905154 88.101163 \r\nL 749.193658 65.314809 \r\nL 755.482163 72.336366 \r\nL 761.770668 69.538702 \r\nL 768.059173 65.278271 \r\nL 774.347678 61.91509 \r\nL 780.636183 64.144854 \r\nL 786.924688 68.611506 \r\nL 793.213193 69.090673 \r\nL 799.501698 68.456974 \r\nL 805.790202 73.830416 \r\nL 812.078707 69.023594 \r\nL 818.367212 67.596623 \r\nL 824.655717 69.229637 \r\nL 830.944222 63.88726 \r\nL 837.232727 69.126615 \r\nL 843.521232 67.442067 \r\nL 849.809737 69.023594 \r\n\" style=\"fill:none;stroke:#ff7f0e;stroke-linecap:square;stroke-width:1.5;\"/>\r\n   </g>\r\n   <g id=\"patch_9\">\r\n    <path d=\"M 486.64858 294.118125 \r\nL 486.64858 22.318125 \r\n\" style=\"fill:none;stroke:#000000;stroke-linecap:square;stroke-linejoin:miter;stroke-width:0.8;\"/>\r\n   </g>\r\n   <g id=\"patch_10\">\r\n    <path d=\"M 867.103125 294.118125 \r\nL 867.103125 22.318125 \r\n\" style=\"fill:none;stroke:#000000;stroke-linecap:square;stroke-linejoin:miter;stroke-width:0.8;\"/>\r\n   </g>\r\n   <g id=\"patch_11\">\r\n    <path d=\"M 486.64858 294.118125 \r\nL 867.103125 294.118125 \r\n\" style=\"fill:none;stroke:#000000;stroke-linecap:square;stroke-linejoin:miter;stroke-width:0.8;\"/>\r\n   </g>\r\n   <g id=\"patch_12\">\r\n    <path d=\"M 486.64858 22.318125 \r\nL 867.103125 22.318125 \r\n\" style=\"fill:none;stroke:#000000;stroke-linecap:square;stroke-linejoin:miter;stroke-width:0.8;\"/>\r\n   </g>\r\n   <g id=\"text_30\">\r\n    <!-- acc -->\r\n    <defs>\r\n     <path d=\"M 48.78125 52.59375 \r\nL 48.78125 44.1875 \r\nQ 44.96875 46.296875 41.140625 47.34375 \r\nQ 37.3125 48.390625 33.40625 48.390625 \r\nQ 24.65625 48.390625 19.8125 42.84375 \r\nQ 14.984375 37.3125 14.984375 27.296875 \r\nQ 14.984375 17.28125 19.8125 11.734375 \r\nQ 24.65625 6.203125 33.40625 6.203125 \r\nQ 37.3125 6.203125 41.140625 7.25 \r\nQ 44.96875 8.296875 48.78125 10.40625 \r\nL 48.78125 2.09375 \r\nQ 45.015625 0.34375 40.984375 -0.53125 \r\nQ 36.96875 -1.421875 32.421875 -1.421875 \r\nQ 20.0625 -1.421875 12.78125 6.34375 \r\nQ 5.515625 14.109375 5.515625 27.296875 \r\nQ 5.515625 40.671875 12.859375 48.328125 \r\nQ 20.21875 56 33.015625 56 \r\nQ 37.15625 56 41.109375 55.140625 \r\nQ 45.0625 54.296875 48.78125 52.59375 \r\nz\r\n\" id=\"DejaVuSans-99\"/>\r\n    </defs>\r\n    <g transform=\"translate(666.600852 16.318125)scale(0.12 -0.12)\">\r\n     <use xlink:href=\"#DejaVuSans-97\"/>\r\n     <use x=\"61.279297\" xlink:href=\"#DejaVuSans-99\"/>\r\n     <use x=\"116.259766\" xlink:href=\"#DejaVuSans-99\"/>\r\n    </g>\r\n   </g>\r\n   <g id=\"legend_2\">\r\n    <g id=\"patch_13\">\r\n     <path d=\"M 493.64858 59.674375 \r\nL 595.332955 59.674375 \r\nQ 597.332955 59.674375 597.332955 57.674375 \r\nL 597.332955 29.318125 \r\nQ 597.332955 27.318125 595.332955 27.318125 \r\nL 493.64858 27.318125 \r\nQ 491.64858 27.318125 491.64858 29.318125 \r\nL 491.64858 57.674375 \r\nQ 491.64858 59.674375 493.64858 59.674375 \r\nz\r\n\" style=\"fill:#ffffff;opacity:0.8;stroke:#cccccc;stroke-linejoin:miter;\"/>\r\n    </g>\r\n    <g id=\"line2d_35\">\r\n     <path d=\"M 495.64858 35.416562 \r\nL 515.64858 35.416562 \r\n\" style=\"fill:none;stroke:#1f77b4;stroke-linecap:square;stroke-width:1.5;\"/>\r\n    </g>\r\n    <g id=\"line2d_36\"/>\r\n    <g id=\"text_31\">\r\n     <!-- Train acc -->\r\n     <g transform=\"translate(523.64858 38.916562)scale(0.1 -0.1)\">\r\n      <use xlink:href=\"#DejaVuSans-84\"/>\r\n      <use x=\"46.333984\" xlink:href=\"#DejaVuSans-114\"/>\r\n      <use x=\"87.447266\" xlink:href=\"#DejaVuSans-97\"/>\r\n      <use x=\"148.726562\" xlink:href=\"#DejaVuSans-105\"/>\r\n      <use x=\"176.509766\" xlink:href=\"#DejaVuSans-110\"/>\r\n      <use x=\"239.888672\" xlink:href=\"#DejaVuSans-32\"/>\r\n      <use x=\"271.675781\" xlink:href=\"#DejaVuSans-97\"/>\r\n      <use x=\"332.955078\" xlink:href=\"#DejaVuSans-99\"/>\r\n      <use x=\"387.935547\" xlink:href=\"#DejaVuSans-99\"/>\r\n     </g>\r\n    </g>\r\n    <g id=\"line2d_37\">\r\n     <path d=\"M 495.64858 50.094688 \r\nL 515.64858 50.094688 \r\n\" style=\"fill:none;stroke:#ff7f0e;stroke-linecap:square;stroke-width:1.5;\"/>\r\n    </g>\r\n    <g id=\"line2d_38\"/>\r\n    <g id=\"text_32\">\r\n     <!-- Validation acc -->\r\n     <g transform=\"translate(523.64858 53.594688)scale(0.1 -0.1)\">\r\n      <use xlink:href=\"#DejaVuSans-86\"/>\r\n      <use x=\"60.658203\" xlink:href=\"#DejaVuSans-97\"/>\r\n      <use x=\"121.9375\" xlink:href=\"#DejaVuSans-108\"/>\r\n      <use x=\"149.720703\" xlink:href=\"#DejaVuSans-105\"/>\r\n      <use x=\"177.503906\" xlink:href=\"#DejaVuSans-100\"/>\r\n      <use x=\"240.980469\" xlink:href=\"#DejaVuSans-97\"/>\r\n      <use x=\"302.259766\" xlink:href=\"#DejaVuSans-116\"/>\r\n      <use x=\"341.46875\" xlink:href=\"#DejaVuSans-105\"/>\r\n      <use x=\"369.251953\" xlink:href=\"#DejaVuSans-111\"/>\r\n      <use x=\"430.433594\" xlink:href=\"#DejaVuSans-110\"/>\r\n      <use x=\"493.8125\" xlink:href=\"#DejaVuSans-32\"/>\r\n      <use x=\"525.599609\" xlink:href=\"#DejaVuSans-97\"/>\r\n      <use x=\"586.878906\" xlink:href=\"#DejaVuSans-99\"/>\r\n      <use x=\"641.859375\" xlink:href=\"#DejaVuSans-99\"/>\r\n     </g>\r\n    </g>\r\n   </g>\r\n  </g>\r\n </g>\r\n <defs>\r\n  <clipPath id=\"p5c8dc6e43d\">\r\n   <rect height=\"271.8\" width=\"380.454545\" x=\"30.103125\" y=\"22.318125\"/>\r\n  </clipPath>\r\n  <clipPath id=\"p54eac50bec\">\r\n   <rect height=\"271.8\" width=\"380.454545\" x=\"486.64858\" y=\"22.318125\"/>\r\n  </clipPath>\r\n </defs>\r\n</svg>\r\n",
      "image/png": "[encoded data removed]"
     },
     "metadata": {
      "needs_background": "light"
     }
    }
   ],
   "source": [
    "show_final_history(history)"
   ]
  },
  {
   "source": [
    "We can try and test the model on random new images"
   ],
   "cell_type": "markdown",
   "metadata": {}
  },
  {
   "cell_type": "code",
   "execution_count": 12,
   "metadata": {},
   "outputs": [
    {
     "output_type": "stream",
     "name": "stdout",
     "text": [
      "_________________________________________________________________\nLayer (type)                 Output Shape              Param #   \n=================================================================\nconv2d_1 (Conv2D)            (None, 198, 198, 32)      896       \n_________________________________________________________________\nconv2d_2 (Conv2D)            (None, 196, 196, 32)      9248      \n_________________________________________________________________\nmax_pooling2d_1 (MaxPooling2 (None, 98, 98, 32)        0         \n_________________________________________________________________\nconv2d_3 (Conv2D)            (None, 96, 96, 64)        18496     \n_________________________________________________________________\nconv2d_4 (Conv2D)            (None, 94, 94, 64)        36928     \n_________________________________________________________________\nmax_pooling2d_2 (MaxPooling2 (None, 47, 47, 64)        0         \n_________________________________________________________________\nconv2d_5 (Conv2D)            (None, 45, 45, 128)       73856     \n_________________________________________________________________\nconv2d_6 (Conv2D)            (None, 43, 43, 128)       147584    \n_________________________________________________________________\nmax_pooling2d_3 (MaxPooling2 (None, 21, 21, 128)       0         \n_________________________________________________________________\nconv2d_7 (Conv2D)            (None, 19, 19, 256)       295168    \n_________________________________________________________________\nconv2d_8 (Conv2D)            (None, 17, 17, 256)       590080    \n_________________________________________________________________\nmax_pooling2d_4 (MaxPooling2 (None, 8, 8, 256)         0         \n_________________________________________________________________\nflatten_1 (Flatten)          (None, 16384)             0         \n_________________________________________________________________\ndense_1 (Dense)              (None, 512)               8389120   \n_________________________________________________________________\ndropout_1 (Dropout)          (None, 512)               0         \n_________________________________________________________________\ndense_2 (Dense)              (None, 256)               131328    \n_________________________________________________________________\ndropout_2 (Dropout)          (None, 256)               0         \n_________________________________________________________________\ndense_3 (Dense)              (None, 27)                6939      \n=================================================================\nTotal params: 9,699,643\nTrainable params: 9,699,643\nNon-trainable params: 0\n_________________________________________________________________\n"
     ]
    }
   ],
   "source": [
    "#image_path = \"../../LEGO_brick_images_v1/2357 Brick corner 1x2x2/201706171206-0001.png\"\n",
    "image_path = \"../../LEGO_brick_images_v1/3004 Brick 1x2/0003.png\"\n",
    "image = cv2.imread(image_path)\n",
    "\n",
    "from numpy import array\n",
    "json_file = open(\"./model/lego.json\", \"r\")\n",
    "json_model = json_file.read()\n",
    "json_file.close()\n",
    "\n",
    "loaded_model = keras.models.model_from_json(json_model)\n",
    "loaded_model.load_weights(\"./model/lego_weights.h5\")\n",
    "\n",
    "loaded_model.summary()\n",
    "image = np.expand_dims(image, axis=0)\n",
    "prediction = loaded_model.predict_classes(image)"
   ]
  },
  {
   "cell_type": "code",
   "execution_count": 13,
   "metadata": {},
   "outputs": [
    {
     "output_type": "execute_result",
     "data": {
      "text/plain": [
       "26"
      ]
     },
     "metadata": {},
     "execution_count": 13
    }
   ],
   "source": [
    "prediction[0]"
   ]
  }
 ]
}