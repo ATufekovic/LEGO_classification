{
 "metadata": {
  "language_info": {
   "codemirror_mode": {
    "name": "ipython",
    "version": 3
   },
   "file_extension": ".py",
   "mimetype": "text/x-python",
   "name": "python",
   "nbconvert_exporter": "python",
   "pygments_lexer": "ipython3",
   "version": "3.8.5"
  },
  "orig_nbformat": 2,
  "kernelspec": {
   "name": "python385jvsc74a57bd01be82cbc1da380265000860db7feb3f340f4286ff3533eb46c358526ea8a1b67",
   "display_name": "Python 3.8.5 64-bit ('base': conda)"
  },
  "metadata": {
   "interpreter": {
    "hash": "63fd5069d213b44bf678585dea6b12cceca9941eaf7f819626cde1f2670de90d"
   }
  }
 },
 "nbformat": 4,
 "nbformat_minor": 2,
 "cells": [
  {
   "source": [
    "## Diplomski rad - Klasificiranje LEGO kocaka koristeći neuronske mreže"
   ],
   "cell_type": "markdown",
   "metadata": {}
  },
  {
   "source": [
    "Rad se izvodi koristeći PlaidML za AMD GPU preko Keras-a"
   ],
   "cell_type": "markdown",
   "metadata": {}
  },
  {
   "cell_type": "code",
   "execution_count": 1,
   "metadata": {},
   "outputs": [],
   "source": [
    "import os\n",
    "os.environ[\"KERAS_BACKEND\"] = \"plaidml.keras.backend\""
   ]
  },
  {
   "source": [
    "Promijene vezane za PlaidML se mogu izvesti sa pokretanjem `plaidml-setup` u powershell-u\n",
    "\n",
    "Sve sljedece linije ce se spominjati na Engleskom jeziku"
   ],
   "cell_type": "markdown",
   "metadata": {}
  },
  {
   "cell_type": "code",
   "execution_count": 2,
   "metadata": {},
   "outputs": [
    {
     "output_type": "stream",
     "name": "stderr",
     "text": [
      "Using plaidml.keras.backend backend.\n"
     ]
    }
   ],
   "source": [
    "import numpy as np\n",
    "import pandas as pd\n",
    "import keras\n",
    "from keras import layers\n",
    "from matplotlib import pyplot as plt"
   ]
  },
  {
   "cell_type": "code",
   "execution_count": 3,
   "metadata": {},
   "outputs": [
    {
     "output_type": "stream",
     "name": "stderr",
     "text": [
      "INFO:plaidml:Opening device \"opencl_amd_ellesmere.0\"\n",
      "_________________________________________________________________\n",
      "Layer (type)                 Output Shape              Param #   \n",
      "=================================================================\n",
      "test_model (InputLayer)      (None, 400, 400, 3)       0         \n",
      "_________________________________________________________________\n",
      "conv2d_1 (Conv2D)            (None, 398, 398, 20)      560       \n",
      "_________________________________________________________________\n",
      "conv2d_2 (Conv2D)            (None, 396, 396, 40)      7240      \n",
      "_________________________________________________________________\n",
      "max_pooling2d_1 (MaxPooling2 (None, 132, 132, 40)      0         \n",
      "_________________________________________________________________\n",
      "conv2d_3 (Conv2D)            (None, 130, 130, 20)      7220      \n",
      "_________________________________________________________________\n",
      "conv2d_4 (Conv2D)            (None, 128, 128, 40)      7240      \n",
      "_________________________________________________________________\n",
      "global_max_pooling2d_1 (Glob (None, 40)                0         \n",
      "=================================================================\n",
      "Total params: 22,260\n",
      "Trainable params: 22,260\n",
      "Non-trainable params: 0\n",
      "_________________________________________________________________\n"
     ]
    }
   ],
   "source": [
    "inputs = keras.Input(shape=(400,400,3), name=\"test_model\")\n",
    "x = layers.Conv2D(20,3, activation=\"relu\")(inputs)\n",
    "x = layers.Conv2D(40,3, activation=\"relu\")(x)\n",
    "x = layers.MaxPooling2D(3)(x)\n",
    "x = layers.Conv2D(20,3, activation=\"relu\")(x)\n",
    "x = layers.Conv2D(40,3, activation=\"relu\")(x)\n",
    "outputs = layers.GlobalMaxPooling2D()(x)\n",
    "\n",
    "model = keras.Model(inputs=inputs, outputs=outputs, name=\"test_model\")\n",
    "model.summary()"
   ]
  },
  {
   "source": [
    "difficulties in executing the next line may lie in `pydot.py` line 117, which can be commented\n",
    "\n",
    "\"`program += extension`\" to \"`# program += extension`\""
   ],
   "cell_type": "markdown",
   "metadata": {}
  },
  {
   "cell_type": "code",
   "execution_count": 4,
   "metadata": {},
   "outputs": [],
   "source": [
    "keras.utils.plot_model(model, \"oof.png\")"
   ]
  },
  {
   "source": [
    "models can be saved and loaded via\n",
    "\n",
    "    model.save(\"path_to_my_model\")\n",
    "and\n",
    "    # Recreate the exact same model purely from the file:\n",
    "    model = keras.models.load_model(\"path_to_my_model\")"
   ],
   "cell_type": "markdown",
   "metadata": {}
  },
  {
   "source": [],
   "cell_type": "markdown",
   "metadata": {}
  }
 ]
}